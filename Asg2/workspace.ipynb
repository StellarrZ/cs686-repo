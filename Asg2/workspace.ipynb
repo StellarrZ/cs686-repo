{
 "metadata": {
  "language_info": {
   "codemirror_mode": {
    "name": "ipython",
    "version": 3
   },
   "file_extension": ".py",
   "mimetype": "text/x-python",
   "name": "python",
   "nbconvert_exporter": "python",
   "pygments_lexer": "ipython3",
   "version": "3.9.5"
  },
  "orig_nbformat": 4,
  "kernelspec": {
   "name": "python3",
   "display_name": "Python 3.9.5 64-bit ('local')"
  },
  "interpreter": {
   "hash": "aee8b7b246df8f9039afb4144a1f6fd8d2ca17a180786b69acc140d282b71a49"
  }
 },
 "nbformat": 4,
 "nbformat_minor": 2,
 "cells": [
  {
   "cell_type": "code",
   "execution_count": 22,
   "metadata": {},
   "outputs": [],
   "source": [
    "from typing import List"
   ]
  },
  {
   "cell_type": "code",
   "execution_count": 23,
   "metadata": {},
   "outputs": [
    {
     "output_type": "execute_result",
     "data": {
      "text/plain": [
       "'/Users/ze/CS686/cs686-repo/Asg2'"
      ]
     },
     "metadata": {},
     "execution_count": 23
    }
   ],
   "source": [
    "import os\n",
    "os.getcwd()"
   ]
  },
  {
   "cell_type": "code",
   "execution_count": 24,
   "metadata": {},
   "outputs": [],
   "source": [
    "import csv\n",
    "import math\n",
    "from math import *\n",
    "import numpy as np  # numpy==1.19.2\n",
    "\n",
    "import dt_global"
   ]
  },
  {
   "cell_type": "code",
   "execution_count": 25,
   "metadata": {},
   "outputs": [],
   "source": [
    "def read_data(file_path: str):\n",
    "    \"\"\"\n",
    "    Reads data from file_path, \n",
    "\n",
    "    :param file_path: The name of the data file.\n",
    "    :type filename: str\n",
    "    :return: A 2d data array consisting of examples \n",
    "    :rtype: List[List[int or float]]\n",
    "    \"\"\"\n",
    "    data_array = []\n",
    "    with open(file_path, 'r') as csv_file:\n",
    "        # read csv_file into a 2d array\n",
    "        reader = csv.reader(csv_file)\n",
    "        for row in reader:\n",
    "            data_array.append(row)\n",
    "\n",
    "        # set global variables\n",
    "        dt_global.feature_names = data_array[0]\n",
    "        dt_global.label_index = len(dt_global.feature_names) - 1\n",
    "\n",
    "        # exclude feature name row\n",
    "        data_array = data_array[1:]\n",
    "        dt_global.num_label_values = len(set(np.array(data_array)[:, -1]))\n",
    "\n",
    "        # change the input feature values to floats\n",
    "        for example in data_array:\n",
    "            for i in range(len(dt_global.feature_names) - 1):  # exclude the label column\n",
    "                example[i] = float(example[i])\n",
    "\n",
    "        # convert the label values to int\n",
    "        for example in data_array:\n",
    "            example[-1] = int(example[-1])\n",
    "\n",
    "        return data_array"
   ]
  },
  {
   "cell_type": "code",
   "execution_count": 26,
   "metadata": {},
   "outputs": [],
   "source": [
    "def preprocess(data_array, folds_num=10):\n",
    "    \"\"\"\n",
    "    Divides data_array into folds_num sets for cross validation. \n",
    "    Each fold has an approximately equal number of examples.\n",
    "\n",
    "    :param data_array: a set of examples\n",
    "    :type data_array: List[List[Any]]\n",
    "    :param folds_num: the number of folds\n",
    "    :type folds_num: int, default 10\n",
    "    :return: a list of sets of length folds_num\n",
    "    Each set contains the set of data for the corrresponding fold.\n",
    "    :rtype: List[List[List[Any]]]\n",
    "    \"\"\"\n",
    "    fold_size = math.floor(len(data_array) / folds_num)\n",
    "\n",
    "    folds = []\n",
    "    for i in range(folds_num):\n",
    "\n",
    "        if i == folds_num - 1:\n",
    "            folds.append(data_array[i * fold_size:])\n",
    "        else:\n",
    "            folds.append(data_array[i * fold_size: (i + 1) * fold_size])\n",
    "\n",
    "    return folds"
   ]
  },
  {
   "cell_type": "code",
   "execution_count": 27,
   "metadata": {},
   "outputs": [],
   "source": [
    "data = read_data(\"./data.csv\")"
   ]
  },
  {
   "cell_type": "code",
   "execution_count": 28,
   "metadata": {},
   "outputs": [
    {
     "output_type": "execute_result",
     "data": {
      "text/plain": [
       "[[0.63, 0.56, 0.52, 0.21, 0.5, 0.0, 0.5, 0.22, 0],\n",
       " [0.59, 0.6, 0.49, 0.43, 0.5, 0.0, 0.53, 0.31, 6],\n",
       " [0.61, 0.39, 0.53, 0.14, 0.5, 0.0, 0.43, 0.26, 7],\n",
       " [0.57, 0.52, 0.46, 0.2, 0.5, 0.83, 0.52, 0.41, 8],\n",
       " [0.59, 0.48, 0.5, 0.14, 0.5, 0.0, 0.45, 0.25, 0]]"
      ]
     },
     "metadata": {},
     "execution_count": 28
    }
   ],
   "source": [
    "data[:5]"
   ]
  },
  {
   "cell_type": "code",
   "execution_count": 29,
   "metadata": {},
   "outputs": [
    {
     "output_type": "execute_result",
     "data": {
      "text/plain": [
       "['mcg', 'gvh', 'alm', 'mit', 'erl', 'pox', 'vac', 'nuc', 'class']"
      ]
     },
     "metadata": {},
     "execution_count": 29
    }
   ],
   "source": [
    "dt_global.feature_names"
   ]
  },
  {
   "cell_type": "code",
   "execution_count": 30,
   "metadata": {},
   "outputs": [
    {
     "output_type": "execute_result",
     "data": {
      "text/plain": [
       "8"
      ]
     },
     "metadata": {},
     "execution_count": 30
    }
   ],
   "source": [
    "dt_global.label_index"
   ]
  },
  {
   "cell_type": "code",
   "execution_count": 31,
   "metadata": {},
   "outputs": [
    {
     "output_type": "execute_result",
     "data": {
      "text/plain": [
       "10"
      ]
     },
     "metadata": {},
     "execution_count": 31
    }
   ],
   "source": [
    "dt_global.num_label_values"
   ]
  },
  {
   "cell_type": "code",
   "execution_count": 32,
   "metadata": {},
   "outputs": [],
   "source": [
    "folds = preprocess(data)"
   ]
  },
  {
   "cell_type": "code",
   "execution_count": 33,
   "metadata": {},
   "outputs": [
    {
     "output_type": "execute_result",
     "data": {
      "text/plain": [
       "10"
      ]
     },
     "metadata": {},
     "execution_count": 33
    }
   ],
   "source": [
    "len(folds)"
   ]
  },
  {
   "cell_type": "code",
   "execution_count": 34,
   "metadata": {},
   "outputs": [
    {
     "output_type": "execute_result",
     "data": {
      "text/plain": [
       "[[0.63, 0.56, 0.52, 0.21, 0.5, 0.0, 0.5, 0.22, 0],\n",
       " [0.59, 0.6, 0.49, 0.43, 0.5, 0.0, 0.53, 0.31, 6],\n",
       " [0.61, 0.39, 0.53, 0.14, 0.5, 0.0, 0.43, 0.26, 7],\n",
       " [0.57, 0.52, 0.46, 0.2, 0.5, 0.83, 0.52, 0.41, 8],\n",
       " [0.59, 0.48, 0.5, 0.14, 0.5, 0.0, 0.45, 0.25, 0]]"
      ]
     },
     "metadata": {},
     "execution_count": 34
    }
   ],
   "source": [
    "folds[0][:5]"
   ]
  },
  {
   "cell_type": "code",
   "execution_count": null,
   "metadata": {},
   "outputs": [],
   "source": []
  },
  {
   "cell_type": "code",
   "execution_count": 35,
   "metadata": {},
   "outputs": [
    {
     "output_type": "execute_result",
     "data": {
      "text/plain": [
       "10"
      ]
     },
     "metadata": {},
     "execution_count": 35
    }
   ],
   "source": [
    "import dt_global as G\n",
    "G.num_label_values"
   ]
  },
  {
   "cell_type": "code",
   "execution_count": 36,
   "metadata": {},
   "outputs": [
    {
     "output_type": "execute_result",
     "data": {
      "text/plain": [
       "3"
      ]
     },
     "metadata": {},
     "execution_count": 36
    }
   ],
   "source": [
    "G.feature_names.index(\"mit\")"
   ]
  },
  {
   "cell_type": "code",
   "execution_count": 37,
   "metadata": {},
   "outputs": [],
   "source": [
    "from collections import defaultdict\n",
    "a = defaultdict(set)\n",
    "a[1].add(1)"
   ]
  },
  {
   "cell_type": "code",
   "execution_count": 38,
   "metadata": {},
   "outputs": [
    {
     "output_type": "execute_result",
     "data": {
      "text/plain": [
       "defaultdict(set, {1: {1}})"
      ]
     },
     "metadata": {},
     "execution_count": 38
    }
   ],
   "source": [
    "a"
   ]
  },
  {
   "cell_type": "code",
   "execution_count": 39,
   "metadata": {},
   "outputs": [
    {
     "output_type": "execute_result",
     "data": {
      "text/plain": [
       "True"
      ]
     },
     "metadata": {},
     "execution_count": 39
    }
   ],
   "source": [
    "a[1] == {1}"
   ]
  },
  {
   "cell_type": "code",
   "execution_count": 40,
   "metadata": {},
   "outputs": [],
   "source": [
    "b = {1}"
   ]
  },
  {
   "cell_type": "code",
   "execution_count": 41,
   "metadata": {},
   "outputs": [
    {
     "output_type": "execute_result",
     "data": {
      "text/plain": [
       "True"
      ]
     },
     "metadata": {},
     "execution_count": 41
    }
   ],
   "source": [
    "a[1] == b"
   ]
  },
  {
   "cell_type": "code",
   "execution_count": 42,
   "metadata": {},
   "outputs": [
    {
     "output_type": "execute_result",
     "data": {
      "text/plain": [
       "[{1}]"
      ]
     },
     "metadata": {},
     "execution_count": 42
    }
   ],
   "source": [
    "sorted(a.values())"
   ]
  },
  {
   "cell_type": "code",
   "execution_count": 43,
   "metadata": {},
   "outputs": [],
   "source": [
    "def get_splits(examples: List, feature: str) -> List[float]:\n",
    "    \"\"\"\n",
    "    Given some examples and a feature, returns a list of potential split point values for the feature.\n",
    "    \n",
    "    :param examples: a set of examples\n",
    "    :type examples: List[List[Any]]\n",
    "    :param feature: a feature\n",
    "    :type feature: str\n",
    "    :return: a list of potential split point values \n",
    "    :rtype: List[float]\n",
    "    \"\"\" \n",
    "    indFea = G.feature_names.index(feature)\n",
    "    ret = []\n",
    "\n",
    "    # regVal, regLabel, mFlag = None, None, False\n",
    "    # for row in sorted(examples, key=lambda x: (x[indFea], x[G.label_index])):\n",
    "    #     if row[indFea] == regVal and row[G.label_index] != regLabel:\n",
    "    #         mFlag = True\n",
    "    #     elif row[indFea] != regVal:\n",
    "    #         if mFlag or row[G.label_index] != regLabel:\n",
    "    #             ret.append((regVal + row[indFea]) / 2)\n",
    "    #         regVal, regLabel, mFlag = row[indFea], row[G.label_index], False\n",
    "\n",
    "    table = defaultdict(set)\n",
    "    for row in examples:\n",
    "        table[row[indFea]].add(row[G.label_index])\n",
    "    \n",
    "    regVal, regLabs = None, set()\n",
    "    for i, key in enumerate(sorted(table.keys())):\n",
    "        if i != 0 and (len(regLabs) + len(table[key]) > 2 or table[key] != regLabs):\n",
    "            ret.append((regVal + key) / 2)\n",
    "        regVal, regLabs = key, table[key]\n",
    "\n",
    "    return ret"
   ]
  },
  {
   "cell_type": "code",
   "execution_count": 44,
   "metadata": {},
   "outputs": [
    {
     "output_type": "execute_result",
     "data": {
      "text/plain": [
       "[0.02,\n",
       " 0.045,\n",
       " 0.065,\n",
       " 0.07500000000000001,\n",
       " 0.08499999999999999,\n",
       " 0.095,\n",
       " 0.10500000000000001,\n",
       " 0.11499999999999999,\n",
       " 0.125,\n",
       " 0.135,\n",
       " 0.14500000000000002,\n",
       " 0.155,\n",
       " 0.165,\n",
       " 0.175,\n",
       " 0.185,\n",
       " 0.195,\n",
       " 0.20500000000000002,\n",
       " 0.215,\n",
       " 0.225,\n",
       " 0.235,\n",
       " 0.245,\n",
       " 0.255,\n",
       " 0.265,\n",
       " 0.275,\n",
       " 0.28500000000000003,\n",
       " 0.295,\n",
       " 0.305,\n",
       " 0.315,\n",
       " 0.325,\n",
       " 0.335,\n",
       " 0.345,\n",
       " 0.355,\n",
       " 0.365,\n",
       " 0.375,\n",
       " 0.385,\n",
       " 0.395,\n",
       " 0.405,\n",
       " 0.415,\n",
       " 0.425,\n",
       " 0.435,\n",
       " 0.445,\n",
       " 0.455,\n",
       " 0.46499999999999997,\n",
       " 0.475,\n",
       " 0.485,\n",
       " 0.495,\n",
       " 0.505,\n",
       " 0.515,\n",
       " 0.525,\n",
       " 0.535,\n",
       " 0.545,\n",
       " 0.555,\n",
       " 0.565,\n",
       " 0.575,\n",
       " 0.595,\n",
       " 0.605,\n",
       " 0.625,\n",
       " 0.635,\n",
       " 0.645,\n",
       " 0.655,\n",
       " 0.665,\n",
       " 0.6799999999999999,\n",
       " 0.695,\n",
       " 0.705,\n",
       " 0.725,\n",
       " 0.775,\n",
       " 0.785,\n",
       " 0.795,\n",
       " 0.81,\n",
       " 0.84,\n",
       " 0.865,\n",
       " 0.935]"
      ]
     },
     "metadata": {},
     "execution_count": 44
    }
   ],
   "source": [
    "get_splits(data, \"mit\")"
   ]
  },
  {
   "cell_type": "code",
   "execution_count": 44,
   "metadata": {},
   "outputs": [
    {
     "output_type": "execute_result",
     "data": {
      "text/plain": [
       "[]"
      ]
     },
     "metadata": {},
     "execution_count": 44
    }
   ],
   "source": []
  },
  {
   "cell_type": "code",
   "execution_count": 45,
   "metadata": {},
   "outputs": [
    {
     "output_type": "execute_result",
     "data": {
      "text/plain": [
       "[]"
      ]
     },
     "metadata": {},
     "execution_count": 45
    }
   ],
   "source": [
    "get_splits(data[:1], \"mit\")"
   ]
  },
  {
   "cell_type": "code",
   "execution_count": 46,
   "metadata": {},
   "outputs": [],
   "source": [
    "l = [1,2,3]"
   ]
  },
  {
   "cell_type": "code",
   "execution_count": 47,
   "metadata": {},
   "outputs": [
    {
     "output_type": "execute_result",
     "data": {
      "text/plain": [
       "[(1, 2), (2, 3), (3, 4)]"
      ]
     },
     "metadata": {},
     "execution_count": 47
    }
   ],
   "source": [
    "[(x, x+1) for x in l]"
   ]
  },
  {
   "cell_type": "code",
   "execution_count": 48,
   "metadata": {},
   "outputs": [
    {
     "output_type": "execute_result",
     "data": {
      "text/plain": [
       "0"
      ]
     },
     "metadata": {},
     "execution_count": 48
    }
   ],
   "source": [
    "l.count(lambda x: x < 2)"
   ]
  },
  {
   "cell_type": "code",
   "execution_count": 123,
   "metadata": {},
   "outputs": [],
   "source": [
    "def choose_feature_split(examples: List, features: List[str]) -> (str, float):\n",
    "    \"\"\"\n",
    "    Given some examples and some features,\n",
    "    returns a feature and a split point value with the max expected information gain.\n",
    "\n",
    "    If there are no valid split points for the remaining features, return None and -1.\n",
    "\n",
    "    Tie breaking rules:\n",
    "    (1) With multiple split points, choose the one with the smallest value. \n",
    "    (2) With multiple features with the same info gain, choose the first feature in the list.\n",
    "\n",
    "    :param examples: a set of examples\n",
    "    :type examples: List[List[Any]]    \n",
    "    :param features: a set of features\n",
    "    :type features: List[str]\n",
    "    :return: the best feature and the best split value\n",
    "    :rtype: str, float\n",
    "    \"\"\"   \n",
    "    def __neg_ent(indFea, midWay):\n",
    "        # num = 0\n",
    "        # for i in range(len(examples)):\n",
    "        #     if examples[i][indFea] <= midWay:\n",
    "        #         num += 1\n",
    "        # p = num / len(examples)\n",
    "        # return round(p * log2(p) + (1 - p) * log2((1 - p)), 6)\n",
    "\n",
    "        countL, countR = defaultdict(lambda: 0), defaultdict(lambda: 0)\n",
    "        for i in range(len(examples)):\n",
    "            if examples[i][indFea] <= midWay:\n",
    "                countL[examples[i][G.label_index]] += 1\n",
    "            else:\n",
    "                countR[examples[i][G.label_index]] += 1\n",
    "        sumL, sumR = sum(countL.values()), sum(countR.values())\n",
    "        pLeft = sum(countL.values()) / len(examples)\n",
    "        pListL = [num / sumL for num in countL.values()]\n",
    "        pListR = [num / sumR for num in countR.values()]\n",
    "        pListT = [(countL[key] + countR[key]) / (sumL + sumR) for key in set(countL.keys()).union(countR.keys())]\n",
    "        \n",
    "        return round(sum(list(map(lambda p: p * log2(p), pListT))) -\n",
    "                     sum(list(map(lambda p: p * log2(p), pListL))) * pLeft - \n",
    "                     sum(list(map(lambda p: p * log2(p), pListR))) * (1 - pLeft), 6)\n",
    "    \n",
    "\n",
    "    regFea, regNegEnt, regMidWay = None, 0, -1\n",
    "    for fea in features:\n",
    "        indFea = G.feature_names.index(fea)\n",
    "        tem = [(__neg_ent(indFea, midWay), midWay) for midWay in get_splits(examples, fea)]\n",
    "        negEnt, midWay  = min(tem) if tem else (0, -1)\n",
    "        if negEnt < regNegEnt:\n",
    "            regFea, regNegEnt, regMidWay = fea, negEnt, midWay\n",
    "\n",
    "    return regFea, regMidWay"
   ]
  },
  {
   "cell_type": "code",
   "execution_count": 124,
   "metadata": {},
   "outputs": [
    {
     "output_type": "execute_result",
     "data": {
      "text/plain": [
       "('mit', 0.325)"
      ]
     },
     "metadata": {},
     "execution_count": 124
    }
   ],
   "source": [
    "choose_feature_split(data, [\"mit\",\"erl\"])"
   ]
  },
  {
   "cell_type": "code",
   "execution_count": 125,
   "metadata": {},
   "outputs": [
    {
     "output_type": "execute_result",
     "data": {
      "text/plain": [
       "[0.75]"
      ]
     },
     "metadata": {},
     "execution_count": 125
    }
   ],
   "source": [
    "get_splits(data, \"erl\")"
   ]
  },
  {
   "cell_type": "code",
   "execution_count": 52,
   "metadata": {},
   "outputs": [],
   "source": [
    "for fea in G.feature_names:\n",
    "    get_splits(data, fea)"
   ]
  },
  {
   "cell_type": "code",
   "execution_count": 53,
   "metadata": {},
   "outputs": [],
   "source": [
    "# from itertools import combinations as comb\n",
    "# list(comb(G.feature_names, 3))"
   ]
  },
  {
   "cell_type": "code",
   "execution_count": 129,
   "metadata": {},
   "outputs": [
    {
     "output_type": "execute_result",
     "data": {
      "text/plain": [
       "('alm', 0.435)"
      ]
     },
     "metadata": {},
     "execution_count": 129
    }
   ],
   "source": [
    "choose_feature_split(data, G.feature_names[:-1])"
   ]
  },
  {
   "cell_type": "code",
   "execution_count": null,
   "metadata": {},
   "outputs": [],
   "source": []
  },
  {
   "cell_type": "code",
   "execution_count": 55,
   "metadata": {},
   "outputs": [
    {
     "output_type": "execute_result",
     "data": {
      "text/plain": [
       "True"
      ]
     },
     "metadata": {},
     "execution_count": 55
    }
   ],
   "source": [
    "math.isclose(0.5, 0.50000000)"
   ]
  },
  {
   "cell_type": "code",
   "execution_count": 56,
   "metadata": {},
   "outputs": [
    {
     "output_type": "execute_result",
     "data": {
      "text/plain": [
       "[1, 2]"
      ]
     },
     "metadata": {},
     "execution_count": 56
    }
   ],
   "source": [
    "[1,2].copy()"
   ]
  },
  {
   "cell_type": "code",
   "execution_count": 57,
   "metadata": {},
   "outputs": [
    {
     "output_type": "execute_result",
     "data": {
      "text/plain": [
       "3"
      ]
     },
     "metadata": {},
     "execution_count": 57
    }
   ],
   "source": [
    "from collections import Counter\n",
    "c = Counter([1,2,2,3])\n",
    "sum([c[x] for x in c.keys() if x < 2.5])"
   ]
  },
  {
   "cell_type": "code",
   "execution_count": 58,
   "metadata": {},
   "outputs": [
    {
     "output_type": "execute_result",
     "data": {
      "text/plain": [
       "Counter({(1, 1): 1, (1, -1): 1})"
      ]
     },
     "metadata": {},
     "execution_count": 58
    }
   ],
   "source": [
    "Counter([(1,1), (1,-1)])"
   ]
  },
  {
   "cell_type": "code",
   "execution_count": 59,
   "metadata": {},
   "outputs": [],
   "source": [
    "import math\n",
    "from math import *"
   ]
  },
  {
   "cell_type": "code",
   "execution_count": 60,
   "metadata": {},
   "outputs": [
    {
     "output_type": "execute_result",
     "data": {
      "text/plain": [
       "True"
      ]
     },
     "metadata": {},
     "execution_count": 60
    }
   ],
   "source": [
    "math.isclose(1,1)"
   ]
  },
  {
   "cell_type": "code",
   "execution_count": 61,
   "metadata": {},
   "outputs": [
    {
     "output_type": "execute_result",
     "data": {
      "text/plain": [
       "0.0"
      ]
     },
     "metadata": {},
     "execution_count": 61
    }
   ],
   "source": [
    "log2(1)"
   ]
  },
  {
   "cell_type": "code",
   "execution_count": 62,
   "metadata": {},
   "outputs": [],
   "source": [
    "from typing import List"
   ]
  },
  {
   "cell_type": "code",
   "execution_count": 63,
   "metadata": {},
   "outputs": [],
   "source": [
    "def split_examples(examples: List, feature: str, split: float) -> (List, List):\n",
    "    \"\"\"\n",
    "    Given some examples, a feature, and a split point,\n",
    "    splits examples into two lists and return the two lists of examples.\n",
    "\n",
    "    The first list of examples have their feature value <= split point.\n",
    "    The second list of examples have their feature value > split point.\n",
    "\n",
    "    :param examples: a set of examples\n",
    "    :type examples: List[List[Any]]\n",
    "    :param feature: a feature\n",
    "    :type feature: str\n",
    "    :param split: the split point\n",
    "    :type split: float\n",
    "    :return: two lists of examples split by the feature split\n",
    "    :rtype: List[List[Any]], List[List[Any]]\n",
    "    \"\"\" \n",
    "    retLeft, retRight = [], []\n",
    "    indFea = G.feature_names.index(feature)\n",
    "\n",
    "    for row in examples:\n",
    "        if row[indFea] < split:\n",
    "            retLeft.append(row.copy())\n",
    "        else:\n",
    "            retRight.append(row.copy())\n",
    "\n",
    "    return retLeft, retRight"
   ]
  },
  {
   "cell_type": "code",
   "execution_count": 64,
   "metadata": {},
   "outputs": [],
   "source": [
    "left, right = split_examples(data, \"mcg\", 0.485)"
   ]
  },
  {
   "cell_type": "code",
   "execution_count": 65,
   "metadata": {},
   "outputs": [
    {
     "output_type": "execute_result",
     "data": {
      "text/plain": [
       "741"
      ]
     },
     "metadata": {},
     "execution_count": 65
    }
   ],
   "source": [
    "len(left)"
   ]
  },
  {
   "cell_type": "code",
   "execution_count": 66,
   "metadata": {},
   "outputs": [
    {
     "output_type": "execute_result",
     "data": {
      "text/plain": [
       "743"
      ]
     },
     "metadata": {},
     "execution_count": 66
    }
   ],
   "source": [
    "len(right)"
   ]
  },
  {
   "cell_type": "code",
   "execution_count": 67,
   "metadata": {},
   "outputs": [
    {
     "output_type": "error",
     "ename": "ModuleNotFoundError",
     "evalue": "No module named 'anytree'",
     "traceback": [
      "\u001b[0;31m---------------------------------------------------------------------------\u001b[0m",
      "\u001b[0;31mModuleNotFoundError\u001b[0m                       Traceback (most recent call last)",
      "\u001b[0;32m<ipython-input-67-ce3fd2c53987>\u001b[0m in \u001b[0;36m<module>\u001b[0;34m\u001b[0m\n\u001b[0;32m----> 1\u001b[0;31m \u001b[0;32mfrom\u001b[0m \u001b[0manytree\u001b[0m \u001b[0;32mimport\u001b[0m \u001b[0mNode\u001b[0m\u001b[0;34m\u001b[0m\u001b[0;34m\u001b[0m\u001b[0m\n\u001b[0m\u001b[1;32m      2\u001b[0m \u001b[0mroot\u001b[0m \u001b[0;34m=\u001b[0m \u001b[0mNode\u001b[0m\u001b[0;34m(\u001b[0m\u001b[0;34m\"root\"\u001b[0m\u001b[0;34m)\u001b[0m\u001b[0;34m\u001b[0m\u001b[0;34m\u001b[0m\u001b[0m\n\u001b[1;32m      3\u001b[0m \u001b[0ms0\u001b[0m \u001b[0;34m=\u001b[0m \u001b[0mNode\u001b[0m\u001b[0;34m(\u001b[0m\u001b[0;34m\"sub0\"\u001b[0m\u001b[0;34m,\u001b[0m \u001b[0mparent\u001b[0m\u001b[0;34m=\u001b[0m\u001b[0mroot\u001b[0m\u001b[0;34m)\u001b[0m\u001b[0;34m\u001b[0m\u001b[0;34m\u001b[0m\u001b[0m\n\u001b[1;32m      4\u001b[0m \u001b[0ms0b\u001b[0m \u001b[0;34m=\u001b[0m \u001b[0mNode\u001b[0m\u001b[0;34m(\u001b[0m\u001b[0;34m\"sub0B\"\u001b[0m\u001b[0;34m,\u001b[0m \u001b[0mparent\u001b[0m\u001b[0;34m=\u001b[0m\u001b[0ms0\u001b[0m\u001b[0;34m,\u001b[0m \u001b[0mfoo\u001b[0m\u001b[0;34m=\u001b[0m\u001b[0;36m4\u001b[0m\u001b[0;34m,\u001b[0m \u001b[0mbar\u001b[0m\u001b[0;34m=\u001b[0m\u001b[0;36m109\u001b[0m\u001b[0;34m)\u001b[0m\u001b[0;34m\u001b[0m\u001b[0;34m\u001b[0m\u001b[0m\n\u001b[1;32m      5\u001b[0m \u001b[0ms0a\u001b[0m \u001b[0;34m=\u001b[0m \u001b[0mNode\u001b[0m\u001b[0;34m(\u001b[0m\u001b[0;34m\"sub0A\"\u001b[0m\u001b[0;34m,\u001b[0m \u001b[0mparent\u001b[0m\u001b[0;34m=\u001b[0m\u001b[0ms0\u001b[0m\u001b[0;34m)\u001b[0m\u001b[0;34m\u001b[0m\u001b[0;34m\u001b[0m\u001b[0m\n",
      "\u001b[0;31mModuleNotFoundError\u001b[0m: No module named 'anytree'"
     ]
    }
   ],
   "source": [
    "from anytree import Node\n",
    "root = Node(\"root\")\n",
    "s0 = Node(\"sub0\", parent=root)\n",
    "s0b = Node(\"sub0B\", parent=s0, foo=4, bar=109)\n",
    "s0a = Node(\"sub0A\", parent=s0)\n",
    "s1 = Node(\"sub1\", parent=root)\n",
    "s1a = Node(\"sub1A\", parent=s1)\n",
    "s1b = Node(\"sub1B\", parent=s1, bar=8)\n",
    "s1c = Node(\"sub1C\", parent=s1)\n",
    "s1ca = Node(\"sub1Ca\", parent=s1c)"
   ]
  },
  {
   "cell_type": "code",
   "execution_count": 240,
   "metadata": {},
   "outputs": [],
   "source": [
    "from anytree import RenderTree"
   ]
  },
  {
   "cell_type": "code",
   "execution_count": 241,
   "metadata": {},
   "outputs": [
    {
     "output_type": "execute_result",
     "data": {
      "text/plain": [
       "(Node('/root/sub0'), Node('/root/sub1'))"
      ]
     },
     "metadata": {},
     "execution_count": 241
    }
   ],
   "source": [
    "root.children"
   ]
  },
  {
   "cell_type": "code",
   "execution_count": 242,
   "metadata": {
    "tags": []
   },
   "outputs": [
    {
     "output_type": "stream",
     "name": "stdout",
     "text": [
      "Node('/root')\n├── Node('/root/sub0')\n│   ├── Node('/root/sub0/sub0B', bar=109, foo=4)\n│   └── Node('/root/sub0/sub0A')\n└── Node('/root/sub1')\n    ├── Node('/root/sub1/sub1A')\n    ├── Node('/root/sub1/sub1B', bar=8)\n    └── Node('/root/sub1/sub1C')\n        └── Node('/root/sub1/sub1C/sub1Ca')\n"
     ]
    }
   ],
   "source": [
    "print(RenderTree(root))"
   ]
  },
  {
   "cell_type": "code",
   "execution_count": 243,
   "metadata": {},
   "outputs": [
    {
     "output_type": "execute_result",
     "data": {
      "text/plain": [
       "Node('/root/sub0/sub0B', bar=109, foo=4)"
      ]
     },
     "metadata": {},
     "execution_count": 243
    }
   ],
   "source": [
    "root.children[0].children[0]"
   ]
  },
  {
   "cell_type": "code",
   "execution_count": 244,
   "metadata": {},
   "outputs": [
    {
     "output_type": "execute_result",
     "data": {
      "text/plain": [
       "109"
      ]
     },
     "metadata": {},
     "execution_count": 244
    }
   ],
   "source": [
    "root.children[0].children[0].bar"
   ]
  },
  {
   "cell_type": "code",
   "execution_count": 245,
   "metadata": {},
   "outputs": [],
   "source": [
    "root.what = 1"
   ]
  },
  {
   "cell_type": "code",
   "execution_count": 246,
   "metadata": {},
   "outputs": [
    {
     "output_type": "execute_result",
     "data": {
      "text/plain": [
       "Node('/root', what=1)"
      ]
     },
     "metadata": {},
     "execution_count": 246
    }
   ],
   "source": [
    "root"
   ]
  },
  {
   "cell_type": "code",
   "execution_count": 247,
   "metadata": {
    "tags": []
   },
   "outputs": [
    {
     "output_type": "stream",
     "name": "stdout",
     "text": [
      "Node('/root', what=1)\n├── Node('/root/sub0')\n│   ├── Node('/root/sub0/sub0B', bar=109, foo=4)\n│   └── Node('/root/sub0/sub0A')\n└── Node('/root/sub1')\n    ├── Node('/root/sub1/sub1A')\n    ├── Node('/root/sub1/sub1B', bar=8)\n    └── Node('/root/sub1/sub1C')\n        └── Node('/root/sub1/sub1C/sub1Ca')\n"
     ]
    }
   ],
   "source": [
    "print(RenderTree(root))"
   ]
  },
  {
   "cell_type": "code",
   "execution_count": 248,
   "metadata": {},
   "outputs": [
    {
     "output_type": "execute_result",
     "data": {
      "text/plain": [
       "[0.63, 0.56, 0.52, 0.21, 0.5, 0.0, 0.5, 0.22, 0]"
      ]
     },
     "metadata": {},
     "execution_count": 248
    }
   ],
   "source": [
    "data[0]"
   ]
  },
  {
   "cell_type": "code",
   "execution_count": 249,
   "metadata": {},
   "outputs": [],
   "source": [
    "from collections import defaultdict\n",
    "count = defaultdict(lambda: 0)\n",
    "count[1] += 1"
   ]
  },
  {
   "cell_type": "code",
   "execution_count": 250,
   "metadata": {},
   "outputs": [
    {
     "output_type": "execute_result",
     "data": {
      "text/plain": [
       "{1: 1}"
      ]
     },
     "metadata": {},
     "execution_count": 250
    }
   ],
   "source": [
    "dict(count)"
   ]
  },
  {
   "cell_type": "code",
   "execution_count": 251,
   "metadata": {},
   "outputs": [
    {
     "output_type": "execute_result",
     "data": {
      "text/plain": [
       "3"
      ]
     },
     "metadata": {},
     "execution_count": 251
    }
   ],
   "source": [
    "count = [4,5,1,9,0,9]\n",
    "count.index(max(count))"
   ]
  },
  {
   "cell_type": "code",
   "execution_count": 252,
   "metadata": {},
   "outputs": [
    {
     "output_type": "execute_result",
     "data": {
      "text/plain": [
       "[[0.63, 0.56, 0.52, 0.21, 0.5, 0.0, 0.5, 0.22, 0],\n",
       " [0.59, 0.6, 0.49, 0.43, 0.5, 0.0, 0.53, 0.31, 6],\n",
       " [0.61, 0.39, 0.53, 0.14, 0.5, 0.0, 0.43, 0.26, 7],\n",
       " [0.57, 0.52, 0.46, 0.2, 0.5, 0.83, 0.52, 0.41, 8],\n",
       " [0.59, 0.48, 0.5, 0.14, 0.5, 0.0, 0.45, 0.25, 0]]"
      ]
     },
     "metadata": {},
     "execution_count": 252
    }
   ],
   "source": [
    "data[:5]"
   ]
  },
  {
   "cell_type": "code",
   "execution_count": 253,
   "metadata": {},
   "outputs": [
    {
     "output_type": "execute_result",
     "data": {
      "text/plain": [
       "(None, -1)"
      ]
     },
     "metadata": {},
     "execution_count": 253
    }
   ],
   "source": [
    "choose_feature_split(data[:5], [\"erl\"])"
   ]
  },
  {
   "cell_type": "code",
   "execution_count": 309,
   "metadata": {},
   "outputs": [],
   "source": [
    "def get_majority(examples):\n",
    "    count = [0] * G.num_label_values\n",
    "    for row in examples:\n",
    "        count[row[G.label_index]] += 1\n",
    "\n",
    "    return count.index(max(count))"
   ]
  },
  {
   "cell_type": "code",
   "execution_count": 75,
   "metadata": {},
   "outputs": [],
   "source": [
    "def split_node(cur_node: Node, examples: List, features: List[str], max_depth=math.inf):\n",
    "    \"\"\"\n",
    "    Given a tree with cur_node as the root, some examples, some features, and the max depth,\n",
    "    grows a tree to classify the examples using the features by using binary splits.\n",
    "\n",
    "    If cur_node is at max_depth, makes cur_node a leaf node with majority decision and return.\n",
    "\n",
    "    This function is recursive.\n",
    "\n",
    "    :param cur_node: current node\n",
    "    :type cur_node: Node\n",
    "    :param examples: a set of examples\n",
    "    :type examples: List[List[Any]]\n",
    "    :param features: a set of features\n",
    "    :type features: List[str]\n",
    "    :param max_depth: the maximum depth of the tree\n",
    "    :type max_depth: int\n",
    "    \"\"\" \n",
    "    # def __get_majority():\n",
    "    #     count = [0] * G.num_label_values\n",
    "    #     for row in examples:\n",
    "    #         count[row[G.label_index]] += 1\n",
    "\n",
    "    #     return count.index(max(count))\n",
    "\n",
    "\n",
    "    major = get_majority(examples)\n",
    "    if max_depth == 0:\n",
    "        cur_node.decision = major\n",
    "        return\n",
    "    \n",
    "    splFea, splVal = choose_feature_split(examples, features)\n",
    "    if not splFea:\n",
    "        cur_node.decision = major\n",
    "        return\n",
    "\n",
    "    cur_node.major, cur_node.numExs = major, len(examples)\n",
    "    cur_node.feature, cur_node.split = splFea, splVal\n",
    "    leftExs, rightExs = split_examples(examples, splFea, splVal)\n",
    "    lchild = Node(\"l-%s<%.3f\"%(splFea, splVal), cur_node, depth=cur_node.depth + 1)\n",
    "    rchild = Node(\"r-%s>%.3f\"%(splFea, splVal), cur_node, depth=cur_node.depth + 1)\n",
    "    split_node(lchild, leftExs, features, max_depth - 1)\n",
    "    split_node(rchild, rightExs, features, max_depth - 1)"
   ]
  },
  {
   "cell_type": "code",
   "execution_count": 356,
   "metadata": {},
   "outputs": [],
   "source": [
    "# def split_node(cur_node: Node, examples: List, features: List[str], max_depth=math.inf):\n",
    "#     \"\"\"\n",
    "#     Given a tree with cur_node as the root, some examples, some features, and the max depth,\n",
    "#     grows a tree to classify the examples using the features by using binary splits.\n",
    "\n",
    "#     If cur_node is at max_depth, makes cur_node a leaf node with majority decision and return.\n",
    "\n",
    "#     This function is recursive.\n",
    "\n",
    "#     :param cur_node: current node\n",
    "#     :type cur_node: Node\n",
    "#     :param examples: a set of examples\n",
    "#     :type examples: List[List[Any]]\n",
    "#     :param features: a set of features\n",
    "#     :type features: List[str]\n",
    "#     :param max_depth: the maximum depth of the tree\n",
    "#     :type max_depth: int\n",
    "#     \"\"\" \n",
    "#     def __get_majority():\n",
    "#         count = [0] * G.num_label_values\n",
    "#         for row in examples:\n",
    "#             count[row[G.label_index]] += 1\n",
    "\n",
    "#         return count.index(max(count))\n",
    "\n",
    "\n",
    "#     # if not examples:\n",
    "#     #     cur_node.decision = cur_node.pMajor\n",
    "#     #     return\n",
    "#     if max_depth == 0:\n",
    "#         cur_node.decision = __get_majority()\n",
    "#         return\n",
    "    \n",
    "#     splFea, splVal = choose_feature_split(examples, features)\n",
    "#     if not splFea:\n",
    "#         cur_node.decision = __get_majority()\n",
    "#         return\n",
    "\n",
    "#     cur_node.feature, cur_node.split = splFea, splVal\n",
    "#     leftExs, rightExs = split_examples(examples, splFea, splVal)\n",
    "#     lchild = Node(\"l-%s<%.3f\"%(splFea, splVal), cur_node, depth=cur_node.depth + 1)\n",
    "#     rchild = Node(\"r-%s>%.3f\"%(splFea, splVal), cur_node, depth=cur_node.depth + 1)\n",
    "#     split_node(lchild, leftExs, features, max_depth - 1)\n",
    "#     split_node(rchild, rightExs, features, max_depth - 1)"
   ]
  },
  {
   "cell_type": "code",
   "execution_count": 357,
   "metadata": {},
   "outputs": [],
   "source": [
    "dumb = Node(\"root\", depth=0)\n",
    "split_node(dumb, data, G.feature_names[:-1], 5)"
   ]
  },
  {
   "cell_type": "code",
   "execution_count": 358,
   "metadata": {},
   "outputs": [
    {
     "output_type": "stream",
     "name": "stdout",
     "text": [
      "Node('/root', depth=0, feature='mcg', major=0, numExs=1484, split=0.485)\n├── Node('/root/l-mcg<0.485', depth=1, feature='mcg', major=7, numExs=741, split=0.405)\n│   ├── Node('/root/l-mcg<0.485/l-mcg<0.405', depth=2, feature='gvh', major=7, numExs=368, split=0.425)\n│   │   ├── Node('/root/l-mcg<0.485/l-mcg<0.405/l-gvh<0.425', depth=3, feature='mcg', major=7, numExs=184, split=0.345)\n│   │   │   ├── Node('/root/l-mcg<0.485/l-mcg<0.405/l-gvh<0.425/l-mcg<0.345', depth=4, feature='mcg', major=7, numExs=92, split=0.295)\n│   │   │   │   ├── Node('/root/l-mcg<0.485/l-mcg<0.405/l-gvh<0.425/l-mcg<0.345/l-mcg<0.295', decision=7, depth=5)\n│   │   │   │   └── Node('/root/l-mcg<0.485/l-mcg<0.405/l-gvh<0.425/l-mcg<0.345/r-mcg>0.295', decision=7, depth=5)\n│   │   │   └── Node('/root/l-mcg<0.485/l-mcg<0.405/l-gvh<0.425/r-mcg>0.345', depth=4, feature='alm', major=7, numExs=92, split=0.535)\n│   │   │       ├── Node('/root/l-mcg<0.485/l-mcg<0.405/l-gvh<0.425/r-mcg>0.345/l-alm<0.535', decision=7, depth=5)\n│   │   │       └── Node('/root/l-mcg<0.485/l-mcg<0.405/l-gvh<0.425/r-mcg>0.345/r-alm>0.535', decision=7, depth=5)\n│   │   └── Node('/root/l-mcg<0.485/l-mcg<0.405/r-gvh>0.425', depth=3, feature='mcg', major=0, numExs=184, split=0.365)\n│   │       ├── Node('/root/l-mcg<0.485/l-mcg<0.405/r-gvh>0.425/l-mcg<0.365', depth=4, feature='mcg', major=7, numExs=93, split=0.325)\n│   │       │   ├── Node('/root/l-mcg<0.485/l-mcg<0.405/r-gvh>0.425/l-mcg<0.365/l-mcg<0.325', decision=0, depth=5)\n│   │       │   └── Node('/root/l-mcg<0.485/l-mcg<0.405/r-gvh>0.425/l-mcg<0.365/r-mcg>0.325', decision=7, depth=5)\n│   │       └── Node('/root/l-mcg<0.485/l-mcg<0.405/r-gvh>0.425/r-mcg>0.365', depth=4, feature='gvh', major=0, numExs=91, split=0.495)\n│   │           ├── Node('/root/l-mcg<0.485/l-mcg<0.405/r-gvh>0.425/r-mcg>0.365/l-gvh<0.495', decision=0, depth=5)\n│   │           └── Node('/root/l-mcg<0.485/l-mcg<0.405/r-gvh>0.425/r-mcg>0.365/r-gvh>0.495', decision=0, depth=5)\n│   └── Node('/root/l-mcg<0.485/r-mcg>0.405', depth=2, feature='gvh', major=0, numExs=373, split=0.46499999999999997)\n│       ├── Node('/root/l-mcg<0.485/r-mcg>0.405/l-gvh<0.465', depth=3, feature='nuc', major=0, numExs=189, split=0.24)\n│       │   ├── Node('/root/l-mcg<0.485/r-mcg>0.405/l-gvh<0.465/l-nuc<0.240', depth=4, feature='gvh', major=0, numExs=95, split=0.405)\n│       │   │   ├── Node('/root/l-mcg<0.485/r-mcg>0.405/l-gvh<0.465/l-nuc<0.240/l-gvh<0.405', decision=0, depth=5)\n│       │   │   └── Node('/root/l-mcg<0.485/r-mcg>0.405/l-gvh<0.465/l-nuc<0.240/r-gvh>0.405', decision=0, depth=5)\n│       │   └── Node('/root/l-mcg<0.485/r-mcg>0.405/l-gvh<0.465/r-nuc>0.240', depth=4, feature='mcg', major=7, numExs=94, split=0.445)\n│       │       ├── Node('/root/l-mcg<0.485/r-mcg>0.405/l-gvh<0.465/r-nuc>0.240/l-mcg<0.445', decision=7, depth=5)\n│       │       └── Node('/root/l-mcg<0.485/r-mcg>0.405/l-gvh<0.465/r-nuc>0.240/r-mcg>0.445', decision=7, depth=5)\n│       └── Node('/root/l-mcg<0.485/r-mcg>0.405/r-gvh>0.465', depth=3, feature='mit', major=0, numExs=184, split=0.225)\n│           ├── Node('/root/l-mcg<0.485/r-mcg>0.405/r-gvh>0.465/l-mit<0.225', depth=4, feature='alm', major=0, numExs=92, split=0.505)\n│           │   ├── Node('/root/l-mcg<0.485/r-mcg>0.405/r-gvh>0.465/l-mit<0.225/l-alm<0.505', decision=5, depth=5)\n│           │   └── Node('/root/l-mcg<0.485/r-mcg>0.405/r-gvh>0.465/l-mit<0.225/r-alm>0.505', decision=0, depth=5)\n│           └── Node('/root/l-mcg<0.485/r-mcg>0.405/r-gvh>0.465/r-mit>0.225', depth=4, feature='gvh', major=6, numExs=92, split=0.535)\n│               ├── Node('/root/l-mcg<0.485/r-mcg>0.405/r-gvh>0.465/r-mit>0.225/l-gvh<0.535', decision=6, depth=5)\n│               └── Node('/root/l-mcg<0.485/r-mcg>0.405/r-gvh>0.465/r-mit>0.225/r-gvh>0.535', decision=6, depth=5)\n└── Node('/root/r-mcg>0.485', depth=1, feature='mcg', major=0, numExs=743, split=0.575)\n    ├── Node('/root/r-mcg>0.485/l-mcg<0.575', depth=2, feature='mcg', major=0, numExs=370, split=0.525)\n    │   ├── Node('/root/r-mcg>0.485/l-mcg<0.575/l-mcg<0.525', depth=3, feature='alm', major=0, numExs=188, split=0.515)\n    │   │   ├── Node('/root/r-mcg>0.485/l-mcg<0.575/l-mcg<0.525/l-alm<0.515', depth=4, feature='gvh', major=0, numExs=94, split=0.485)\n    │   │   │   ├── Node('/root/r-mcg>0.485/l-mcg<0.575/l-mcg<0.525/l-alm<0.515/l-gvh<0.485', decision=0, depth=5)\n    │   │   │   └── Node('/root/r-mcg>0.485/l-mcg<0.575/l-mcg<0.525/l-alm<0.515/r-gvh>0.485', decision=6, depth=5)\n    │   │   └── Node('/root/r-mcg>0.485/l-mcg<0.575/l-mcg<0.525/r-alm>0.515', depth=4, feature='gvh', major=0, numExs=94, split=0.475)\n    │   │       ├── Node('/root/r-mcg>0.485/l-mcg<0.575/l-mcg<0.525/r-alm>0.515/l-gvh<0.475', decision=0, depth=5)\n    │   │       └── Node('/root/r-mcg>0.485/l-mcg<0.575/l-mcg<0.525/r-alm>0.515/r-gvh>0.475', decision=7, depth=5)\n    │   └── Node('/root/r-mcg>0.485/l-mcg<0.575/r-mcg>0.525', depth=3, feature='gvh', major=0, numExs=182, split=0.505)\n    │       ├── Node('/root/r-mcg>0.485/l-mcg<0.575/r-mcg>0.525/l-gvh<0.505', depth=4, feature='mit', major=0, numExs=88, split=0.22999999999999998)\n    │       │   ├── Node('/root/r-mcg>0.485/l-mcg<0.575/r-mcg>0.525/l-gvh<0.505/l-mit<0.230', decision=0, depth=5)\n    │       │   └── Node('/root/r-mcg>0.485/l-mcg<0.575/r-mcg>0.525/l-gvh<0.505/r-mit>0.230', decision=0, depth=5)\n    │       └── Node('/root/r-mcg>0.485/l-mcg<0.575/r-mcg>0.525/r-gvh>0.505', depth=4, feature='gvh', major=7, numExs=94, split=0.555)\n    │           ├── Node('/root/r-mcg>0.485/l-mcg<0.575/r-mcg>0.525/r-gvh>0.505/l-gvh<0.555', decision=7, depth=5)\n    │           └── Node('/root/r-mcg>0.485/l-mcg<0.575/r-mcg>0.525/r-gvh>0.505/r-gvh>0.555', decision=7, depth=5)\n    └── Node('/root/r-mcg>0.485/r-mcg>0.575', depth=2, feature='mcg', major=0, numExs=373, split=0.655)\n        ├── Node('/root/r-mcg>0.485/r-mcg>0.575/l-mcg<0.655', depth=3, feature='gvh', major=0, numExs=183, split=0.545)\n        │   ├── Node('/root/r-mcg>0.485/r-mcg>0.575/l-mcg<0.655/l-gvh<0.545', depth=4, feature='alm', major=0, numExs=94, split=0.515)\n        │   │   ├── Node('/root/r-mcg>0.485/r-mcg>0.575/l-mcg<0.655/l-gvh<0.545/l-alm<0.515', decision=0, depth=5)\n        │   │   └── Node('/root/r-mcg>0.485/r-mcg>0.575/l-mcg<0.655/l-gvh<0.545/r-alm>0.515', decision=0, depth=5)\n        │   └── Node('/root/r-mcg>0.485/r-mcg>0.575/l-mcg<0.655/r-gvh>0.545', depth=4, feature='mcg', major=6, numExs=89, split=0.605)\n        │       ├── Node('/root/r-mcg>0.485/r-mcg>0.575/l-mcg<0.655/r-gvh>0.545/l-mcg<0.605', decision=6, depth=5)\n        │       └── Node('/root/r-mcg>0.485/r-mcg>0.575/l-mcg<0.655/r-gvh>0.545/r-mcg>0.605', decision=0, depth=5)\n        └── Node('/root/r-mcg>0.485/r-mcg>0.575/r-mcg>0.655', depth=3, feature='gvh', major=3, numExs=190, split=0.665)\n            ├── Node('/root/r-mcg>0.485/r-mcg>0.575/r-mcg>0.655/l-gvh<0.665', depth=4, feature='alm', major=4, numExs=96, split=0.475)\n            │   ├── Node('/root/r-mcg>0.485/r-mcg>0.575/r-mcg>0.655/l-gvh<0.665/l-alm<0.475', decision=4, depth=5)\n            │   └── Node('/root/r-mcg>0.485/r-mcg>0.575/r-mcg>0.655/l-gvh<0.665/r-alm>0.475', decision=0, depth=5)\n            └── Node('/root/r-mcg>0.485/r-mcg>0.575/r-mcg>0.655/r-gvh>0.665', depth=4, feature='mit', major=3, numExs=94, split=0.295)\n                ├── Node('/root/r-mcg>0.485/r-mcg>0.575/r-mcg>0.655/r-gvh>0.665/l-mit<0.295', decision=3, depth=5)\n                └── Node('/root/r-mcg>0.485/r-mcg>0.575/r-mcg>0.655/r-gvh>0.665/r-mit>0.295', decision=3, depth=5)\n"
     ]
    }
   ],
   "source": [
    "print(RenderTree(dumb))"
   ]
  },
  {
   "cell_type": "code",
   "execution_count": 359,
   "metadata": {},
   "outputs": [],
   "source": [
    "full = Node(\"root\", depth=0)\n",
    "split_node(full, data, G.feature_names[:-1])"
   ]
  },
  {
   "cell_type": "code",
   "execution_count": 360,
   "metadata": {
    "tags": [
     "outputPrepend"
    ]
   },
   "outputs": [
    {
     "output_type": "stream",
     "name": "stdout",
     "text": [
      "gvh>0.735/l-mcg<0.775/r-mcg>0.745/l-gvh<0.770/r-mcg>0.755', decision=3, depth=10)\n                │       │       └── Node('/root/r-mcg>0.485/r-mcg>0.575/r-mcg>0.655/r-gvh>0.665/l-mit<0.295/r-gvh>0.735/l-mcg<0.775/r-mcg>0.745/r-gvh>0.770', depth=9, feature='gvh', major=2, numExs=3, split=0.825)\n                │       │           ├── Node('/root/r-mcg>0.485/r-mcg>0.575/r-mcg>0.655/r-gvh>0.665/l-mit<0.295/r-gvh>0.735/l-mcg<0.775/r-mcg>0.745/r-gvh>0.770/l-gvh<0.825', decision=2, depth=10)\n                │       │           └── Node('/root/r-mcg>0.485/r-mcg>0.575/r-mcg>0.655/r-gvh>0.665/l-mit<0.295/r-gvh>0.735/l-mcg<0.775/r-mcg>0.745/r-gvh>0.770/r-gvh>0.825', decision=3, depth=10)\n                │       └── Node('/root/r-mcg>0.485/r-mcg>0.575/r-mcg>0.655/r-gvh>0.665/l-mit<0.295/r-gvh>0.735/r-mcg>0.775', depth=7, feature='gvh', major=3, numExs=12, split=0.785)\n                │           ├── Node('/root/r-mcg>0.485/r-mcg>0.575/r-mcg>0.655/r-gvh>0.665/l-mit<0.295/r-gvh>0.735/r-mcg>0.775/l-gvh<0.785', depth=8, feature='mcg', major=2, numExs=6, split=0.8)\n                │           │   ├── Node('/root/r-mcg>0.485/r-mcg>0.575/r-mcg>0.655/r-gvh>0.665/l-mit<0.295/r-gvh>0.735/r-mcg>0.775/l-gvh<0.785/l-mcg<0.800', depth=9, feature='gvh', major=1, numExs=3, split=0.745)\n                │           │   │   ├── Node('/root/r-mcg>0.485/r-mcg>0.575/r-mcg>0.655/r-gvh>0.665/l-mit<0.295/r-gvh>0.735/r-mcg>0.775/l-gvh<0.785/l-mcg<0.800/l-gvh<0.745', depth=10, feature='alm', major=1, numExs=2, split=0.5)\n                │           │   │   │   ├── Node('/root/r-mcg>0.485/r-mcg>0.575/r-mcg>0.655/r-gvh>0.665/l-mit<0.295/r-gvh>0.735/r-mcg>0.775/l-gvh<0.785/l-mcg<0.800/l-gvh<0.745/l-alm<0.500', decision=3, depth=11)\n                │           │   │   │   └── Node('/root/r-mcg>0.485/r-mcg>0.575/r-mcg>0.655/r-gvh>0.665/l-mit<0.295/r-gvh>0.735/r-mcg>0.775/l-gvh<0.785/l-mcg<0.800/l-gvh<0.745/r-alm>0.500', decision=1, depth=11)\n                │           │   │   └── Node('/root/r-mcg>0.485/r-mcg>0.575/r-mcg>0.655/r-gvh>0.665/l-mit<0.295/r-gvh>0.735/r-mcg>0.775/l-gvh<0.785/l-mcg<0.800/r-gvh>0.745', decision=6, depth=10)\n                │           │   └── Node('/root/r-mcg>0.485/r-mcg>0.575/r-mcg>0.655/r-gvh>0.665/l-mit<0.295/r-gvh>0.735/r-mcg>0.775/l-gvh<0.785/r-mcg>0.800', depth=9, feature='mcg', major=2, numExs=3, split=0.84)\n                │           │       ├── Node('/root/r-mcg>0.485/r-mcg>0.575/r-mcg>0.655/r-gvh>0.665/l-mit<0.295/r-gvh>0.735/r-mcg>0.775/l-gvh<0.785/r-mcg>0.800/l-mcg<0.840', decision=2, depth=10)\n                │           │       └── Node('/root/r-mcg>0.485/r-mcg>0.575/r-mcg>0.655/r-gvh>0.665/l-mit<0.295/r-gvh>0.735/r-mcg>0.775/l-gvh<0.785/r-mcg>0.800/r-mcg>0.840', decision=4, depth=10)\n                │           └── Node('/root/r-mcg>0.485/r-mcg>0.575/r-mcg>0.655/r-gvh>0.665/l-mit<0.295/r-gvh>0.735/r-mcg>0.775/r-gvh>0.785', depth=8, feature='mit', major=3, numExs=6, split=0.245)\n                │               ├── Node('/root/r-mcg>0.485/r-mcg>0.575/r-mcg>0.655/r-gvh>0.665/l-mit<0.295/r-gvh>0.735/r-mcg>0.775/r-gvh>0.785/l-mit<0.245', depth=9, feature='mcg', major=3, numExs=3, split=0.79)\n                │               │   ├── Node('/root/r-mcg>0.485/r-mcg>0.575/r-mcg>0.655/r-gvh>0.665/l-mit<0.295/r-gvh>0.735/r-mcg>0.775/r-gvh>0.785/l-mit<0.245/l-mcg<0.790', decision=0, depth=10)\n                │               │   └── Node('/root/r-mcg>0.485/r-mcg>0.575/r-mcg>0.655/r-gvh>0.665/l-mit<0.295/r-gvh>0.735/r-mcg>0.775/r-gvh>0.785/l-mit<0.245/r-mcg>0.790', decision=3, depth=10)\n                │               └── Node('/root/r-mcg>0.485/r-mcg>0.575/r-mcg>0.655/r-gvh>0.665/l-mit<0.295/r-gvh>0.735/r-mcg>0.775/r-gvh>0.785/r-mit>0.245', depth=9, feature='mcg', major=2, numExs=3, split=0.795)\n                │                   ├── Node('/root/r-mcg>0.485/r-mcg>0.575/r-mcg>0.655/r-gvh>0.665/l-mit<0.295/r-gvh>0.735/r-mcg>0.775/r-gvh>0.785/r-mit>0.245/l-mcg<0.795', decision=3, depth=10)\n                │                   └── Node('/root/r-mcg>0.485/r-mcg>0.575/r-mcg>0.655/r-gvh>0.665/l-mit<0.295/r-gvh>0.735/r-mcg>0.775/r-gvh>0.785/r-mit>0.245/r-mcg>0.795', depth=10, feature='gvh', major=2, numExs=2, split=0.8049999999999999)\n                │                       ├── Node('/root/r-mcg>0.485/r-mcg>0.575/r-mcg>0.655/r-gvh>0.665/l-mit<0.295/r-gvh>0.735/r-mcg>0.775/r-gvh>0.785/r-mit>0.245/r-mcg>0.795/l-gvh<0.805', decision=2, depth=11)\n                │                       └── Node('/root/r-mcg>0.485/r-mcg>0.575/r-mcg>0.655/r-gvh>0.665/l-mit<0.295/r-gvh>0.735/r-mcg>0.775/r-gvh>0.785/r-mit>0.245/r-mcg>0.795/r-gvh>0.805', decision=9, depth=11)\n                └── Node('/root/r-mcg>0.485/r-mcg>0.575/r-mcg>0.655/r-gvh>0.665/r-mit>0.295', depth=5, feature='mcg', major=3, numExs=47, split=0.805)\n                    ├── Node('/root/r-mcg>0.485/r-mcg>0.575/r-mcg>0.655/r-gvh>0.665/r-mit>0.295/l-mcg<0.805', depth=6, feature='mcg', major=3, numExs=24, split=0.745)\n                    │   ├── Node('/root/r-mcg>0.485/r-mcg>0.575/r-mcg>0.655/r-gvh>0.665/r-mit>0.295/l-mcg<0.805/l-mcg<0.745', depth=7, feature='gvh', major=3, numExs=12, split=0.72)\n                    │   │   ├── Node('/root/r-mcg>0.485/r-mcg>0.575/r-mcg>0.655/r-gvh>0.665/r-mit>0.295/l-mcg<0.805/l-mcg<0.745/l-gvh<0.720', depth=8, feature='mcg', major=2, numExs=6, split=0.695)\n                    │   │   │   ├── Node('/root/r-mcg>0.485/r-mcg>0.575/r-mcg>0.655/r-gvh>0.665/r-mit>0.295/l-mcg<0.805/l-mcg<0.745/l-gvh<0.720/l-mcg<0.695', depth=9, feature='mcg', major=2, numExs=3, split=0.6799999999999999)\n                    │   │   │   │   ├── Node('/root/r-mcg>0.485/r-mcg>0.575/r-mcg>0.655/r-gvh>0.665/r-mit>0.295/l-mcg<0.805/l-mcg<0.745/l-gvh<0.720/l-mcg<0.695/l-mcg<0.680', decision=7, depth=10)\n                    │   │   │   │   └── Node('/root/r-mcg>0.485/r-mcg>0.575/r-mcg>0.655/r-gvh>0.665/r-mit>0.295/l-mcg<0.805/l-mcg<0.745/l-gvh<0.720/l-mcg<0.695/r-mcg>0.680', depth=10, feature='alm', major=2, numExs=2, split=0.51)\n                    │   │   │   │       ├── Node('/root/r-mcg>0.485/r-mcg>0.575/r-mcg>0.655/r-gvh>0.665/r-mit>0.295/l-mcg<0.805/l-mcg<0.745/l-gvh<0.720/l-mcg<0.695/r-mcg>0.680/l-alm<0.510', decision=9, depth=11)\n                    │   │   │   │       └── Node('/root/r-mcg>0.485/r-mcg>0.575/r-mcg>0.655/r-gvh>0.665/r-mit>0.295/l-mcg<0.805/l-mcg<0.745/l-gvh<0.720/l-mcg<0.695/r-mcg>0.680/r-alm>0.510', decision=2, depth=11)\n                    │   │   │   └── Node('/root/r-mcg>0.485/r-mcg>0.575/r-mcg>0.655/r-gvh>0.665/r-mit>0.295/l-mcg<0.805/l-mcg<0.745/l-gvh<0.720/r-mcg>0.695', depth=9, feature='mcg', major=2, numExs=3, split=0.72)\n                    │   │   │       ├── Node('/root/r-mcg>0.485/r-mcg>0.575/r-mcg>0.655/r-gvh>0.665/r-mit>0.295/l-mcg<0.805/l-mcg<0.745/l-gvh<0.720/r-mcg>0.695/l-mcg<0.720', decision=3, depth=10)\n                    │   │   │       └── Node('/root/r-mcg>0.485/r-mcg>0.575/r-mcg>0.655/r-gvh>0.665/r-mit>0.295/l-mcg<0.805/l-mcg<0.745/l-gvh<0.720/r-mcg>0.695/r-mcg>0.720', decision=2, depth=10)\n                    │   │   └── Node('/root/r-mcg>0.485/r-mcg>0.575/r-mcg>0.655/r-gvh>0.665/r-mit>0.295/l-mcg<0.805/l-mcg<0.745/r-gvh>0.720', depth=8, feature='vac', major=3, numExs=6, split=0.53)\n                    │   │       ├── Node('/root/r-mcg>0.485/r-mcg>0.575/r-mcg>0.655/r-gvh>0.665/r-mit>0.295/l-mcg<0.805/l-mcg<0.745/r-gvh>0.720/l-vac<0.530', depth=9, feature='mcg', major=3, numExs=3, split=0.72)\n                    │   │       │   ├── Node('/root/r-mcg>0.485/r-mcg>0.575/r-mcg>0.655/r-gvh>0.665/r-mit>0.295/l-mcg<0.805/l-mcg<0.745/r-gvh>0.720/l-vac<0.530/l-mcg<0.720', decision=3, depth=10)\n                    │   │       │   └── Node('/root/r-mcg>0.485/r-mcg>0.575/r-mcg>0.655/r-gvh>0.665/r-mit>0.295/l-mcg<0.805/l-mcg<0.745/r-gvh>0.720/l-vac<0.530/r-mcg>0.720', depth=10, feature='alm', major=4, numExs=2, split=0.515)\n                    │   │       │       ├── Node('/root/r-mcg>0.485/r-mcg>0.575/r-mcg>0.655/r-gvh>0.665/r-mit>0.295/l-mcg<0.805/l-mcg<0.745/r-gvh>0.720/l-vac<0.530/r-mcg>0.720/l-alm<0.515', decision=8, depth=11)\n                    │   │       │       └── Node('/root/r-mcg>0.485/r-mcg>0.575/r-mcg>0.655/r-gvh>0.665/r-mit>0.295/l-mcg<0.805/l-mcg<0.745/r-gvh>0.720/l-vac<0.530/r-mcg>0.720/r-alm>0.515', decision=4, depth=11)\n                    │   │       └── Node('/root/r-mcg>0.485/r-mcg>0.575/r-mcg>0.655/r-gvh>0.665/r-mit>0.295/l-mcg<0.805/l-mcg<0.745/r-gvh>0.720/r-vac>0.530', decision=3, depth=9)\n                    │   └── Node('/root/r-mcg>0.485/r-mcg>0.575/r-mcg>0.655/r-gvh>0.665/r-mit>0.295/l-mcg<0.805/r-mcg>0.745', depth=7, feature='gvh', major=3, numExs=12, split=0.79)\n                    │       ├── Node('/root/r-mcg>0.485/r-mcg>0.575/r-mcg>0.655/r-gvh>0.665/r-mit>0.295/l-mcg<0.805/r-mcg>0.745/l-gvh<0.790', depth=8, feature='gvh', major=2, numExs=6, split=0.735)\n                    │       │   ├── Node('/root/r-mcg>0.485/r-mcg>0.575/r-mcg>0.655/r-gvh>0.665/r-mit>0.295/l-mcg<0.805/r-mcg>0.745/l-gvh<0.790/l-gvh<0.735', depth=9, feature='mcg', major=2, numExs=3, split=0.76)\n                    │       │   │   ├── Node('/root/r-mcg>0.485/r-mcg>0.575/r-mcg>0.655/r-gvh>0.665/r-mit>0.295/l-mcg<0.805/r-mcg>0.745/l-gvh<0.790/l-gvh<0.735/l-mcg<0.760', decision=3, depth=10)\n                    │       │   │   └── Node('/root/r-mcg>0.485/r-mcg>0.575/r-mcg>0.655/r-gvh>0.665/r-mit>0.295/l-mcg<0.805/r-mcg>0.745/l-gvh<0.790/l-gvh<0.735/r-mcg>0.760', depth=10, feature='mcg', major=2, numExs=2, split=0.785)\n                    │       │   │       ├── Node('/root/r-mcg>0.485/r-mcg>0.575/r-mcg>0.655/r-gvh>0.665/r-mit>0.295/l-mcg<0.805/r-mcg>0.745/l-gvh<0.790/l-gvh<0.735/r-mcg>0.760/l-mcg<0.785', decision=2, depth=11)\n                    │       │   │       └── Node('/root/r-mcg>0.485/r-mcg>0.575/r-mcg>0.655/r-gvh>0.665/r-mit>0.295/l-mcg<0.805/r-mcg>0.745/l-gvh<0.790/l-gvh<0.735/r-mcg>0.760/r-mcg>0.785', decision=4, depth=11)\n                    │       │   └── Node('/root/r-mcg>0.485/r-mcg>0.575/r-mcg>0.655/r-gvh>0.665/r-mit>0.295/l-mcg<0.805/r-mcg>0.745/l-gvh<0.790/r-gvh>0.735', depth=9, feature='mcg', major=2, numExs=3, split=0.765)\n                    │       │       ├── Node('/root/r-mcg>0.485/r-mcg>0.575/r-mcg>0.655/r-gvh>0.665/r-mit>0.295/l-mcg<0.805/r-mcg>0.745/l-gvh<0.790/r-gvh>0.735/l-mcg<0.765', decision=4, depth=10)\n                    │       │       └── Node('/root/r-mcg>0.485/r-mcg>0.575/r-mcg>0.655/r-gvh>0.665/r-mit>0.295/l-mcg<0.805/r-mcg>0.745/l-gvh<0.790/r-gvh>0.735/r-mcg>0.765', depth=10, feature='mcg', major=2, numExs=2, split=0.78)\n                    │       │           ├── Node('/root/r-mcg>0.485/r-mcg>0.575/r-mcg>0.655/r-gvh>0.665/r-mit>0.295/l-mcg<0.805/r-mcg>0.745/l-gvh<0.790/r-gvh>0.735/r-mcg>0.765/l-mcg<0.780', decision=3, depth=11)\n                    │       │           └── Node('/root/r-mcg>0.485/r-mcg>0.575/r-mcg>0.655/r-gvh>0.665/r-mit>0.295/l-mcg<0.805/r-mcg>0.745/l-gvh<0.790/r-gvh>0.735/r-mcg>0.765/r-mcg>0.780', decision=2, depth=11)\n                    │       └── Node('/root/r-mcg>0.485/r-mcg>0.575/r-mcg>0.655/r-gvh>0.665/r-mit>0.295/l-mcg<0.805/r-mcg>0.745/r-gvh>0.790', depth=8, feature='mcg', major=3, numExs=6, split=0.785)\n                    │           ├── Node('/root/r-mcg>0.485/r-mcg>0.575/r-mcg>0.655/r-gvh>0.665/r-mit>0.295/l-mcg<0.805/r-mcg>0.745/r-gvh>0.790/l-mcg<0.785', depth=9, feature='gvh', major=1, numExs=3, split=0.81)\n                    │           │   ├── Node('/root/r-mcg>0.485/r-mcg>0.575/r-mcg>0.655/r-gvh>0.665/r-mit>0.295/l-mcg<0.805/r-mcg>0.745/r-gvh>0.790/l-mcg<0.785/l-gvh<0.810', decision=1, depth=10)\n                    │           │   └── Node('/root/r-mcg>0.485/r-mcg>0.575/r-mcg>0.655/r-gvh>0.665/r-mit>0.295/l-mcg<0.805/r-mcg>0.745/r-gvh>0.790/l-mcg<0.785/r-gvh>0.810', depth=10, feature='gvh', major=2, numExs=2, split=0.845)\n                    │           │       ├── Node('/root/r-mcg>0.485/r-mcg>0.575/r-mcg>0.655/r-gvh>0.665/r-mit>0.295/l-mcg<0.805/r-mcg>0.745/r-gvh>0.790/l-mcg<0.785/r-gvh>0.810/l-gvh<0.845', decision=3, depth=11)\n                    │           │       └── Node('/root/r-mcg>0.485/r-mcg>0.575/r-mcg>0.655/r-gvh>0.665/r-mit>0.295/l-mcg<0.805/r-mcg>0.745/r-gvh>0.790/l-mcg<0.785/r-gvh>0.810/r-gvh>0.845', decision=2, depth=11)\n                    │           └── Node('/root/r-mcg>0.485/r-mcg>0.575/r-mcg>0.655/r-gvh>0.665/r-mit>0.295/l-mcg<0.805/r-mcg>0.745/r-gvh>0.790/r-mcg>0.785', depth=9, feature='gvh', major=3, numExs=3, split=0.815)\n                    │               ├── Node('/root/r-mcg>0.485/r-mcg>0.575/r-mcg>0.655/r-gvh>0.665/r-mit>0.295/l-mcg<0.805/r-mcg>0.745/r-gvh>0.790/r-mcg>0.785/l-gvh<0.815', decision=2, depth=10)\n                    │               └── Node('/root/r-mcg>0.485/r-mcg>0.575/r-mcg>0.655/r-gvh>0.665/r-mit>0.295/l-mcg<0.805/r-mcg>0.745/r-gvh>0.790/r-mcg>0.785/r-gvh>0.815', decision=3, depth=10)\n                    └── Node('/root/r-mcg>0.485/r-mcg>0.575/r-mcg>0.655/r-gvh>0.665/r-mit>0.295/r-mcg>0.805', depth=6, feature='mcg', major=3, numExs=23, split=0.865)\n                        ├── Node('/root/r-mcg>0.485/r-mcg>0.575/r-mcg>0.655/r-gvh>0.665/r-mit>0.295/r-mcg>0.805/l-mcg<0.865', depth=7, feature='mcg', major=3, numExs=12, split=0.835)\n                        │   ├── Node('/root/r-mcg>0.485/r-mcg>0.575/r-mcg>0.655/r-gvh>0.665/r-mit>0.295/r-mcg>0.805/l-mcg<0.865/l-mcg<0.835', depth=8, feature='alm', major=2, numExs=6, split=0.4)\n                        │   │   ├── Node('/root/r-mcg>0.485/r-mcg>0.575/r-mcg>0.655/r-gvh>0.665/r-mit>0.295/r-mcg>0.805/l-mcg<0.865/l-mcg<0.835/l-alm<0.400', depth=9, feature='gvh', major=4, numExs=3, split=0.775)\n                        │   │   │   ├── Node('/root/r-mcg>0.485/r-mcg>0.575/r-mcg>0.655/r-gvh>0.665/r-mit>0.295/r-mcg>0.805/l-mcg<0.865/l-mcg<0.835/l-alm<0.400/l-gvh<0.775', decision=4, depth=10)\n                        │   │   │   └── Node('/root/r-mcg>0.485/r-mcg>0.575/r-mcg>0.655/r-gvh>0.665/r-mit>0.295/r-mcg>0.805/l-mcg<0.865/l-mcg<0.835/l-alm<0.400/r-gvh>0.775', depth=10, feature='gvh', major=3, numExs=2, split=0.845)\n                        │   │   │       ├── Node('/root/r-mcg>0.485/r-mcg>0.575/r-mcg>0.655/r-gvh>0.665/r-mit>0.295/r-mcg>0.805/l-mcg<0.865/l-mcg<0.835/l-alm<0.400/r-gvh>0.775/l-gvh<0.845', decision=3, depth=11)\n                        │   │   │       └── Node('/root/r-mcg>0.485/r-mcg>0.575/r-mcg>0.655/r-gvh>0.665/r-mit>0.295/r-mcg>0.805/l-mcg<0.865/l-mcg<0.835/l-alm<0.400/r-gvh>0.775/r-gvh>0.845', decision=4, depth=11)\n                        │   │   └── Node('/root/r-mcg>0.485/r-mcg>0.575/r-mcg>0.655/r-gvh>0.665/r-mit>0.295/r-mcg>0.805/l-mcg<0.865/l-mcg<0.835/r-alm>0.400', decision=2, depth=9)\n                        │   └── Node('/root/r-mcg>0.485/r-mcg>0.575/r-mcg>0.655/r-gvh>0.665/r-mit>0.295/r-mcg>0.805/l-mcg<0.865/r-mcg>0.835', depth=8, feature='mit', major=3, numExs=6, split=0.33999999999999997)\n                        │       ├── Node('/root/r-mcg>0.485/r-mcg>0.575/r-mcg>0.655/r-gvh>0.665/r-mit>0.295/r-mcg>0.805/l-mcg<0.865/r-mcg>0.835/l-mit<0.340', decision=3, depth=9)\n                        │       └── Node('/root/r-mcg>0.485/r-mcg>0.575/r-mcg>0.655/r-gvh>0.665/r-mit>0.295/r-mcg>0.805/l-mcg<0.865/r-mcg>0.835/r-mit>0.340', depth=9, feature='mcg', major=1, numExs=3, split=0.85)\n                        │           ├── Node('/root/r-mcg>0.485/r-mcg>0.575/r-mcg>0.655/r-gvh>0.665/r-mit>0.295/r-mcg>0.805/l-mcg<0.865/r-mcg>0.835/r-mit>0.340/l-mcg<0.850', decision=3, depth=10)\n                        │           └── Node('/root/r-mcg>0.485/r-mcg>0.575/r-mcg>0.655/r-gvh>0.665/r-mit>0.295/r-mcg>0.805/l-mcg<0.865/r-mcg>0.835/r-mit>0.340/r-mcg>0.850', depth=10, feature='gvh', major=1, numExs=2, split=0.8300000000000001)\n                        │               ├── Node('/root/r-mcg>0.485/r-mcg>0.575/r-mcg>0.655/r-gvh>0.665/r-mit>0.295/r-mcg>0.805/l-mcg<0.865/r-mcg>0.835/r-mit>0.340/r-mcg>0.850/l-gvh<0.830', decision=4, depth=11)\n                        │               └── Node('/root/r-mcg>0.485/r-mcg>0.575/r-mcg>0.655/r-gvh>0.665/r-mit>0.295/r-mcg>0.805/l-mcg<0.865/r-mcg>0.835/r-mit>0.340/r-mcg>0.850/r-gvh>0.830', decision=1, depth=11)\n                        └── Node('/root/r-mcg>0.485/r-mcg>0.575/r-mcg>0.655/r-gvh>0.665/r-mit>0.295/r-mcg>0.805/r-mcg>0.865', depth=7, feature='mcg', major=4, numExs=11, split=0.9)\n                            ├── Node('/root/r-mcg>0.485/r-mcg>0.575/r-mcg>0.655/r-gvh>0.665/r-mit>0.295/r-mcg>0.805/r-mcg>0.865/l-mcg<0.900', depth=8, feature='mcg', major=2, numExs=6, split=0.885)\n                            │   ├── Node('/root/r-mcg>0.485/r-mcg>0.575/r-mcg>0.655/r-gvh>0.665/r-mit>0.295/r-mcg>0.805/r-mcg>0.865/l-mcg<0.900/l-mcg<0.885', depth=9, feature='mcg', major=2, numExs=3, split=0.875)\n                            │   │   ├── Node('/root/r-mcg>0.485/r-mcg>0.575/r-mcg>0.655/r-gvh>0.665/r-mit>0.295/r-mcg>0.805/r-mcg>0.865/l-mcg<0.900/l-mcg<0.885/l-mcg<0.875', decision=2, depth=10)\n                            │   │   └── Node('/root/r-mcg>0.485/r-mcg>0.575/r-mcg>0.655/r-gvh>0.665/r-mit>0.295/r-mcg>0.805/r-mcg>0.865/l-mcg<0.900/l-mcg<0.885/r-mcg>0.875', depth=10, feature='gvh', major=3, numExs=2, split=0.735)\n                            │   │       ├── Node('/root/r-mcg>0.485/r-mcg>0.575/r-mcg>0.655/r-gvh>0.665/r-mit>0.295/r-mcg>0.805/r-mcg>0.865/l-mcg<0.900/l-mcg<0.885/r-mcg>0.875/l-gvh<0.735', decision=3, depth=11)\n                            │   │       └── Node('/root/r-mcg>0.485/r-mcg>0.575/r-mcg>0.655/r-gvh>0.665/r-mit>0.295/r-mcg>0.805/r-mcg>0.865/l-mcg<0.900/l-mcg<0.885/r-mcg>0.875/r-gvh>0.735', decision=4, depth=11)\n                            │   └── Node('/root/r-mcg>0.485/r-mcg>0.575/r-mcg>0.655/r-gvh>0.665/r-mit>0.295/r-mcg>0.805/r-mcg>0.865/l-mcg<0.900/r-mcg>0.885', depth=9, feature='gvh', major=2, numExs=3, split=0.79)\n                            │       ├── Node('/root/r-mcg>0.485/r-mcg>0.575/r-mcg>0.655/r-gvh>0.665/r-mit>0.295/r-mcg>0.805/r-mcg>0.865/l-mcg<0.900/r-mcg>0.885/l-gvh<0.790', decision=2, depth=10)\n                            │       └── Node('/root/r-mcg>0.485/r-mcg>0.575/r-mcg>0.655/r-gvh>0.665/r-mit>0.295/r-mcg>0.805/r-mcg>0.865/l-mcg<0.900/r-mcg>0.885/r-gvh>0.790', depth=10, feature='gvh', major=3, numExs=2, split=0.815)\n                            │           ├── Node('/root/r-mcg>0.485/r-mcg>0.575/r-mcg>0.655/r-gvh>0.665/r-mit>0.295/r-mcg>0.805/r-mcg>0.865/l-mcg<0.900/r-mcg>0.885/r-gvh>0.790/l-gvh<0.815', decision=3, depth=11)\n                            │           └── Node('/root/r-mcg>0.485/r-mcg>0.575/r-mcg>0.655/r-gvh>0.665/r-mit>0.295/r-mcg>0.805/r-mcg>0.865/l-mcg<0.900/r-mcg>0.885/r-gvh>0.790/r-gvh>0.815', decision=4, depth=11)\n                            └── Node('/root/r-mcg>0.485/r-mcg>0.575/r-mcg>0.655/r-gvh>0.665/r-mit>0.295/r-mcg>0.805/r-mcg>0.865/r-mcg>0.900', depth=8, feature='mcg', major=4, numExs=5, split=0.9299999999999999)\n                                ├── Node('/root/r-mcg>0.485/r-mcg>0.575/r-mcg>0.655/r-gvh>0.665/r-mit>0.295/r-mcg>0.805/r-mcg>0.865/r-mcg>0.900/l-mcg<0.930', depth=9, feature='gvh', major=3, numExs=2, split=0.73)\n                                │   ├── Node('/root/r-mcg>0.485/r-mcg>0.575/r-mcg>0.655/r-gvh>0.665/r-mit>0.295/r-mcg>0.805/r-mcg>0.865/r-mcg>0.900/l-mcg<0.930/l-gvh<0.730', decision=4, depth=10)\n                                │   └── Node('/root/r-mcg>0.485/r-mcg>0.575/r-mcg>0.655/r-gvh>0.665/r-mit>0.295/r-mcg>0.805/r-mcg>0.865/r-mcg>0.900/l-mcg<0.930/r-gvh>0.730', decision=3, depth=10)\n                                └── Node('/root/r-mcg>0.485/r-mcg>0.575/r-mcg>0.655/r-gvh>0.665/r-mit>0.295/r-mcg>0.805/r-mcg>0.865/r-mcg>0.900/r-mcg>0.930', depth=9, feature='mcg', major=4, numExs=3, split=0.985)\n                                    ├── Node('/root/r-mcg>0.485/r-mcg>0.575/r-mcg>0.655/r-gvh>0.665/r-mit>0.295/r-mcg>0.805/r-mcg>0.865/r-mcg>0.900/r-mcg>0.930/l-mcg<0.985', decision=4, depth=10)\n                                    └── Node('/root/r-mcg>0.485/r-mcg>0.575/r-mcg>0.655/r-gvh>0.665/r-mit>0.295/r-mcg>0.805/r-mcg>0.865/r-mcg>0.900/r-mcg>0.930/r-mcg>0.985', decision=3, depth=10)\n"
     ]
    }
   ],
   "source": [
    "print(RenderTree(full))"
   ]
  },
  {
   "cell_type": "code",
   "execution_count": 361,
   "metadata": {},
   "outputs": [],
   "source": [
    "t1 = Node(\"root\", depth=0)\n",
    "split_node(t1, data, G.feature_names[:-1], 1)"
   ]
  },
  {
   "cell_type": "code",
   "execution_count": 362,
   "metadata": {},
   "outputs": [
    {
     "output_type": "stream",
     "name": "stdout",
     "text": [
      "Node('/root', depth=0, feature='mcg', major=0, numExs=1484, split=0.485)\n├── Node('/root/l-mcg<0.485', decision=7, depth=1)\n└── Node('/root/r-mcg>0.485', decision=0, depth=1)\n"
     ]
    }
   ],
   "source": [
    "print(RenderTree(t1))"
   ]
  },
  {
   "cell_type": "code",
   "execution_count": 363,
   "metadata": {},
   "outputs": [],
   "source": [
    "def learn_dt(examples: List, features: List[str], max_depth=math.inf) -> Node:\n",
    "    \"\"\"\n",
    "    Given some examples, some features, and the max depth,\n",
    "    creates the root of a decision tree, and\n",
    "    calls split_node to grow the tree to classify the examples using the features, and\n",
    "    returns the root node.\n",
    "\n",
    "    This function is a wrapper for split_node.\n",
    "\n",
    "    Tie breaking rule:\n",
    "    If there is a tie for majority voting, always return the label with the smallest value.\n",
    "\n",
    "    :param examples: a set of examples\n",
    "    :type examples: List[List[Any]]\n",
    "    :param features: a set of features\n",
    "    :type features: List[str]\n",
    "    :param max_depth: the max depth of the tree\n",
    "    :type max_depth: int, default math.inf\n",
    "    :return: the root of the tree\n",
    "    :rtype: Node\n",
    "    \"\"\" \n",
    "    root = Node(\"root\", depth=0)\n",
    "    split_node(root, examples, features, max_depth)\n",
    "    return root"
   ]
  },
  {
   "cell_type": "code",
   "execution_count": 364,
   "metadata": {},
   "outputs": [],
   "source": [
    "t2 = learn_dt(data, G.feature_names[:-1])"
   ]
  },
  {
   "cell_type": "code",
   "execution_count": 365,
   "metadata": {
    "tags": [
     "outputPrepend"
    ]
   },
   "outputs": [
    {
     "output_type": "stream",
     "name": "stdout",
     "text": [
      "gvh>0.735/l-mcg<0.775/r-mcg>0.745/l-gvh<0.770/r-mcg>0.755', decision=3, depth=10)\n                │       │       └── Node('/root/r-mcg>0.485/r-mcg>0.575/r-mcg>0.655/r-gvh>0.665/l-mit<0.295/r-gvh>0.735/l-mcg<0.775/r-mcg>0.745/r-gvh>0.770', depth=9, feature='gvh', major=2, numExs=3, split=0.825)\n                │       │           ├── Node('/root/r-mcg>0.485/r-mcg>0.575/r-mcg>0.655/r-gvh>0.665/l-mit<0.295/r-gvh>0.735/l-mcg<0.775/r-mcg>0.745/r-gvh>0.770/l-gvh<0.825', decision=2, depth=10)\n                │       │           └── Node('/root/r-mcg>0.485/r-mcg>0.575/r-mcg>0.655/r-gvh>0.665/l-mit<0.295/r-gvh>0.735/l-mcg<0.775/r-mcg>0.745/r-gvh>0.770/r-gvh>0.825', decision=3, depth=10)\n                │       └── Node('/root/r-mcg>0.485/r-mcg>0.575/r-mcg>0.655/r-gvh>0.665/l-mit<0.295/r-gvh>0.735/r-mcg>0.775', depth=7, feature='gvh', major=3, numExs=12, split=0.785)\n                │           ├── Node('/root/r-mcg>0.485/r-mcg>0.575/r-mcg>0.655/r-gvh>0.665/l-mit<0.295/r-gvh>0.735/r-mcg>0.775/l-gvh<0.785', depth=8, feature='mcg', major=2, numExs=6, split=0.8)\n                │           │   ├── Node('/root/r-mcg>0.485/r-mcg>0.575/r-mcg>0.655/r-gvh>0.665/l-mit<0.295/r-gvh>0.735/r-mcg>0.775/l-gvh<0.785/l-mcg<0.800', depth=9, feature='gvh', major=1, numExs=3, split=0.745)\n                │           │   │   ├── Node('/root/r-mcg>0.485/r-mcg>0.575/r-mcg>0.655/r-gvh>0.665/l-mit<0.295/r-gvh>0.735/r-mcg>0.775/l-gvh<0.785/l-mcg<0.800/l-gvh<0.745', depth=10, feature='alm', major=1, numExs=2, split=0.5)\n                │           │   │   │   ├── Node('/root/r-mcg>0.485/r-mcg>0.575/r-mcg>0.655/r-gvh>0.665/l-mit<0.295/r-gvh>0.735/r-mcg>0.775/l-gvh<0.785/l-mcg<0.800/l-gvh<0.745/l-alm<0.500', decision=3, depth=11)\n                │           │   │   │   └── Node('/root/r-mcg>0.485/r-mcg>0.575/r-mcg>0.655/r-gvh>0.665/l-mit<0.295/r-gvh>0.735/r-mcg>0.775/l-gvh<0.785/l-mcg<0.800/l-gvh<0.745/r-alm>0.500', decision=1, depth=11)\n                │           │   │   └── Node('/root/r-mcg>0.485/r-mcg>0.575/r-mcg>0.655/r-gvh>0.665/l-mit<0.295/r-gvh>0.735/r-mcg>0.775/l-gvh<0.785/l-mcg<0.800/r-gvh>0.745', decision=6, depth=10)\n                │           │   └── Node('/root/r-mcg>0.485/r-mcg>0.575/r-mcg>0.655/r-gvh>0.665/l-mit<0.295/r-gvh>0.735/r-mcg>0.775/l-gvh<0.785/r-mcg>0.800', depth=9, feature='mcg', major=2, numExs=3, split=0.84)\n                │           │       ├── Node('/root/r-mcg>0.485/r-mcg>0.575/r-mcg>0.655/r-gvh>0.665/l-mit<0.295/r-gvh>0.735/r-mcg>0.775/l-gvh<0.785/r-mcg>0.800/l-mcg<0.840', decision=2, depth=10)\n                │           │       └── Node('/root/r-mcg>0.485/r-mcg>0.575/r-mcg>0.655/r-gvh>0.665/l-mit<0.295/r-gvh>0.735/r-mcg>0.775/l-gvh<0.785/r-mcg>0.800/r-mcg>0.840', decision=4, depth=10)\n                │           └── Node('/root/r-mcg>0.485/r-mcg>0.575/r-mcg>0.655/r-gvh>0.665/l-mit<0.295/r-gvh>0.735/r-mcg>0.775/r-gvh>0.785', depth=8, feature='mit', major=3, numExs=6, split=0.245)\n                │               ├── Node('/root/r-mcg>0.485/r-mcg>0.575/r-mcg>0.655/r-gvh>0.665/l-mit<0.295/r-gvh>0.735/r-mcg>0.775/r-gvh>0.785/l-mit<0.245', depth=9, feature='mcg', major=3, numExs=3, split=0.79)\n                │               │   ├── Node('/root/r-mcg>0.485/r-mcg>0.575/r-mcg>0.655/r-gvh>0.665/l-mit<0.295/r-gvh>0.735/r-mcg>0.775/r-gvh>0.785/l-mit<0.245/l-mcg<0.790', decision=0, depth=10)\n                │               │   └── Node('/root/r-mcg>0.485/r-mcg>0.575/r-mcg>0.655/r-gvh>0.665/l-mit<0.295/r-gvh>0.735/r-mcg>0.775/r-gvh>0.785/l-mit<0.245/r-mcg>0.790', decision=3, depth=10)\n                │               └── Node('/root/r-mcg>0.485/r-mcg>0.575/r-mcg>0.655/r-gvh>0.665/l-mit<0.295/r-gvh>0.735/r-mcg>0.775/r-gvh>0.785/r-mit>0.245', depth=9, feature='mcg', major=2, numExs=3, split=0.795)\n                │                   ├── Node('/root/r-mcg>0.485/r-mcg>0.575/r-mcg>0.655/r-gvh>0.665/l-mit<0.295/r-gvh>0.735/r-mcg>0.775/r-gvh>0.785/r-mit>0.245/l-mcg<0.795', decision=3, depth=10)\n                │                   └── Node('/root/r-mcg>0.485/r-mcg>0.575/r-mcg>0.655/r-gvh>0.665/l-mit<0.295/r-gvh>0.735/r-mcg>0.775/r-gvh>0.785/r-mit>0.245/r-mcg>0.795', depth=10, feature='gvh', major=2, numExs=2, split=0.8049999999999999)\n                │                       ├── Node('/root/r-mcg>0.485/r-mcg>0.575/r-mcg>0.655/r-gvh>0.665/l-mit<0.295/r-gvh>0.735/r-mcg>0.775/r-gvh>0.785/r-mit>0.245/r-mcg>0.795/l-gvh<0.805', decision=2, depth=11)\n                │                       └── Node('/root/r-mcg>0.485/r-mcg>0.575/r-mcg>0.655/r-gvh>0.665/l-mit<0.295/r-gvh>0.735/r-mcg>0.775/r-gvh>0.785/r-mit>0.245/r-mcg>0.795/r-gvh>0.805', decision=9, depth=11)\n                └── Node('/root/r-mcg>0.485/r-mcg>0.575/r-mcg>0.655/r-gvh>0.665/r-mit>0.295', depth=5, feature='mcg', major=3, numExs=47, split=0.805)\n                    ├── Node('/root/r-mcg>0.485/r-mcg>0.575/r-mcg>0.655/r-gvh>0.665/r-mit>0.295/l-mcg<0.805', depth=6, feature='mcg', major=3, numExs=24, split=0.745)\n                    │   ├── Node('/root/r-mcg>0.485/r-mcg>0.575/r-mcg>0.655/r-gvh>0.665/r-mit>0.295/l-mcg<0.805/l-mcg<0.745', depth=7, feature='gvh', major=3, numExs=12, split=0.72)\n                    │   │   ├── Node('/root/r-mcg>0.485/r-mcg>0.575/r-mcg>0.655/r-gvh>0.665/r-mit>0.295/l-mcg<0.805/l-mcg<0.745/l-gvh<0.720', depth=8, feature='mcg', major=2, numExs=6, split=0.695)\n                    │   │   │   ├── Node('/root/r-mcg>0.485/r-mcg>0.575/r-mcg>0.655/r-gvh>0.665/r-mit>0.295/l-mcg<0.805/l-mcg<0.745/l-gvh<0.720/l-mcg<0.695', depth=9, feature='mcg', major=2, numExs=3, split=0.6799999999999999)\n                    │   │   │   │   ├── Node('/root/r-mcg>0.485/r-mcg>0.575/r-mcg>0.655/r-gvh>0.665/r-mit>0.295/l-mcg<0.805/l-mcg<0.745/l-gvh<0.720/l-mcg<0.695/l-mcg<0.680', decision=7, depth=10)\n                    │   │   │   │   └── Node('/root/r-mcg>0.485/r-mcg>0.575/r-mcg>0.655/r-gvh>0.665/r-mit>0.295/l-mcg<0.805/l-mcg<0.745/l-gvh<0.720/l-mcg<0.695/r-mcg>0.680', depth=10, feature='alm', major=2, numExs=2, split=0.51)\n                    │   │   │   │       ├── Node('/root/r-mcg>0.485/r-mcg>0.575/r-mcg>0.655/r-gvh>0.665/r-mit>0.295/l-mcg<0.805/l-mcg<0.745/l-gvh<0.720/l-mcg<0.695/r-mcg>0.680/l-alm<0.510', decision=9, depth=11)\n                    │   │   │   │       └── Node('/root/r-mcg>0.485/r-mcg>0.575/r-mcg>0.655/r-gvh>0.665/r-mit>0.295/l-mcg<0.805/l-mcg<0.745/l-gvh<0.720/l-mcg<0.695/r-mcg>0.680/r-alm>0.510', decision=2, depth=11)\n                    │   │   │   └── Node('/root/r-mcg>0.485/r-mcg>0.575/r-mcg>0.655/r-gvh>0.665/r-mit>0.295/l-mcg<0.805/l-mcg<0.745/l-gvh<0.720/r-mcg>0.695', depth=9, feature='mcg', major=2, numExs=3, split=0.72)\n                    │   │   │       ├── Node('/root/r-mcg>0.485/r-mcg>0.575/r-mcg>0.655/r-gvh>0.665/r-mit>0.295/l-mcg<0.805/l-mcg<0.745/l-gvh<0.720/r-mcg>0.695/l-mcg<0.720', decision=3, depth=10)\n                    │   │   │       └── Node('/root/r-mcg>0.485/r-mcg>0.575/r-mcg>0.655/r-gvh>0.665/r-mit>0.295/l-mcg<0.805/l-mcg<0.745/l-gvh<0.720/r-mcg>0.695/r-mcg>0.720', decision=2, depth=10)\n                    │   │   └── Node('/root/r-mcg>0.485/r-mcg>0.575/r-mcg>0.655/r-gvh>0.665/r-mit>0.295/l-mcg<0.805/l-mcg<0.745/r-gvh>0.720', depth=8, feature='vac', major=3, numExs=6, split=0.53)\n                    │   │       ├── Node('/root/r-mcg>0.485/r-mcg>0.575/r-mcg>0.655/r-gvh>0.665/r-mit>0.295/l-mcg<0.805/l-mcg<0.745/r-gvh>0.720/l-vac<0.530', depth=9, feature='mcg', major=3, numExs=3, split=0.72)\n                    │   │       │   ├── Node('/root/r-mcg>0.485/r-mcg>0.575/r-mcg>0.655/r-gvh>0.665/r-mit>0.295/l-mcg<0.805/l-mcg<0.745/r-gvh>0.720/l-vac<0.530/l-mcg<0.720', decision=3, depth=10)\n                    │   │       │   └── Node('/root/r-mcg>0.485/r-mcg>0.575/r-mcg>0.655/r-gvh>0.665/r-mit>0.295/l-mcg<0.805/l-mcg<0.745/r-gvh>0.720/l-vac<0.530/r-mcg>0.720', depth=10, feature='alm', major=4, numExs=2, split=0.515)\n                    │   │       │       ├── Node('/root/r-mcg>0.485/r-mcg>0.575/r-mcg>0.655/r-gvh>0.665/r-mit>0.295/l-mcg<0.805/l-mcg<0.745/r-gvh>0.720/l-vac<0.530/r-mcg>0.720/l-alm<0.515', decision=8, depth=11)\n                    │   │       │       └── Node('/root/r-mcg>0.485/r-mcg>0.575/r-mcg>0.655/r-gvh>0.665/r-mit>0.295/l-mcg<0.805/l-mcg<0.745/r-gvh>0.720/l-vac<0.530/r-mcg>0.720/r-alm>0.515', decision=4, depth=11)\n                    │   │       └── Node('/root/r-mcg>0.485/r-mcg>0.575/r-mcg>0.655/r-gvh>0.665/r-mit>0.295/l-mcg<0.805/l-mcg<0.745/r-gvh>0.720/r-vac>0.530', decision=3, depth=9)\n                    │   └── Node('/root/r-mcg>0.485/r-mcg>0.575/r-mcg>0.655/r-gvh>0.665/r-mit>0.295/l-mcg<0.805/r-mcg>0.745', depth=7, feature='gvh', major=3, numExs=12, split=0.79)\n                    │       ├── Node('/root/r-mcg>0.485/r-mcg>0.575/r-mcg>0.655/r-gvh>0.665/r-mit>0.295/l-mcg<0.805/r-mcg>0.745/l-gvh<0.790', depth=8, feature='gvh', major=2, numExs=6, split=0.735)\n                    │       │   ├── Node('/root/r-mcg>0.485/r-mcg>0.575/r-mcg>0.655/r-gvh>0.665/r-mit>0.295/l-mcg<0.805/r-mcg>0.745/l-gvh<0.790/l-gvh<0.735', depth=9, feature='mcg', major=2, numExs=3, split=0.76)\n                    │       │   │   ├── Node('/root/r-mcg>0.485/r-mcg>0.575/r-mcg>0.655/r-gvh>0.665/r-mit>0.295/l-mcg<0.805/r-mcg>0.745/l-gvh<0.790/l-gvh<0.735/l-mcg<0.760', decision=3, depth=10)\n                    │       │   │   └── Node('/root/r-mcg>0.485/r-mcg>0.575/r-mcg>0.655/r-gvh>0.665/r-mit>0.295/l-mcg<0.805/r-mcg>0.745/l-gvh<0.790/l-gvh<0.735/r-mcg>0.760', depth=10, feature='mcg', major=2, numExs=2, split=0.785)\n                    │       │   │       ├── Node('/root/r-mcg>0.485/r-mcg>0.575/r-mcg>0.655/r-gvh>0.665/r-mit>0.295/l-mcg<0.805/r-mcg>0.745/l-gvh<0.790/l-gvh<0.735/r-mcg>0.760/l-mcg<0.785', decision=2, depth=11)\n                    │       │   │       └── Node('/root/r-mcg>0.485/r-mcg>0.575/r-mcg>0.655/r-gvh>0.665/r-mit>0.295/l-mcg<0.805/r-mcg>0.745/l-gvh<0.790/l-gvh<0.735/r-mcg>0.760/r-mcg>0.785', decision=4, depth=11)\n                    │       │   └── Node('/root/r-mcg>0.485/r-mcg>0.575/r-mcg>0.655/r-gvh>0.665/r-mit>0.295/l-mcg<0.805/r-mcg>0.745/l-gvh<0.790/r-gvh>0.735', depth=9, feature='mcg', major=2, numExs=3, split=0.765)\n                    │       │       ├── Node('/root/r-mcg>0.485/r-mcg>0.575/r-mcg>0.655/r-gvh>0.665/r-mit>0.295/l-mcg<0.805/r-mcg>0.745/l-gvh<0.790/r-gvh>0.735/l-mcg<0.765', decision=4, depth=10)\n                    │       │       └── Node('/root/r-mcg>0.485/r-mcg>0.575/r-mcg>0.655/r-gvh>0.665/r-mit>0.295/l-mcg<0.805/r-mcg>0.745/l-gvh<0.790/r-gvh>0.735/r-mcg>0.765', depth=10, feature='mcg', major=2, numExs=2, split=0.78)\n                    │       │           ├── Node('/root/r-mcg>0.485/r-mcg>0.575/r-mcg>0.655/r-gvh>0.665/r-mit>0.295/l-mcg<0.805/r-mcg>0.745/l-gvh<0.790/r-gvh>0.735/r-mcg>0.765/l-mcg<0.780', decision=3, depth=11)\n                    │       │           └── Node('/root/r-mcg>0.485/r-mcg>0.575/r-mcg>0.655/r-gvh>0.665/r-mit>0.295/l-mcg<0.805/r-mcg>0.745/l-gvh<0.790/r-gvh>0.735/r-mcg>0.765/r-mcg>0.780', decision=2, depth=11)\n                    │       └── Node('/root/r-mcg>0.485/r-mcg>0.575/r-mcg>0.655/r-gvh>0.665/r-mit>0.295/l-mcg<0.805/r-mcg>0.745/r-gvh>0.790', depth=8, feature='mcg', major=3, numExs=6, split=0.785)\n                    │           ├── Node('/root/r-mcg>0.485/r-mcg>0.575/r-mcg>0.655/r-gvh>0.665/r-mit>0.295/l-mcg<0.805/r-mcg>0.745/r-gvh>0.790/l-mcg<0.785', depth=9, feature='gvh', major=1, numExs=3, split=0.81)\n                    │           │   ├── Node('/root/r-mcg>0.485/r-mcg>0.575/r-mcg>0.655/r-gvh>0.665/r-mit>0.295/l-mcg<0.805/r-mcg>0.745/r-gvh>0.790/l-mcg<0.785/l-gvh<0.810', decision=1, depth=10)\n                    │           │   └── Node('/root/r-mcg>0.485/r-mcg>0.575/r-mcg>0.655/r-gvh>0.665/r-mit>0.295/l-mcg<0.805/r-mcg>0.745/r-gvh>0.790/l-mcg<0.785/r-gvh>0.810', depth=10, feature='gvh', major=2, numExs=2, split=0.845)\n                    │           │       ├── Node('/root/r-mcg>0.485/r-mcg>0.575/r-mcg>0.655/r-gvh>0.665/r-mit>0.295/l-mcg<0.805/r-mcg>0.745/r-gvh>0.790/l-mcg<0.785/r-gvh>0.810/l-gvh<0.845', decision=3, depth=11)\n                    │           │       └── Node('/root/r-mcg>0.485/r-mcg>0.575/r-mcg>0.655/r-gvh>0.665/r-mit>0.295/l-mcg<0.805/r-mcg>0.745/r-gvh>0.790/l-mcg<0.785/r-gvh>0.810/r-gvh>0.845', decision=2, depth=11)\n                    │           └── Node('/root/r-mcg>0.485/r-mcg>0.575/r-mcg>0.655/r-gvh>0.665/r-mit>0.295/l-mcg<0.805/r-mcg>0.745/r-gvh>0.790/r-mcg>0.785', depth=9, feature='gvh', major=3, numExs=3, split=0.815)\n                    │               ├── Node('/root/r-mcg>0.485/r-mcg>0.575/r-mcg>0.655/r-gvh>0.665/r-mit>0.295/l-mcg<0.805/r-mcg>0.745/r-gvh>0.790/r-mcg>0.785/l-gvh<0.815', decision=2, depth=10)\n                    │               └── Node('/root/r-mcg>0.485/r-mcg>0.575/r-mcg>0.655/r-gvh>0.665/r-mit>0.295/l-mcg<0.805/r-mcg>0.745/r-gvh>0.790/r-mcg>0.785/r-gvh>0.815', decision=3, depth=10)\n                    └── Node('/root/r-mcg>0.485/r-mcg>0.575/r-mcg>0.655/r-gvh>0.665/r-mit>0.295/r-mcg>0.805', depth=6, feature='mcg', major=3, numExs=23, split=0.865)\n                        ├── Node('/root/r-mcg>0.485/r-mcg>0.575/r-mcg>0.655/r-gvh>0.665/r-mit>0.295/r-mcg>0.805/l-mcg<0.865', depth=7, feature='mcg', major=3, numExs=12, split=0.835)\n                        │   ├── Node('/root/r-mcg>0.485/r-mcg>0.575/r-mcg>0.655/r-gvh>0.665/r-mit>0.295/r-mcg>0.805/l-mcg<0.865/l-mcg<0.835', depth=8, feature='alm', major=2, numExs=6, split=0.4)\n                        │   │   ├── Node('/root/r-mcg>0.485/r-mcg>0.575/r-mcg>0.655/r-gvh>0.665/r-mit>0.295/r-mcg>0.805/l-mcg<0.865/l-mcg<0.835/l-alm<0.400', depth=9, feature='gvh', major=4, numExs=3, split=0.775)\n                        │   │   │   ├── Node('/root/r-mcg>0.485/r-mcg>0.575/r-mcg>0.655/r-gvh>0.665/r-mit>0.295/r-mcg>0.805/l-mcg<0.865/l-mcg<0.835/l-alm<0.400/l-gvh<0.775', decision=4, depth=10)\n                        │   │   │   └── Node('/root/r-mcg>0.485/r-mcg>0.575/r-mcg>0.655/r-gvh>0.665/r-mit>0.295/r-mcg>0.805/l-mcg<0.865/l-mcg<0.835/l-alm<0.400/r-gvh>0.775', depth=10, feature='gvh', major=3, numExs=2, split=0.845)\n                        │   │   │       ├── Node('/root/r-mcg>0.485/r-mcg>0.575/r-mcg>0.655/r-gvh>0.665/r-mit>0.295/r-mcg>0.805/l-mcg<0.865/l-mcg<0.835/l-alm<0.400/r-gvh>0.775/l-gvh<0.845', decision=3, depth=11)\n                        │   │   │       └── Node('/root/r-mcg>0.485/r-mcg>0.575/r-mcg>0.655/r-gvh>0.665/r-mit>0.295/r-mcg>0.805/l-mcg<0.865/l-mcg<0.835/l-alm<0.400/r-gvh>0.775/r-gvh>0.845', decision=4, depth=11)\n                        │   │   └── Node('/root/r-mcg>0.485/r-mcg>0.575/r-mcg>0.655/r-gvh>0.665/r-mit>0.295/r-mcg>0.805/l-mcg<0.865/l-mcg<0.835/r-alm>0.400', decision=2, depth=9)\n                        │   └── Node('/root/r-mcg>0.485/r-mcg>0.575/r-mcg>0.655/r-gvh>0.665/r-mit>0.295/r-mcg>0.805/l-mcg<0.865/r-mcg>0.835', depth=8, feature='mit', major=3, numExs=6, split=0.33999999999999997)\n                        │       ├── Node('/root/r-mcg>0.485/r-mcg>0.575/r-mcg>0.655/r-gvh>0.665/r-mit>0.295/r-mcg>0.805/l-mcg<0.865/r-mcg>0.835/l-mit<0.340', decision=3, depth=9)\n                        │       └── Node('/root/r-mcg>0.485/r-mcg>0.575/r-mcg>0.655/r-gvh>0.665/r-mit>0.295/r-mcg>0.805/l-mcg<0.865/r-mcg>0.835/r-mit>0.340', depth=9, feature='mcg', major=1, numExs=3, split=0.85)\n                        │           ├── Node('/root/r-mcg>0.485/r-mcg>0.575/r-mcg>0.655/r-gvh>0.665/r-mit>0.295/r-mcg>0.805/l-mcg<0.865/r-mcg>0.835/r-mit>0.340/l-mcg<0.850', decision=3, depth=10)\n                        │           └── Node('/root/r-mcg>0.485/r-mcg>0.575/r-mcg>0.655/r-gvh>0.665/r-mit>0.295/r-mcg>0.805/l-mcg<0.865/r-mcg>0.835/r-mit>0.340/r-mcg>0.850', depth=10, feature='gvh', major=1, numExs=2, split=0.8300000000000001)\n                        │               ├── Node('/root/r-mcg>0.485/r-mcg>0.575/r-mcg>0.655/r-gvh>0.665/r-mit>0.295/r-mcg>0.805/l-mcg<0.865/r-mcg>0.835/r-mit>0.340/r-mcg>0.850/l-gvh<0.830', decision=4, depth=11)\n                        │               └── Node('/root/r-mcg>0.485/r-mcg>0.575/r-mcg>0.655/r-gvh>0.665/r-mit>0.295/r-mcg>0.805/l-mcg<0.865/r-mcg>0.835/r-mit>0.340/r-mcg>0.850/r-gvh>0.830', decision=1, depth=11)\n                        └── Node('/root/r-mcg>0.485/r-mcg>0.575/r-mcg>0.655/r-gvh>0.665/r-mit>0.295/r-mcg>0.805/r-mcg>0.865', depth=7, feature='mcg', major=4, numExs=11, split=0.9)\n                            ├── Node('/root/r-mcg>0.485/r-mcg>0.575/r-mcg>0.655/r-gvh>0.665/r-mit>0.295/r-mcg>0.805/r-mcg>0.865/l-mcg<0.900', depth=8, feature='mcg', major=2, numExs=6, split=0.885)\n                            │   ├── Node('/root/r-mcg>0.485/r-mcg>0.575/r-mcg>0.655/r-gvh>0.665/r-mit>0.295/r-mcg>0.805/r-mcg>0.865/l-mcg<0.900/l-mcg<0.885', depth=9, feature='mcg', major=2, numExs=3, split=0.875)\n                            │   │   ├── Node('/root/r-mcg>0.485/r-mcg>0.575/r-mcg>0.655/r-gvh>0.665/r-mit>0.295/r-mcg>0.805/r-mcg>0.865/l-mcg<0.900/l-mcg<0.885/l-mcg<0.875', decision=2, depth=10)\n                            │   │   └── Node('/root/r-mcg>0.485/r-mcg>0.575/r-mcg>0.655/r-gvh>0.665/r-mit>0.295/r-mcg>0.805/r-mcg>0.865/l-mcg<0.900/l-mcg<0.885/r-mcg>0.875', depth=10, feature='gvh', major=3, numExs=2, split=0.735)\n                            │   │       ├── Node('/root/r-mcg>0.485/r-mcg>0.575/r-mcg>0.655/r-gvh>0.665/r-mit>0.295/r-mcg>0.805/r-mcg>0.865/l-mcg<0.900/l-mcg<0.885/r-mcg>0.875/l-gvh<0.735', decision=3, depth=11)\n                            │   │       └── Node('/root/r-mcg>0.485/r-mcg>0.575/r-mcg>0.655/r-gvh>0.665/r-mit>0.295/r-mcg>0.805/r-mcg>0.865/l-mcg<0.900/l-mcg<0.885/r-mcg>0.875/r-gvh>0.735', decision=4, depth=11)\n                            │   └── Node('/root/r-mcg>0.485/r-mcg>0.575/r-mcg>0.655/r-gvh>0.665/r-mit>0.295/r-mcg>0.805/r-mcg>0.865/l-mcg<0.900/r-mcg>0.885', depth=9, feature='gvh', major=2, numExs=3, split=0.79)\n                            │       ├── Node('/root/r-mcg>0.485/r-mcg>0.575/r-mcg>0.655/r-gvh>0.665/r-mit>0.295/r-mcg>0.805/r-mcg>0.865/l-mcg<0.900/r-mcg>0.885/l-gvh<0.790', decision=2, depth=10)\n                            │       └── Node('/root/r-mcg>0.485/r-mcg>0.575/r-mcg>0.655/r-gvh>0.665/r-mit>0.295/r-mcg>0.805/r-mcg>0.865/l-mcg<0.900/r-mcg>0.885/r-gvh>0.790', depth=10, feature='gvh', major=3, numExs=2, split=0.815)\n                            │           ├── Node('/root/r-mcg>0.485/r-mcg>0.575/r-mcg>0.655/r-gvh>0.665/r-mit>0.295/r-mcg>0.805/r-mcg>0.865/l-mcg<0.900/r-mcg>0.885/r-gvh>0.790/l-gvh<0.815', decision=3, depth=11)\n                            │           └── Node('/root/r-mcg>0.485/r-mcg>0.575/r-mcg>0.655/r-gvh>0.665/r-mit>0.295/r-mcg>0.805/r-mcg>0.865/l-mcg<0.900/r-mcg>0.885/r-gvh>0.790/r-gvh>0.815', decision=4, depth=11)\n                            └── Node('/root/r-mcg>0.485/r-mcg>0.575/r-mcg>0.655/r-gvh>0.665/r-mit>0.295/r-mcg>0.805/r-mcg>0.865/r-mcg>0.900', depth=8, feature='mcg', major=4, numExs=5, split=0.9299999999999999)\n                                ├── Node('/root/r-mcg>0.485/r-mcg>0.575/r-mcg>0.655/r-gvh>0.665/r-mit>0.295/r-mcg>0.805/r-mcg>0.865/r-mcg>0.900/l-mcg<0.930', depth=9, feature='gvh', major=3, numExs=2, split=0.73)\n                                │   ├── Node('/root/r-mcg>0.485/r-mcg>0.575/r-mcg>0.655/r-gvh>0.665/r-mit>0.295/r-mcg>0.805/r-mcg>0.865/r-mcg>0.900/l-mcg<0.930/l-gvh<0.730', decision=4, depth=10)\n                                │   └── Node('/root/r-mcg>0.485/r-mcg>0.575/r-mcg>0.655/r-gvh>0.665/r-mit>0.295/r-mcg>0.805/r-mcg>0.865/r-mcg>0.900/l-mcg<0.930/r-gvh>0.730', decision=3, depth=10)\n                                └── Node('/root/r-mcg>0.485/r-mcg>0.575/r-mcg>0.655/r-gvh>0.665/r-mit>0.295/r-mcg>0.805/r-mcg>0.865/r-mcg>0.900/r-mcg>0.930', depth=9, feature='mcg', major=4, numExs=3, split=0.985)\n                                    ├── Node('/root/r-mcg>0.485/r-mcg>0.575/r-mcg>0.655/r-gvh>0.665/r-mit>0.295/r-mcg>0.805/r-mcg>0.865/r-mcg>0.900/r-mcg>0.930/l-mcg<0.985', decision=4, depth=10)\n                                    └── Node('/root/r-mcg>0.485/r-mcg>0.575/r-mcg>0.655/r-gvh>0.665/r-mit>0.295/r-mcg>0.805/r-mcg>0.865/r-mcg>0.900/r-mcg>0.930/r-mcg>0.985', decision=3, depth=10)\n"
     ]
    }
   ],
   "source": [
    "print(RenderTree(t2))"
   ]
  },
  {
   "cell_type": "code",
   "execution_count": 366,
   "metadata": {},
   "outputs": [
    {
     "output_type": "execute_result",
     "data": {
      "text/plain": [
       "False"
      ]
     },
     "metadata": {},
     "execution_count": 366
    }
   ],
   "source": [
    "root.is_leaf"
   ]
  },
  {
   "cell_type": "code",
   "execution_count": 367,
   "metadata": {},
   "outputs": [],
   "source": [
    "def predict(cur_node: Node, example, max_depth=math.inf, \\\n",
    "    min_num_examples=0) -> int:\n",
    "    \"\"\"\n",
    "    Given a tree with cur_node as its root, an example, and optionally a max depth,\n",
    "    returns a prediction for the example based on the tree.\n",
    "\n",
    "    If max_depth is provided and we haven't reached a leaf node at the max depth, \n",
    "    return the majority decision at this node.\n",
    "\n",
    "    If min_num_examples is provided and the number of examples at the node is less than min_num_examples, \n",
    "    return the majority decision at this node.\n",
    "    \n",
    "    This function is recursive.\n",
    "\n",
    "    Tie breaking rule:\n",
    "    If there is a tie for majority voting, always return the label with the smallest value.\n",
    "\n",
    "    :param cur_node: cur_node of a decision tree\n",
    "    :type cur_node: Node\n",
    "    :param example: one example\n",
    "    :type example: List[Any]\n",
    "    :param max_depth: the max depth\n",
    "    :type max_depth: int, default math.inf\n",
    "    :param min_num_examples: the minimum number of examples at a node\n",
    "    :type min_num_examples: int, default 0\n",
    "    :return: the decision for the given example\n",
    "    :rtype: int\n",
    "    \"\"\" \n",
    "    if cur_node.is_leaf:\n",
    "        return cur_node.decision\n",
    "    elif max_depth <= 0 or cur_node.numExs < min_num_examples:\n",
    "        return cur_node.major\n",
    "    \n",
    "    indFea = G.feature_names.index(cur_node.feature)\n",
    "    # if indFea >= len(example):\n",
    "    #     print(cur_node.feature, indFea, example)\n",
    "    nextNode = cur_node.children[0] if example[indFea] <= cur_node.split else cur_node.children[1]\n",
    "    return predict(nextNode, example, max_depth - 1, min_num_examples)"
   ]
  },
  {
   "cell_type": "code",
   "execution_count": 368,
   "metadata": {},
   "outputs": [
    {
     "output_type": "execute_result",
     "data": {
      "text/plain": [
       "7"
      ]
     },
     "metadata": {},
     "execution_count": 368
    }
   ],
   "source": [
    "predict(full, data[22])"
   ]
  },
  {
   "cell_type": "code",
   "execution_count": 369,
   "metadata": {},
   "outputs": [
    {
     "output_type": "execute_result",
     "data": {
      "text/plain": [
       "0"
      ]
     },
     "metadata": {},
     "execution_count": 369
    }
   ],
   "source": [
    "predict(full, data[22][:-1], 1)"
   ]
  },
  {
   "cell_type": "code",
   "execution_count": 370,
   "metadata": {},
   "outputs": [
    {
     "output_type": "execute_result",
     "data": {
      "text/plain": [
       "7"
      ]
     },
     "metadata": {},
     "execution_count": 370
    }
   ],
   "source": [
    "predict(full, data[22], min_num_examples=2)"
   ]
  },
  {
   "cell_type": "code",
   "execution_count": 371,
   "metadata": {},
   "outputs": [
    {
     "output_type": "execute_result",
     "data": {
      "text/plain": [
       "6"
      ]
     },
     "metadata": {},
     "execution_count": 371
    }
   ],
   "source": [
    "predict(full, data[22], min_num_examples=100)"
   ]
  },
  {
   "cell_type": "code",
   "execution_count": 372,
   "metadata": {},
   "outputs": [
    {
     "output_type": "execute_result",
     "data": {
      "text/plain": [
       "0"
      ]
     },
     "metadata": {},
     "execution_count": 372
    }
   ],
   "source": [
    "predict(full, data[22], min_num_examples=300)"
   ]
  },
  {
   "cell_type": "code",
   "execution_count": 373,
   "metadata": {},
   "outputs": [
    {
     "output_type": "stream",
     "name": "stdout",
     "text": [
      "Node('/root', depth=0, feature='mcg', major=0, numExs=1484, split=0.485)\n├── Node('/root/l-mcg<0.485', depth=1, feature='mcg', major=7, numExs=741, split=0.405)\n│   ├── Node('/root/l-mcg<0.485/l-mcg<0.405', depth=2, feature='gvh', major=7, numExs=368, split=0.425)\n│   │   ├── Node('/root/l-mcg<0.485/l-mcg<0.405/l-gvh<0.425', decision=7, depth=3)\n│   │   └── Node('/root/l-mcg<0.485/l-mcg<0.405/r-gvh>0.425', decision=0, depth=3)\n│   └── Node('/root/l-mcg<0.485/r-mcg>0.405', depth=2, feature='gvh', major=0, numExs=373, split=0.46499999999999997)\n│       ├── Node('/root/l-mcg<0.485/r-mcg>0.405/l-gvh<0.465', decision=0, depth=3)\n│       └── Node('/root/l-mcg<0.485/r-mcg>0.405/r-gvh>0.465', decision=0, depth=3)\n└── Node('/root/r-mcg>0.485', depth=1, feature='mcg', major=0, numExs=743, split=0.575)\n    ├── Node('/root/r-mcg>0.485/l-mcg<0.575', depth=2, feature='mcg', major=0, numExs=370, split=0.525)\n    │   ├── Node('/root/r-mcg>0.485/l-mcg<0.575/l-mcg<0.525', decision=0, depth=3)\n    │   └── Node('/root/r-mcg>0.485/l-mcg<0.575/r-mcg>0.525', decision=0, depth=3)\n    └── Node('/root/r-mcg>0.485/r-mcg>0.575', depth=2, feature='mcg', major=0, numExs=373, split=0.655)\n        ├── Node('/root/r-mcg>0.485/r-mcg>0.575/l-mcg<0.655', decision=0, depth=3)\n        └── Node('/root/r-mcg>0.485/r-mcg>0.575/r-mcg>0.655', decision=3, depth=3)\n"
     ]
    }
   ],
   "source": [
    "t3 = learn_dt(data, G.feature_names[:-1], 3)\n",
    "print(RenderTree(t3))"
   ]
  },
  {
   "cell_type": "code",
   "execution_count": 374,
   "metadata": {},
   "outputs": [],
   "source": [
    "def get_prediction_accuracy(cur_node: Node, examples: List, max_depth=math.inf, \\\n",
    "    min_num_examples=0) -> float:\n",
    "    \"\"\"\n",
    "    Given a tree with cur_node as the root, some examples, \n",
    "    and optionally the max depth or the min_num_examples, \n",
    "    returns the accuracy by predicting the examples using the tree.\n",
    "\n",
    "    The tree may be pruned by max_depth or min_num_examples.\n",
    "\n",
    "    :param cur_node: cur_node of the decision tree\n",
    "    :type cur_node: Node\n",
    "    :param examples: the set of examples. \n",
    "    :type examples: List[List[Any]]\n",
    "    :param max_depth: the max depth\n",
    "    :type max_depth: int, default math.inf\n",
    "    :param min_num_examples: the minimum number of examples at a node\n",
    "    :type min_num_examples: int, default 0\n",
    "    :return: the prediction accuracy for the examples based on the cur_node\n",
    "    :rtype: float\n",
    "    \"\"\" \n",
    "    accNum = 0\n",
    "    for row in examples:\n",
    "        if predict(cur_node, row[:-1], max_depth, min_num_examples) == row[-1]:\n",
    "            accNum += 1\n",
    "\n",
    "    return accNum / len(examples)"
   ]
  },
  {
   "cell_type": "code",
   "execution_count": 375,
   "metadata": {
    "tags": []
   },
   "outputs": [
    {
     "output_type": "execute_result",
     "data": {
      "text/plain": [
       "1.0"
      ]
     },
     "metadata": {},
     "execution_count": 375
    }
   ],
   "source": [
    "get_prediction_accuracy(full, data)"
   ]
  },
  {
   "cell_type": "code",
   "execution_count": 376,
   "metadata": {},
   "outputs": [
    {
     "output_type": "execute_result",
     "data": {
      "text/plain": [
       "['mcg', 'gvh', 'alm', 'mit', 'erl', 'pox', 'vac', 'nuc', 'class']"
      ]
     },
     "metadata": {},
     "execution_count": 376
    }
   ],
   "source": [
    "G.feature_names"
   ]
  },
  {
   "cell_type": "code",
   "execution_count": 377,
   "metadata": {},
   "outputs": [
    {
     "output_type": "execute_result",
     "data": {
      "text/plain": [
       "0.431266846361186"
      ]
     },
     "metadata": {},
     "execution_count": 377
    }
   ],
   "source": [
    "get_prediction_accuracy(dumb, data)"
   ]
  },
  {
   "cell_type": "code",
   "execution_count": 384,
   "metadata": {},
   "outputs": [
    {
     "output_type": "execute_result",
     "data": {
      "text/plain": [
       "True"
      ]
     },
     "metadata": {},
     "execution_count": 384
    }
   ],
   "source": [
    "get_prediction_accuracy(full, data, max_depth=5) == get_prediction_accuracy(dumb, data)"
   ]
  },
  {
   "cell_type": "code",
   "execution_count": 382,
   "metadata": {},
   "outputs": [
    {
     "output_type": "execute_result",
     "data": {
      "text/plain": [
       "0.8402964959568733"
      ]
     },
     "metadata": {},
     "execution_count": 382
    }
   ],
   "source": [
    "get_prediction_accuracy(full, data, max_depth=10)"
   ]
  },
  {
   "cell_type": "code",
   "execution_count": 68,
   "metadata": {},
   "outputs": [],
   "source": [
    "examples = data"
   ]
  },
  {
   "cell_type": "code",
   "execution_count": 118,
   "metadata": {},
   "outputs": [],
   "source": [
    "def test_ent(indFea, midWay):\n",
    "    countL, countR = defaultdict(lambda: 0), defaultdict(lambda: 0)\n",
    "    for i in range(len(examples)):\n",
    "        if examples[i][indFea] <= midWay:\n",
    "            countL[examples[i][G.label_index]] += 1\n",
    "        else:\n",
    "            countR[examples[i][G.label_index]] += 1\n",
    "    sumL, sumR = sum(countL.values()), sum(countR.values())\n",
    "    pLeft = sum(countL.values()) / len(examples)\n",
    "    pListL = [num / sumL for num in countL.values()]\n",
    "    pListR = [num / sumR for num in countR.values()]\n",
    "    pListT = [(countL[key] + countR[key]) / (sumL + sumR) for key in set(countL.keys()).union(countR.keys())]\n",
    "    print(pListT, sum(pListT))\n",
    "    print(pListL, sum(pListL))\n",
    "    print(pListR, sum(pListR))\n",
    "\n",
    "    print()\n",
    "    print(sum(list(map(lambda p: p * log2(p), pListT))),\n",
    "                    sum(list(map(lambda p: p * log2(p), pListL))) * pLeft,\n",
    "                    sum(list(map(lambda p: p * log2(p), pListR))) * (1 - pLeft), 6)\n",
    "    \n",
    "    return round(sum(list(map(lambda p: p * log2(p), pListT))) -\n",
    "                    sum(list(map(lambda p: p * log2(p), pListL))) * pLeft - \n",
    "                    sum(list(map(lambda p: p * log2(p), pListR))) * (1 - pLeft), 6)"
   ]
  },
  {
   "cell_type": "code",
   "execution_count": 121,
   "metadata": {},
   "outputs": [
    {
     "output_type": "stream",
     "name": "stdout",
     "text": [
      "[0.3119946091644205, 0.0033692722371967657, 0.02358490566037736, 0.029649595687331536, 0.03436657681940701, 0.10983827493261455, 0.16442048517520216, 0.2890835579514825, 0.013477088948787063, 0.02021563342318059] 1.0\n[0.3115306810519218, 0.16453135536075522, 0.28927848954821306, 0.013486176668914362, 0.10991233985165205, 0.020229265003371546, 0.023600809170600135, 0.029669588671611596, 0.03438975050573163, 0.0033715441672285905] 1.0\n[1.0] 1.0\n\n-2.4904176362327273 -2.4892845635172383 0.0 6\n"
     ]
    },
    {
     "output_type": "execute_result",
     "data": {
      "text/plain": [
       "-0.001133"
      ]
     },
     "metadata": {},
     "execution_count": 121
    }
   ],
   "source": [
    "test_ent(3, 0.935)"
   ]
  },
  {
   "cell_type": "code",
   "execution_count": 122,
   "metadata": {},
   "outputs": [
    {
     "output_type": "stream",
     "name": "stdout",
     "text": [
      "[0.3119946091644205, 0.0033692722371967657, 0.02358490566037736, 0.029649595687331536, 0.03436657681940701, 0.10983827493261455, 0.16442048517520216, 0.2890835579514825, 0.013477088948787063, 0.02021563342318059] 1.0\n[0.5136986301369864, 0.017123287671232876, 0.1232876712328767, 0.11643835616438356, 0.030821917808219176, 0.030821917808219176, 0.08561643835616438, 0.07534246575342465, 0.003424657534246575, 0.003424657534246575] 1.0\n[0.3808724832214765, 0.1837248322147651, 0.3414429530201342, 0.015939597315436243, 0.01761744966442953, 0.006711409395973154, 0.025167785234899327, 0.014261744966442953, 0.010906040268456376, 0.003355704697986577] 1.0\n\n-2.4904176362327273 -0.44820939360469064 -1.666666251598837 6\n"
     ]
    },
    {
     "output_type": "execute_result",
     "data": {
      "text/plain": [
       "-0.375542"
      ]
     },
     "metadata": {},
     "execution_count": 122
    }
   ],
   "source": [
    "test_ent(2, 0.435)"
   ]
  },
  {
   "cell_type": "code",
   "execution_count": 127,
   "metadata": {},
   "outputs": [
    {
     "output_type": "execute_result",
     "data": {
      "text/plain": [
       "('alm', 0.435)"
      ]
     },
     "metadata": {},
     "execution_count": 127
    }
   ],
   "source": [
    "choose_feature_split(data, G.feature_names[:-1])"
   ]
  },
  {
   "cell_type": "code",
   "execution_count": null,
   "metadata": {},
   "outputs": [],
   "source": []
  },
  {
   "cell_type": "code",
   "execution_count": 91,
   "metadata": {},
   "outputs": [
    {
     "output_type": "execute_result",
     "data": {
      "text/plain": [
       "{1, 2, 3}"
      ]
     },
     "metadata": {},
     "execution_count": 91
    }
   ],
   "source": [
    "set([1,3]).union(set([1,2]))"
   ]
  },
  {
   "cell_type": "code",
   "execution_count": 94,
   "metadata": {},
   "outputs": [
    {
     "output_type": "execute_result",
     "data": {
      "text/plain": [
       "0"
      ]
     },
     "metadata": {},
     "execution_count": 94
    }
   ],
   "source": [
    "b = defaultdict(lambda: 0)\n",
    "b[1]"
   ]
  },
  {
   "cell_type": "code",
   "execution_count": 101,
   "metadata": {},
   "outputs": [
    {
     "output_type": "execute_result",
     "data": {
      "text/plain": [
       "{1, 2}"
      ]
     },
     "metadata": {},
     "execution_count": 101
    }
   ],
   "source": [
    "c = {1:2}\n",
    "d = {1:3, 2:5}\n",
    "set(c.keys()).union(d.keys())"
   ]
  },
  {
   "cell_type": "code",
   "execution_count": null,
   "metadata": {},
   "outputs": [],
   "source": []
  }
 ]
}