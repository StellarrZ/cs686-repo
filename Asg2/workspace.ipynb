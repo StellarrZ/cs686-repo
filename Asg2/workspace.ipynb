{
 "metadata": {
  "language_info": {
   "codemirror_mode": {
    "name": "ipython",
    "version": 3
   },
   "file_extension": ".py",
   "mimetype": "text/x-python",
   "name": "python",
   "nbconvert_exporter": "python",
   "pygments_lexer": "ipython3",
   "version": "3.9.5"
  },
  "orig_nbformat": 4,
  "kernelspec": {
   "name": "python3",
   "display_name": "Python 3.9.5 64-bit ('local')"
  },
  "interpreter": {
   "hash": "aee8b7b246df8f9039afb4144a1f6fd8d2ca17a180786b69acc140d282b71a49"
  }
 },
 "nbformat": 4,
 "nbformat_minor": 2,
 "cells": [
  {
   "cell_type": "code",
   "execution_count": 180,
   "metadata": {},
   "outputs": [],
   "source": [
    "from typing import List"
   ]
  },
  {
   "cell_type": "code",
   "execution_count": 181,
   "metadata": {},
   "outputs": [
    {
     "output_type": "execute_result",
     "data": {
      "text/plain": [
       "'/Users/ze/CS686/cs686-repo/Asg2'"
      ]
     },
     "metadata": {},
     "execution_count": 181
    }
   ],
   "source": [
    "import os\n",
    "os.getcwd()"
   ]
  },
  {
   "cell_type": "code",
   "execution_count": 182,
   "metadata": {},
   "outputs": [],
   "source": [
    "import csv\n",
    "import math\n",
    "from math import *\n",
    "import numpy as np  # numpy==1.19.2\n",
    "\n",
    "import dt_global"
   ]
  },
  {
   "cell_type": "code",
   "execution_count": 183,
   "metadata": {},
   "outputs": [],
   "source": [
    "def read_data(file_path: str):\n",
    "    \"\"\"\n",
    "    Reads data from file_path, \n",
    "\n",
    "    :param file_path: The name of the data file.\n",
    "    :type filename: str\n",
    "    :return: A 2d data array consisting of examples \n",
    "    :rtype: List[List[int or float]]\n",
    "    \"\"\"\n",
    "    data_array = []\n",
    "    with open(file_path, 'r') as csv_file:\n",
    "        # read csv_file into a 2d array\n",
    "        reader = csv.reader(csv_file)\n",
    "        for row in reader:\n",
    "            data_array.append(row)\n",
    "\n",
    "        # set global variables\n",
    "        dt_global.feature_names = data_array[0]\n",
    "        dt_global.label_index = len(dt_global.feature_names) - 1\n",
    "\n",
    "        # exclude feature name row\n",
    "        data_array = data_array[1:]\n",
    "        dt_global.num_label_values = len(set(np.array(data_array)[:, -1]))\n",
    "\n",
    "        # change the input feature values to floats\n",
    "        for example in data_array:\n",
    "            for i in range(len(dt_global.feature_names) - 1):  # exclude the label column\n",
    "                example[i] = float(example[i])\n",
    "\n",
    "        # convert the label values to int\n",
    "        for example in data_array:\n",
    "            example[-1] = int(example[-1])\n",
    "\n",
    "        return data_array"
   ]
  },
  {
   "cell_type": "code",
   "execution_count": 184,
   "metadata": {},
   "outputs": [],
   "source": [
    "def preprocess(data_array, folds_num=10):\n",
    "    \"\"\"\n",
    "    Divides data_array into folds_num sets for cross validation. \n",
    "    Each fold has an approximately equal number of examples.\n",
    "\n",
    "    :param data_array: a set of examples\n",
    "    :type data_array: List[List[Any]]\n",
    "    :param folds_num: the number of folds\n",
    "    :type folds_num: int, default 10\n",
    "    :return: a list of sets of length folds_num\n",
    "    Each set contains the set of data for the corrresponding fold.\n",
    "    :rtype: List[List[List[Any]]]\n",
    "    \"\"\"\n",
    "    fold_size = math.floor(len(data_array) / folds_num)\n",
    "\n",
    "    folds = []\n",
    "    for i in range(folds_num):\n",
    "\n",
    "        if i == folds_num - 1:\n",
    "            folds.append(data_array[i * fold_size:])\n",
    "        else:\n",
    "            folds.append(data_array[i * fold_size: (i + 1) * fold_size])\n",
    "\n",
    "    return folds"
   ]
  },
  {
   "cell_type": "code",
   "execution_count": 185,
   "metadata": {},
   "outputs": [],
   "source": [
    "data = read_data(\"./data.csv\")"
   ]
  },
  {
   "cell_type": "code",
   "execution_count": 186,
   "metadata": {},
   "outputs": [
    {
     "output_type": "execute_result",
     "data": {
      "text/plain": [
       "[[0.63, 0.56, 0.52, 0.21, 0.5, 0.0, 0.5, 0.22, 0],\n",
       " [0.59, 0.6, 0.49, 0.43, 0.5, 0.0, 0.53, 0.31, 6],\n",
       " [0.61, 0.39, 0.53, 0.14, 0.5, 0.0, 0.43, 0.26, 7],\n",
       " [0.57, 0.52, 0.46, 0.2, 0.5, 0.83, 0.52, 0.41, 8],\n",
       " [0.59, 0.48, 0.5, 0.14, 0.5, 0.0, 0.45, 0.25, 0]]"
      ]
     },
     "metadata": {},
     "execution_count": 186
    }
   ],
   "source": [
    "data[:5]"
   ]
  },
  {
   "cell_type": "code",
   "execution_count": 187,
   "metadata": {},
   "outputs": [
    {
     "output_type": "execute_result",
     "data": {
      "text/plain": [
       "['mcg', 'gvh', 'alm', 'mit', 'erl', 'pox', 'vac', 'nuc', 'class']"
      ]
     },
     "metadata": {},
     "execution_count": 187
    }
   ],
   "source": [
    "dt_global.feature_names"
   ]
  },
  {
   "cell_type": "code",
   "execution_count": 188,
   "metadata": {},
   "outputs": [
    {
     "output_type": "execute_result",
     "data": {
      "text/plain": [
       "8"
      ]
     },
     "metadata": {},
     "execution_count": 188
    }
   ],
   "source": [
    "dt_global.label_index"
   ]
  },
  {
   "cell_type": "code",
   "execution_count": 189,
   "metadata": {},
   "outputs": [
    {
     "output_type": "execute_result",
     "data": {
      "text/plain": [
       "10"
      ]
     },
     "metadata": {},
     "execution_count": 189
    }
   ],
   "source": [
    "dt_global.num_label_values"
   ]
  },
  {
   "cell_type": "code",
   "execution_count": 190,
   "metadata": {},
   "outputs": [],
   "source": [
    "folds = preprocess(data)"
   ]
  },
  {
   "cell_type": "code",
   "execution_count": 191,
   "metadata": {},
   "outputs": [
    {
     "output_type": "execute_result",
     "data": {
      "text/plain": [
       "10"
      ]
     },
     "metadata": {},
     "execution_count": 191
    }
   ],
   "source": [
    "len(folds)"
   ]
  },
  {
   "cell_type": "code",
   "execution_count": 192,
   "metadata": {},
   "outputs": [
    {
     "output_type": "execute_result",
     "data": {
      "text/plain": [
       "[[0.63, 0.56, 0.52, 0.21, 0.5, 0.0, 0.5, 0.22, 0],\n",
       " [0.59, 0.6, 0.49, 0.43, 0.5, 0.0, 0.53, 0.31, 6],\n",
       " [0.61, 0.39, 0.53, 0.14, 0.5, 0.0, 0.43, 0.26, 7],\n",
       " [0.57, 0.52, 0.46, 0.2, 0.5, 0.83, 0.52, 0.41, 8],\n",
       " [0.59, 0.48, 0.5, 0.14, 0.5, 0.0, 0.45, 0.25, 0]]"
      ]
     },
     "metadata": {},
     "execution_count": 192
    }
   ],
   "source": [
    "folds[0][:5]"
   ]
  },
  {
   "cell_type": "code",
   "execution_count": null,
   "metadata": {},
   "outputs": [],
   "source": []
  },
  {
   "cell_type": "code",
   "execution_count": 193,
   "metadata": {},
   "outputs": [
    {
     "output_type": "execute_result",
     "data": {
      "text/plain": [
       "10"
      ]
     },
     "metadata": {},
     "execution_count": 193
    }
   ],
   "source": [
    "import dt_global as G\n",
    "G.num_label_values"
   ]
  },
  {
   "cell_type": "code",
   "execution_count": 194,
   "metadata": {},
   "outputs": [
    {
     "output_type": "execute_result",
     "data": {
      "text/plain": [
       "3"
      ]
     },
     "metadata": {},
     "execution_count": 194
    }
   ],
   "source": [
    "G.feature_names.index(\"mit\")"
   ]
  },
  {
   "cell_type": "code",
   "execution_count": 195,
   "metadata": {},
   "outputs": [],
   "source": [
    "from collections import defaultdict\n",
    "a = defaultdict(set)\n",
    "a[1].add(1)"
   ]
  },
  {
   "cell_type": "code",
   "execution_count": 196,
   "metadata": {},
   "outputs": [
    {
     "output_type": "execute_result",
     "data": {
      "text/plain": [
       "defaultdict(set, {1: {1}})"
      ]
     },
     "metadata": {},
     "execution_count": 196
    }
   ],
   "source": [
    "a"
   ]
  },
  {
   "cell_type": "code",
   "execution_count": 197,
   "metadata": {},
   "outputs": [
    {
     "output_type": "execute_result",
     "data": {
      "text/plain": [
       "True"
      ]
     },
     "metadata": {},
     "execution_count": 197
    }
   ],
   "source": [
    "a[1] == {1}"
   ]
  },
  {
   "cell_type": "code",
   "execution_count": 198,
   "metadata": {},
   "outputs": [],
   "source": [
    "b = {1}"
   ]
  },
  {
   "cell_type": "code",
   "execution_count": 199,
   "metadata": {},
   "outputs": [
    {
     "output_type": "execute_result",
     "data": {
      "text/plain": [
       "True"
      ]
     },
     "metadata": {},
     "execution_count": 199
    }
   ],
   "source": [
    "a[1] == b"
   ]
  },
  {
   "cell_type": "code",
   "execution_count": 200,
   "metadata": {},
   "outputs": [
    {
     "output_type": "execute_result",
     "data": {
      "text/plain": [
       "[{1}]"
      ]
     },
     "metadata": {},
     "execution_count": 200
    }
   ],
   "source": [
    "sorted(a.values())"
   ]
  },
  {
   "cell_type": "code",
   "execution_count": 201,
   "metadata": {},
   "outputs": [],
   "source": [
    "def get_splits(examples: List, feature: str) -> List[float]:\n",
    "    \"\"\"\n",
    "    Given some examples and a feature, returns a list of potential split point values for the feature.\n",
    "    \n",
    "    :param examples: a set of examples\n",
    "    :type examples: List[List[Any]]\n",
    "    :param feature: a feature\n",
    "    :type feature: str\n",
    "    :return: a list of potential split point values \n",
    "    :rtype: List[float]\n",
    "    \"\"\" \n",
    "    indFea = G.feature_names.index(feature)\n",
    "    ret = []\n",
    "\n",
    "    # regVal, regLabel, mFlag = None, None, False\n",
    "    # for row in sorted(examples, key=lambda x: (x[indFea], x[G.label_index])):\n",
    "    #     if row[indFea] == regVal and row[G.label_index] != regLabel:\n",
    "    #         mFlag = True\n",
    "    #     elif row[indFea] != regVal:\n",
    "    #         if mFlag or row[G.label_index] != regLabel:\n",
    "    #             ret.append((regVal + row[indFea]) / 2)\n",
    "    #         regVal, regLabel, mFlag = row[indFea], row[G.label_index], False\n",
    "\n",
    "    table = defaultdict(set)\n",
    "    for row in examples:\n",
    "        table[row[indFea]].add(row[G.label_index])\n",
    "    \n",
    "    regVal, regLabs = None, set()\n",
    "    for i, key in enumerate(sorted(table.keys())):\n",
    "        if i != 0 and (len(regLabs) + len(table[key]) > 2 or table[key] != regLabs):\n",
    "            ret.append((regVal + key) / 2)\n",
    "        regVal, regLabs = key, table[key]\n",
    "\n",
    "    return ret"
   ]
  },
  {
   "cell_type": "code",
   "execution_count": 202,
   "metadata": {},
   "outputs": [
    {
     "output_type": "execute_result",
     "data": {
      "text/plain": [
       "[0.02,\n",
       " 0.045,\n",
       " 0.065,\n",
       " 0.07500000000000001,\n",
       " 0.08499999999999999,\n",
       " 0.095,\n",
       " 0.10500000000000001,\n",
       " 0.11499999999999999,\n",
       " 0.125,\n",
       " 0.135,\n",
       " 0.14500000000000002,\n",
       " 0.155,\n",
       " 0.165,\n",
       " 0.175,\n",
       " 0.185,\n",
       " 0.195,\n",
       " 0.20500000000000002,\n",
       " 0.215,\n",
       " 0.225,\n",
       " 0.235,\n",
       " 0.245,\n",
       " 0.255,\n",
       " 0.265,\n",
       " 0.275,\n",
       " 0.28500000000000003,\n",
       " 0.295,\n",
       " 0.305,\n",
       " 0.315,\n",
       " 0.325,\n",
       " 0.335,\n",
       " 0.345,\n",
       " 0.355,\n",
       " 0.365,\n",
       " 0.375,\n",
       " 0.385,\n",
       " 0.395,\n",
       " 0.405,\n",
       " 0.415,\n",
       " 0.425,\n",
       " 0.435,\n",
       " 0.445,\n",
       " 0.455,\n",
       " 0.46499999999999997,\n",
       " 0.475,\n",
       " 0.485,\n",
       " 0.495,\n",
       " 0.505,\n",
       " 0.515,\n",
       " 0.525,\n",
       " 0.535,\n",
       " 0.545,\n",
       " 0.555,\n",
       " 0.565,\n",
       " 0.575,\n",
       " 0.595,\n",
       " 0.605,\n",
       " 0.625,\n",
       " 0.635,\n",
       " 0.645,\n",
       " 0.655,\n",
       " 0.665,\n",
       " 0.6799999999999999,\n",
       " 0.695,\n",
       " 0.705,\n",
       " 0.725,\n",
       " 0.775,\n",
       " 0.785,\n",
       " 0.795,\n",
       " 0.81,\n",
       " 0.84,\n",
       " 0.865,\n",
       " 0.935]"
      ]
     },
     "metadata": {},
     "execution_count": 202
    }
   ],
   "source": [
    "get_splits(data, \"mit\")"
   ]
  },
  {
   "cell_type": "code",
   "execution_count": 44,
   "metadata": {},
   "outputs": [
    {
     "output_type": "execute_result",
     "data": {
      "text/plain": [
       "[]"
      ]
     },
     "metadata": {},
     "execution_count": 44
    }
   ],
   "source": []
  },
  {
   "cell_type": "code",
   "execution_count": 203,
   "metadata": {},
   "outputs": [
    {
     "output_type": "execute_result",
     "data": {
      "text/plain": [
       "[]"
      ]
     },
     "metadata": {},
     "execution_count": 203
    }
   ],
   "source": [
    "get_splits(data[:1], \"mit\")"
   ]
  },
  {
   "cell_type": "code",
   "execution_count": 204,
   "metadata": {},
   "outputs": [],
   "source": [
    "l = [1,2,3]"
   ]
  },
  {
   "cell_type": "code",
   "execution_count": 205,
   "metadata": {},
   "outputs": [
    {
     "output_type": "execute_result",
     "data": {
      "text/plain": [
       "[(1, 2), (2, 3), (3, 4)]"
      ]
     },
     "metadata": {},
     "execution_count": 205
    }
   ],
   "source": [
    "[(x, x+1) for x in l]"
   ]
  },
  {
   "cell_type": "code",
   "execution_count": 206,
   "metadata": {},
   "outputs": [
    {
     "output_type": "execute_result",
     "data": {
      "text/plain": [
       "0"
      ]
     },
     "metadata": {},
     "execution_count": 206
    }
   ],
   "source": [
    "l.count(lambda x: x < 2)"
   ]
  },
  {
   "cell_type": "code",
   "execution_count": 207,
   "metadata": {},
   "outputs": [],
   "source": [
    "def choose_feature_split(examples: List, features: List[str]) -> (str, float):\n",
    "    \"\"\"\n",
    "    Given some examples and some features,\n",
    "    returns a feature and a split point value with the max expected information gain.\n",
    "\n",
    "    If there are no valid split points for the remaining features, return None and -1.\n",
    "\n",
    "    Tie breaking rules:\n",
    "    (1) With multiple split points, choose the one with the smallest value. \n",
    "    (2) With multiple features with the same info gain, choose the first feature in the list.\n",
    "\n",
    "    :param examples: a set of examples\n",
    "    :type examples: List[List[Any]]    \n",
    "    :param features: a set of features\n",
    "    :type features: List[str]\n",
    "    :return: the best feature and the best split value\n",
    "    :rtype: str, float\n",
    "    \"\"\"   \n",
    "    def __neg_ent(indFea, midWay):\n",
    "        # num = 0\n",
    "        # for i in range(len(examples)):\n",
    "        #     if examples[i][indFea] <= midWay:\n",
    "        #         num += 1\n",
    "        # p = num / len(examples)\n",
    "        # return round(p * log2(p) + (1 - p) * log2((1 - p)), 6)\n",
    "\n",
    "        countL, countR = defaultdict(lambda: 0), defaultdict(lambda: 0)\n",
    "        for i in range(len(examples)):\n",
    "            if examples[i][indFea] <= midWay:\n",
    "                countL[examples[i][G.label_index]] += 1\n",
    "            else:\n",
    "                countR[examples[i][G.label_index]] += 1\n",
    "        sumL, sumR = sum(countL.values()), sum(countR.values())\n",
    "        pLeft = sum(countL.values()) / len(examples)\n",
    "        pListL = [num / sumL for num in countL.values()]\n",
    "        pListR = [num / sumR for num in countR.values()]\n",
    "        pListT = [(countL[key] + countR[key]) / (sumL + sumR) for key in set(countL.keys()).union(countR.keys())]\n",
    "        \n",
    "        return round(sum(list(map(lambda p: p * log2(p), pListT))) -\n",
    "                     sum(list(map(lambda p: p * log2(p), pListL))) * pLeft - \n",
    "                     sum(list(map(lambda p: p * log2(p), pListR))) * (1 - pLeft), 6)\n",
    "    \n",
    "\n",
    "    regFea, regNegEnt, regMidWay = None, 0, -1\n",
    "    for fea in features:\n",
    "        indFea = G.feature_names.index(fea)\n",
    "        tem = [(__neg_ent(indFea, midWay), midWay) for midWay in get_splits(examples, fea)]\n",
    "        negEnt, midWay  = min(tem) if tem else (0, -1)\n",
    "        if negEnt < regNegEnt:\n",
    "            regFea, regNegEnt, regMidWay = fea, negEnt, midWay\n",
    "\n",
    "    return regFea, regMidWay"
   ]
  },
  {
   "cell_type": "code",
   "execution_count": 208,
   "metadata": {},
   "outputs": [
    {
     "output_type": "execute_result",
     "data": {
      "text/plain": [
       "('mit', 0.325)"
      ]
     },
     "metadata": {},
     "execution_count": 208
    }
   ],
   "source": [
    "choose_feature_split(data, [\"mit\",\"erl\"])"
   ]
  },
  {
   "cell_type": "code",
   "execution_count": 209,
   "metadata": {},
   "outputs": [
    {
     "output_type": "execute_result",
     "data": {
      "text/plain": [
       "[0.75]"
      ]
     },
     "metadata": {},
     "execution_count": 209
    }
   ],
   "source": [
    "get_splits(data, \"erl\")"
   ]
  },
  {
   "cell_type": "code",
   "execution_count": 210,
   "metadata": {},
   "outputs": [],
   "source": [
    "for fea in G.feature_names:\n",
    "    get_splits(data, fea)"
   ]
  },
  {
   "cell_type": "code",
   "execution_count": 211,
   "metadata": {},
   "outputs": [],
   "source": [
    "# from itertools import combinations as comb\n",
    "# list(comb(G.feature_names, 3))"
   ]
  },
  {
   "cell_type": "code",
   "execution_count": 212,
   "metadata": {},
   "outputs": [
    {
     "output_type": "execute_result",
     "data": {
      "text/plain": [
       "('alm', 0.435)"
      ]
     },
     "metadata": {},
     "execution_count": 212
    }
   ],
   "source": [
    "choose_feature_split(data, G.feature_names[:-1])"
   ]
  },
  {
   "cell_type": "code",
   "execution_count": null,
   "metadata": {},
   "outputs": [],
   "source": []
  },
  {
   "cell_type": "code",
   "execution_count": 213,
   "metadata": {},
   "outputs": [
    {
     "output_type": "execute_result",
     "data": {
      "text/plain": [
       "True"
      ]
     },
     "metadata": {},
     "execution_count": 213
    }
   ],
   "source": [
    "math.isclose(0.5, 0.50000000)"
   ]
  },
  {
   "cell_type": "code",
   "execution_count": 214,
   "metadata": {},
   "outputs": [
    {
     "output_type": "execute_result",
     "data": {
      "text/plain": [
       "[1, 2]"
      ]
     },
     "metadata": {},
     "execution_count": 214
    }
   ],
   "source": [
    "[1,2].copy()"
   ]
  },
  {
   "cell_type": "code",
   "execution_count": 215,
   "metadata": {},
   "outputs": [
    {
     "output_type": "execute_result",
     "data": {
      "text/plain": [
       "3"
      ]
     },
     "metadata": {},
     "execution_count": 215
    }
   ],
   "source": [
    "from collections import Counter\n",
    "c = Counter([1,2,2,3])\n",
    "sum([c[x] for x in c.keys() if x < 2.5])"
   ]
  },
  {
   "cell_type": "code",
   "execution_count": 216,
   "metadata": {},
   "outputs": [
    {
     "output_type": "execute_result",
     "data": {
      "text/plain": [
       "Counter({(1, 1): 1, (1, -1): 1})"
      ]
     },
     "metadata": {},
     "execution_count": 216
    }
   ],
   "source": [
    "Counter([(1,1), (1,-1)])"
   ]
  },
  {
   "cell_type": "code",
   "execution_count": 217,
   "metadata": {},
   "outputs": [],
   "source": [
    "import math\n",
    "from math import *"
   ]
  },
  {
   "cell_type": "code",
   "execution_count": 218,
   "metadata": {},
   "outputs": [
    {
     "output_type": "execute_result",
     "data": {
      "text/plain": [
       "True"
      ]
     },
     "metadata": {},
     "execution_count": 218
    }
   ],
   "source": [
    "math.isclose(1,1)"
   ]
  },
  {
   "cell_type": "code",
   "execution_count": 219,
   "metadata": {},
   "outputs": [
    {
     "output_type": "execute_result",
     "data": {
      "text/plain": [
       "0.0"
      ]
     },
     "metadata": {},
     "execution_count": 219
    }
   ],
   "source": [
    "log2(1)"
   ]
  },
  {
   "cell_type": "code",
   "execution_count": 220,
   "metadata": {},
   "outputs": [],
   "source": [
    "from typing import List"
   ]
  },
  {
   "cell_type": "code",
   "execution_count": 221,
   "metadata": {},
   "outputs": [],
   "source": [
    "def split_examples(examples: List, feature: str, split: float) -> (List, List):\n",
    "    \"\"\"\n",
    "    Given some examples, a feature, and a split point,\n",
    "    splits examples into two lists and return the two lists of examples.\n",
    "\n",
    "    The first list of examples have their feature value <= split point.\n",
    "    The second list of examples have their feature value > split point.\n",
    "\n",
    "    :param examples: a set of examples\n",
    "    :type examples: List[List[Any]]\n",
    "    :param feature: a feature\n",
    "    :type feature: str\n",
    "    :param split: the split point\n",
    "    :type split: float\n",
    "    :return: two lists of examples split by the feature split\n",
    "    :rtype: List[List[Any]], List[List[Any]]\n",
    "    \"\"\" \n",
    "    retLeft, retRight = [], []\n",
    "    indFea = G.feature_names.index(feature)\n",
    "\n",
    "    for row in examples:\n",
    "        if row[indFea] < split:\n",
    "            retLeft.append(row.copy())\n",
    "        else:\n",
    "            retRight.append(row.copy())\n",
    "\n",
    "    return retLeft, retRight"
   ]
  },
  {
   "cell_type": "code",
   "execution_count": 222,
   "metadata": {},
   "outputs": [],
   "source": [
    "left, right = split_examples(data, \"mcg\", 0.485)"
   ]
  },
  {
   "cell_type": "code",
   "execution_count": 223,
   "metadata": {},
   "outputs": [
    {
     "output_type": "execute_result",
     "data": {
      "text/plain": [
       "741"
      ]
     },
     "metadata": {},
     "execution_count": 223
    }
   ],
   "source": [
    "len(left)"
   ]
  },
  {
   "cell_type": "code",
   "execution_count": 224,
   "metadata": {},
   "outputs": [
    {
     "output_type": "execute_result",
     "data": {
      "text/plain": [
       "743"
      ]
     },
     "metadata": {},
     "execution_count": 224
    }
   ],
   "source": [
    "len(right)"
   ]
  },
  {
   "cell_type": "code",
   "execution_count": 225,
   "metadata": {},
   "outputs": [],
   "source": [
    "from anytree import Node\n",
    "root = Node(\"root\")\n",
    "s0 = Node(\"sub0\", parent=root)\n",
    "s0b = Node(\"sub0B\", parent=s0, foo=4, bar=109)\n",
    "s0a = Node(\"sub0A\", parent=s0)\n",
    "s1 = Node(\"sub1\", parent=root)\n",
    "s1a = Node(\"sub1A\", parent=s1)\n",
    "s1b = Node(\"sub1B\", parent=s1, bar=8)\n",
    "s1c = Node(\"sub1C\", parent=s1)\n",
    "s1ca = Node(\"sub1Ca\", parent=s1c)"
   ]
  },
  {
   "cell_type": "code",
   "execution_count": 226,
   "metadata": {},
   "outputs": [],
   "source": [
    "from anytree import RenderTree"
   ]
  },
  {
   "cell_type": "code",
   "execution_count": 227,
   "metadata": {},
   "outputs": [
    {
     "output_type": "execute_result",
     "data": {
      "text/plain": [
       "(Node('/root/sub0'), Node('/root/sub1'))"
      ]
     },
     "metadata": {},
     "execution_count": 227
    }
   ],
   "source": [
    "root.children"
   ]
  },
  {
   "cell_type": "code",
   "execution_count": 228,
   "metadata": {
    "tags": []
   },
   "outputs": [
    {
     "output_type": "stream",
     "name": "stdout",
     "text": [
      "Node('/root')\n├── Node('/root/sub0')\n│   ├── Node('/root/sub0/sub0B', bar=109, foo=4)\n│   └── Node('/root/sub0/sub0A')\n└── Node('/root/sub1')\n    ├── Node('/root/sub1/sub1A')\n    ├── Node('/root/sub1/sub1B', bar=8)\n    └── Node('/root/sub1/sub1C')\n        └── Node('/root/sub1/sub1C/sub1Ca')\n"
     ]
    }
   ],
   "source": [
    "print(RenderTree(root))"
   ]
  },
  {
   "cell_type": "code",
   "execution_count": 229,
   "metadata": {},
   "outputs": [
    {
     "output_type": "execute_result",
     "data": {
      "text/plain": [
       "Node('/root/sub0/sub0B', bar=109, foo=4)"
      ]
     },
     "metadata": {},
     "execution_count": 229
    }
   ],
   "source": [
    "root.children[0].children[0]"
   ]
  },
  {
   "cell_type": "code",
   "execution_count": 230,
   "metadata": {},
   "outputs": [
    {
     "output_type": "execute_result",
     "data": {
      "text/plain": [
       "109"
      ]
     },
     "metadata": {},
     "execution_count": 230
    }
   ],
   "source": [
    "root.children[0].children[0].bar"
   ]
  },
  {
   "cell_type": "code",
   "execution_count": 231,
   "metadata": {},
   "outputs": [],
   "source": [
    "root.what = 1"
   ]
  },
  {
   "cell_type": "code",
   "execution_count": 232,
   "metadata": {},
   "outputs": [
    {
     "output_type": "execute_result",
     "data": {
      "text/plain": [
       "Node('/root', what=1)"
      ]
     },
     "metadata": {},
     "execution_count": 232
    }
   ],
   "source": [
    "root"
   ]
  },
  {
   "cell_type": "code",
   "execution_count": 233,
   "metadata": {
    "tags": []
   },
   "outputs": [
    {
     "output_type": "stream",
     "name": "stdout",
     "text": [
      "Node('/root', what=1)\n├── Node('/root/sub0')\n│   ├── Node('/root/sub0/sub0B', bar=109, foo=4)\n│   └── Node('/root/sub0/sub0A')\n└── Node('/root/sub1')\n    ├── Node('/root/sub1/sub1A')\n    ├── Node('/root/sub1/sub1B', bar=8)\n    └── Node('/root/sub1/sub1C')\n        └── Node('/root/sub1/sub1C/sub1Ca')\n"
     ]
    }
   ],
   "source": [
    "print(RenderTree(root))"
   ]
  },
  {
   "cell_type": "code",
   "execution_count": 234,
   "metadata": {},
   "outputs": [
    {
     "output_type": "execute_result",
     "data": {
      "text/plain": [
       "[0.63, 0.56, 0.52, 0.21, 0.5, 0.0, 0.5, 0.22, 0]"
      ]
     },
     "metadata": {},
     "execution_count": 234
    }
   ],
   "source": [
    "data[0]"
   ]
  },
  {
   "cell_type": "code",
   "execution_count": 235,
   "metadata": {},
   "outputs": [],
   "source": [
    "from collections import defaultdict\n",
    "count = defaultdict(lambda: 0)\n",
    "count[1] += 1"
   ]
  },
  {
   "cell_type": "code",
   "execution_count": 236,
   "metadata": {},
   "outputs": [
    {
     "output_type": "execute_result",
     "data": {
      "text/plain": [
       "{1: 1}"
      ]
     },
     "metadata": {},
     "execution_count": 236
    }
   ],
   "source": [
    "dict(count)"
   ]
  },
  {
   "cell_type": "code",
   "execution_count": 237,
   "metadata": {},
   "outputs": [
    {
     "output_type": "execute_result",
     "data": {
      "text/plain": [
       "3"
      ]
     },
     "metadata": {},
     "execution_count": 237
    }
   ],
   "source": [
    "count = [4,5,1,9,0,9]\n",
    "count.index(max(count))"
   ]
  },
  {
   "cell_type": "code",
   "execution_count": 238,
   "metadata": {},
   "outputs": [
    {
     "output_type": "execute_result",
     "data": {
      "text/plain": [
       "[[0.63, 0.56, 0.52, 0.21, 0.5, 0.0, 0.5, 0.22, 0],\n",
       " [0.59, 0.6, 0.49, 0.43, 0.5, 0.0, 0.53, 0.31, 6],\n",
       " [0.61, 0.39, 0.53, 0.14, 0.5, 0.0, 0.43, 0.26, 7],\n",
       " [0.57, 0.52, 0.46, 0.2, 0.5, 0.83, 0.52, 0.41, 8],\n",
       " [0.59, 0.48, 0.5, 0.14, 0.5, 0.0, 0.45, 0.25, 0]]"
      ]
     },
     "metadata": {},
     "execution_count": 238
    }
   ],
   "source": [
    "data[:5]"
   ]
  },
  {
   "cell_type": "code",
   "execution_count": 239,
   "metadata": {},
   "outputs": [
    {
     "output_type": "execute_result",
     "data": {
      "text/plain": [
       "(None, -1)"
      ]
     },
     "metadata": {},
     "execution_count": 239
    }
   ],
   "source": [
    "choose_feature_split(data[:5], [\"erl\"])"
   ]
  },
  {
   "cell_type": "code",
   "execution_count": 240,
   "metadata": {},
   "outputs": [],
   "source": [
    "def get_majority(examples):\n",
    "    count = [0] * G.num_label_values\n",
    "    for row in examples:\n",
    "        count[row[G.label_index]] += 1\n",
    "\n",
    "    return count.index(max(count))"
   ]
  },
  {
   "cell_type": "code",
   "execution_count": 241,
   "metadata": {},
   "outputs": [],
   "source": [
    "def split_node(cur_node: Node, examples: List, features: List[str], max_depth=math.inf):\n",
    "    \"\"\"\n",
    "    Given a tree with cur_node as the root, some examples, some features, and the max depth,\n",
    "    grows a tree to classify the examples using the features by using binary splits.\n",
    "\n",
    "    If cur_node is at max_depth, makes cur_node a leaf node with majority decision and return.\n",
    "\n",
    "    This function is recursive.\n",
    "\n",
    "    :param cur_node: current node\n",
    "    :type cur_node: Node\n",
    "    :param examples: a set of examples\n",
    "    :type examples: List[List[Any]]\n",
    "    :param features: a set of features\n",
    "    :type features: List[str]\n",
    "    :param max_depth: the maximum depth of the tree\n",
    "    :type max_depth: int\n",
    "    \"\"\" \n",
    "    # def __get_majority():\n",
    "    #     count = [0] * G.num_label_values\n",
    "    #     for row in examples:\n",
    "    #         count[row[G.label_index]] += 1\n",
    "\n",
    "    #     return count.index(max(count))\n",
    "\n",
    "\n",
    "    major = get_majority(examples)\n",
    "    if max_depth == 0:\n",
    "        cur_node.decision = major\n",
    "        return\n",
    "    \n",
    "    splFea, splVal = choose_feature_split(examples, features)\n",
    "    if not splFea:\n",
    "        cur_node.decision = major\n",
    "        return\n",
    "\n",
    "    cur_node.major, cur_node.numExs = major, len(examples)\n",
    "    cur_node.feature, cur_node.split = splFea, splVal\n",
    "    leftExs, rightExs = split_examples(examples, splFea, splVal)\n",
    "    lchild = Node(\"l-%s<%.3f\"%(splFea, splVal), cur_node, depth=cur_node.depth + 1)\n",
    "    rchild = Node(\"r-%s>%.3f\"%(splFea, splVal), cur_node, depth=cur_node.depth + 1)\n",
    "    split_node(lchild, leftExs, features, max_depth - 1)\n",
    "    split_node(rchild, rightExs, features, max_depth - 1)"
   ]
  },
  {
   "cell_type": "code",
   "execution_count": 242,
   "metadata": {},
   "outputs": [],
   "source": [
    "# def split_node(cur_node: Node, examples: List, features: List[str], max_depth=math.inf):\n",
    "#     \"\"\"\n",
    "#     Given a tree with cur_node as the root, some examples, some features, and the max depth,\n",
    "#     grows a tree to classify the examples using the features by using binary splits.\n",
    "\n",
    "#     If cur_node is at max_depth, makes cur_node a leaf node with majority decision and return.\n",
    "\n",
    "#     This function is recursive.\n",
    "\n",
    "#     :param cur_node: current node\n",
    "#     :type cur_node: Node\n",
    "#     :param examples: a set of examples\n",
    "#     :type examples: List[List[Any]]\n",
    "#     :param features: a set of features\n",
    "#     :type features: List[str]\n",
    "#     :param max_depth: the maximum depth of the tree\n",
    "#     :type max_depth: int\n",
    "#     \"\"\" \n",
    "#     def __get_majority():\n",
    "#         count = [0] * G.num_label_values\n",
    "#         for row in examples:\n",
    "#             count[row[G.label_index]] += 1\n",
    "\n",
    "#         return count.index(max(count))\n",
    "\n",
    "\n",
    "#     # if not examples:\n",
    "#     #     cur_node.decision = cur_node.pMajor\n",
    "#     #     return\n",
    "#     if max_depth == 0:\n",
    "#         cur_node.decision = __get_majority()\n",
    "#         return\n",
    "    \n",
    "#     splFea, splVal = choose_feature_split(examples, features)\n",
    "#     if not splFea:\n",
    "#         cur_node.decision = __get_majority()\n",
    "#         return\n",
    "\n",
    "#     cur_node.feature, cur_node.split = splFea, splVal\n",
    "#     leftExs, rightExs = split_examples(examples, splFea, splVal)\n",
    "#     lchild = Node(\"l-%s<%.3f\"%(splFea, splVal), cur_node, depth=cur_node.depth + 1)\n",
    "#     rchild = Node(\"r-%s>%.3f\"%(splFea, splVal), cur_node, depth=cur_node.depth + 1)\n",
    "#     split_node(lchild, leftExs, features, max_depth - 1)\n",
    "#     split_node(rchild, rightExs, features, max_depth - 1)"
   ]
  },
  {
   "cell_type": "code",
   "execution_count": 243,
   "metadata": {},
   "outputs": [],
   "source": [
    "dumb = Node(\"root\", depth=0)\n",
    "split_node(dumb, data, G.feature_names[:-1], 5)"
   ]
  },
  {
   "cell_type": "code",
   "execution_count": 244,
   "metadata": {},
   "outputs": [
    {
     "output_type": "stream",
     "name": "stdout",
     "text": [
      "Node('/root', depth=0, feature='alm', major=0, numExs=1484, split=0.435)\n├── Node('/root/l-alm<0.435', depth=1, feature='mcg', major=5, numExs=292, split=0.665)\n│   ├── Node('/root/l-alm<0.435/l-mcg<0.665', depth=2, feature='alm', major=5, numExs=210, split=0.385)\n│   │   ├── Node('/root/l-alm<0.435/l-mcg<0.665/l-alm<0.385', depth=3, feature='mit', major=5, numExs=134, split=0.20500000000000002)\n│   │   │   ├── Node('/root/l-alm<0.435/l-mcg<0.665/l-alm<0.385/l-mit<0.205', depth=4, feature='vac', major=5, numExs=67, split=0.525)\n│   │   │   │   ├── Node('/root/l-alm<0.435/l-mcg<0.665/l-alm<0.385/l-mit<0.205/l-vac<0.525', decision=5, depth=5)\n│   │   │   │   └── Node('/root/l-alm<0.435/l-mcg<0.665/l-alm<0.385/l-mit<0.205/r-vac>0.525', decision=5, depth=5)\n│   │   │   └── Node('/root/l-alm<0.435/l-mcg<0.665/l-alm<0.385/r-mit>0.205', depth=4, feature='mcg', major=5, numExs=67, split=0.555)\n│   │   │       ├── Node('/root/l-alm<0.435/l-mcg<0.665/l-alm<0.385/r-mit>0.205/l-mcg<0.555', decision=5, depth=5)\n│   │   │       └── Node('/root/l-alm<0.435/l-mcg<0.665/l-alm<0.385/r-mit>0.205/r-mcg>0.555', decision=5, depth=5)\n│   │   └── Node('/root/l-alm<0.435/l-mcg<0.665/r-alm>0.385', depth=3, feature='mit', major=5, numExs=76, split=0.545)\n│   │       ├── Node('/root/l-alm<0.435/l-mcg<0.665/r-alm>0.385/l-mit<0.545', depth=4, feature='mcg', major=5, numExs=70, split=0.535)\n│   │       │   ├── Node('/root/l-alm<0.435/l-mcg<0.665/r-alm>0.385/l-mit<0.545/l-mcg<0.535', decision=5, depth=5)\n│   │       │   └── Node('/root/l-alm<0.435/l-mcg<0.665/r-alm>0.385/l-mit<0.545/r-mcg>0.535', decision=5, depth=5)\n│   │       └── Node('/root/l-alm<0.435/l-mcg<0.665/r-alm>0.385/r-mit>0.545', decision=6, depth=4)\n│   └── Node('/root/l-alm<0.435/r-mcg>0.665', depth=2, feature='gvh', major=3, numExs=82, split=0.625)\n│       ├── Node('/root/l-alm<0.435/r-mcg>0.665/l-gvh<0.625', depth=3, feature='gvh', major=4, numExs=29, split=0.575)\n│       │   ├── Node('/root/l-alm<0.435/r-mcg>0.665/l-gvh<0.625/l-gvh<0.575', depth=4, feature='alm', major=4, numExs=15, split=0.335)\n│       │   │   ├── Node('/root/l-alm<0.435/r-mcg>0.665/l-gvh<0.625/l-gvh<0.575/l-alm<0.335', decision=1, depth=5)\n│       │   │   └── Node('/root/l-alm<0.435/r-mcg>0.665/l-gvh<0.625/l-gvh<0.575/r-alm>0.335', decision=4, depth=5)\n│       │   └── Node('/root/l-alm<0.435/r-mcg>0.665/l-gvh<0.625/r-gvh>0.575', depth=4, feature='mcg', major=4, numExs=14, split=0.76)\n│       │       ├── Node('/root/l-alm<0.435/r-mcg>0.665/l-gvh<0.625/r-gvh>0.575/l-mcg<0.760', decision=6, depth=5)\n│       │       └── Node('/root/l-alm<0.435/r-mcg>0.665/l-gvh<0.625/r-gvh>0.575/r-mcg>0.760', decision=4, depth=5)\n│       └── Node('/root/l-alm<0.435/r-mcg>0.665/r-gvh>0.625', depth=3, feature='mcg', major=3, numExs=53, split=0.805)\n│           ├── Node('/root/l-alm<0.435/r-mcg>0.665/r-gvh>0.625/l-mcg<0.805', depth=4, feature='gvh', major=3, numExs=33, split=0.685)\n│           │   ├── Node('/root/l-alm<0.435/r-mcg>0.665/r-gvh>0.625/l-mcg<0.805/l-gvh<0.685', decision=3, depth=5)\n│           │   └── Node('/root/l-alm<0.435/r-mcg>0.665/r-gvh>0.625/l-mcg<0.805/r-gvh>0.685', decision=3, depth=5)\n│           └── Node('/root/l-alm<0.435/r-mcg>0.665/r-gvh>0.625/r-mcg>0.805', depth=4, feature='nuc', major=3, numExs=20, split=0.26)\n│               ├── Node('/root/l-alm<0.435/r-mcg>0.665/r-gvh>0.625/r-mcg>0.805/l-nuc<0.260', decision=4, depth=5)\n│               └── Node('/root/l-alm<0.435/r-mcg>0.665/r-gvh>0.625/r-mcg>0.805/r-nuc>0.260', decision=3, depth=5)\n└── Node('/root/r-alm>0.435', depth=1, feature='mcg', major=0, numExs=1192, split=0.675)\n    ├── Node('/root/r-alm>0.435/l-mcg<0.675', depth=2, feature='mit', major=0, numExs=1105, split=0.375)\n    │   ├── Node('/root/r-alm>0.435/l-mcg<0.675/l-mit<0.375', depth=3, feature='nuc', major=0, numExs=901, split=0.24)\n    │   │   ├── Node('/root/r-alm>0.435/l-mcg<0.675/l-mit<0.375/l-nuc<0.240', depth=4, feature='pox', major=0, numExs=464, split=0.25)\n    │   │   │   ├── Node('/root/r-alm>0.435/l-mcg<0.675/l-mit<0.375/l-nuc<0.240/l-pox<0.250', decision=0, depth=5)\n    │   │   │   └── Node('/root/r-alm>0.435/l-mcg<0.675/l-mit<0.375/l-nuc<0.240/r-pox>0.250', decision=8, depth=5)\n    │   │   └── Node('/root/r-alm>0.435/l-mcg<0.675/l-mit<0.375/r-nuc>0.240', depth=4, feature='nuc', major=7, numExs=437, split=0.315)\n    │   │       ├── Node('/root/r-alm>0.435/l-mcg<0.675/l-mit<0.375/r-nuc>0.240/l-nuc<0.315', decision=7, depth=5)\n    │   │       └── Node('/root/r-alm>0.435/l-mcg<0.675/l-mit<0.375/r-nuc>0.240/r-nuc>0.315', decision=7, depth=5)\n    │   └── Node('/root/r-alm>0.435/l-mcg<0.675/r-mit>0.375', depth=3, feature='gvh', major=6, numExs=204, split=0.505)\n    │       ├── Node('/root/r-alm>0.435/l-mcg<0.675/r-mit>0.375/l-gvh<0.505', depth=4, feature='mcg', major=6, numExs=101, split=0.445)\n    │       │   ├── Node('/root/r-alm>0.435/l-mcg<0.675/r-mit>0.375/l-gvh<0.505/l-mcg<0.445', decision=0, depth=5)\n    │       │   └── Node('/root/r-alm>0.435/l-mcg<0.675/r-mit>0.375/l-gvh<0.505/r-mcg>0.445', decision=6, depth=5)\n    │       └── Node('/root/r-alm>0.435/l-mcg<0.675/r-mit>0.375/r-gvh>0.505', depth=4, feature='mcg', major=6, numExs=103, split=0.615)\n    │           ├── Node('/root/r-alm>0.435/l-mcg<0.675/r-mit>0.375/r-gvh>0.505/l-mcg<0.615', decision=6, depth=5)\n    │           └── Node('/root/r-alm>0.435/l-mcg<0.675/r-mit>0.375/r-gvh>0.505/r-mcg>0.615', decision=6, depth=5)\n    └── Node('/root/r-alm>0.435/r-mcg>0.675', depth=2, feature='gvh', major=2, numExs=87, split=0.625)\n        ├── Node('/root/r-alm>0.435/r-mcg>0.675/l-gvh<0.625', depth=3, feature='mit', major=0, numExs=33, split=0.265)\n        │   ├── Node('/root/r-alm>0.435/r-mcg>0.675/l-gvh<0.625/l-mit<0.265', depth=4, feature='pox', major=0, numExs=19, split=0.415)\n        │   │   ├── Node('/root/r-alm>0.435/r-mcg>0.675/l-gvh<0.625/l-mit<0.265/l-pox<0.415', decision=0, depth=5)\n        │   │   └── Node('/root/r-alm>0.435/r-mcg>0.675/l-gvh<0.625/l-mit<0.265/r-pox>0.415', decision=8, depth=5)\n        │   └── Node('/root/r-alm>0.435/r-mcg>0.675/l-gvh<0.625/r-mit>0.265', depth=4, feature='mcg', major=6, numExs=14, split=0.73)\n        │       ├── Node('/root/r-alm>0.435/r-mcg>0.675/l-gvh<0.625/r-mit>0.265/l-mcg<0.730', decision=6, depth=5)\n        │       └── Node('/root/r-alm>0.435/r-mcg>0.675/l-gvh<0.625/r-mit>0.265/r-mcg>0.730', decision=7, depth=5)\n        └── Node('/root/r-alm>0.435/r-mcg>0.675/r-gvh>0.625', depth=3, feature='erl', major=2, numExs=54, split=0.75)\n            ├── Node('/root/r-alm>0.435/r-mcg>0.675/r-gvh>0.625/l-erl<0.750', depth=4, feature='alm', major=2, numExs=50, split=0.495)\n            │   ├── Node('/root/r-alm>0.435/r-mcg>0.675/r-gvh>0.625/l-erl<0.750/l-alm<0.495', decision=2, depth=5)\n            │   └── Node('/root/r-alm>0.435/r-mcg>0.675/r-gvh>0.625/l-erl<0.750/r-alm>0.495', decision=2, depth=5)\n            └── Node('/root/r-alm>0.435/r-mcg>0.675/r-gvh>0.625/r-erl>0.750', decision=1, depth=4)\n"
     ]
    }
   ],
   "source": [
    "print(RenderTree(dumb))"
   ]
  },
  {
   "cell_type": "code",
   "execution_count": 245,
   "metadata": {},
   "outputs": [],
   "source": [
    "full = Node(\"root\", depth=0)\n",
    "split_node(full, data, G.feature_names[:-1])"
   ]
  },
  {
   "cell_type": "code",
   "execution_count": 246,
   "metadata": {
    "tags": [
     "outputPrepend"
    ]
   },
   "outputs": [
    {
     "output_type": "stream",
     "name": "stdout",
     "text": [
      "ecision=7, depth=9)\n    │           │       └── Node('/root/r-alm>0.435/l-mcg<0.675/r-mit>0.375/r-gvh>0.505/l-mcg<0.615/r-mcg>0.360/r-mit>0.415', depth=7, feature='mit', major=6, numExs=73, split=0.84)\n    │           │           ├── Node('/root/r-alm>0.435/l-mcg<0.675/r-mit>0.375/r-gvh>0.505/l-mcg<0.615/r-mcg>0.360/r-mit>0.415/l-mit<0.840', depth=8, feature='erl', major=6, numExs=72, split=0.75)\n    │           │           │   ├── Node('/root/r-alm>0.435/l-mcg<0.675/r-mit>0.375/r-gvh>0.505/l-mcg<0.615/r-mcg>0.360/r-mit>0.415/l-mit<0.840/l-erl<0.750', depth=9, feature='vac', major=6, numExs=71, split=0.525)\n    │           │           │   │   ├── Node('/root/r-alm>0.435/l-mcg<0.675/r-mit>0.375/r-gvh>0.505/l-mcg<0.615/r-mcg>0.360/r-mit>0.415/l-mit<0.840/l-erl<0.750/l-vac<0.525', decision=6, depth=10)\n    │           │           │   │   └── Node('/root/r-alm>0.435/l-mcg<0.675/r-mit>0.375/r-gvh>0.505/l-mcg<0.615/r-mcg>0.360/r-mit>0.415/l-mit<0.840/l-erl<0.750/r-vac>0.525', depth=10, feature='vac', major=6, numExs=28, split=0.535)\n    │           │           │   │       ├── Node('/root/r-alm>0.435/l-mcg<0.675/r-mit>0.375/r-gvh>0.505/l-mcg<0.615/r-mcg>0.360/r-mit>0.415/l-mit<0.840/l-erl<0.750/r-vac>0.525/l-vac<0.535', depth=11, feature='mcg', major=6, numExs=14, split=0.605)\n    │           │           │   │       │   ├── Node('/root/r-alm>0.435/l-mcg<0.675/r-mit>0.375/r-gvh>0.505/l-mcg<0.615/r-mcg>0.360/r-mit>0.415/l-mit<0.840/l-erl<0.750/r-vac>0.525/l-vac<0.535/l-mcg<0.605', depth=12, feature='mcg', major=6, numExs=13, split=0.44)\n    │           │           │   │       │   │   ├── Node('/root/r-alm>0.435/l-mcg<0.675/r-mit>0.375/r-gvh>0.505/l-mcg<0.615/r-mcg>0.360/r-mit>0.415/l-mit<0.840/l-erl<0.750/r-vac>0.525/l-vac<0.535/l-mcg<0.605/l-mcg<0.440', depth=13, feature='mcg', major=0, numExs=2, split=0.405)\n    │           │           │   │       │   │   │   ├── Node('/root/r-alm>0.435/l-mcg<0.675/r-mit>0.375/r-gvh>0.505/l-mcg<0.615/r-mcg>0.360/r-mit>0.415/l-mit<0.840/l-erl<0.750/r-vac>0.525/l-vac<0.535/l-mcg<0.605/l-mcg<0.440/l-mcg<0.405', decision=6, depth=14)\n    │           │           │   │       │   │   │   └── Node('/root/r-alm>0.435/l-mcg<0.675/r-mit>0.375/r-gvh>0.505/l-mcg<0.615/r-mcg>0.360/r-mit>0.415/l-mit<0.840/l-erl<0.750/r-vac>0.525/l-vac<0.535/l-mcg<0.605/l-mcg<0.440/r-mcg>0.405', decision=0, depth=14)\n    │           │           │   │       │   │   └── Node('/root/r-alm>0.435/l-mcg<0.675/r-mit>0.375/r-gvh>0.505/l-mcg<0.615/r-mcg>0.360/r-mit>0.415/l-mit<0.840/l-erl<0.750/r-vac>0.525/l-vac<0.535/l-mcg<0.605/r-mcg>0.440', depth=13, feature='gvh', major=6, numExs=11, split=0.55)\n    │           │           │   │       │   │       ├── Node('/root/r-alm>0.435/l-mcg<0.675/r-mit>0.375/r-gvh>0.505/l-mcg<0.615/r-mcg>0.360/r-mit>0.415/l-mit<0.840/l-erl<0.750/r-vac>0.525/l-vac<0.535/l-mcg<0.605/r-mcg>0.440/l-gvh<0.550', depth=14, feature='nuc', major=6, numExs=4, split=0.28500000000000003)\n    │           │           │   │       │   │       │   ├── Node('/root/r-alm>0.435/l-mcg<0.675/r-mit>0.375/r-gvh>0.505/l-mcg<0.615/r-mcg>0.360/r-mit>0.415/l-mit<0.840/l-erl<0.750/r-vac>0.525/l-vac<0.535/l-mcg<0.605/r-mcg>0.440/l-gvh<0.550/l-nuc<0.285', decision=6, depth=15)\n    │           │           │   │       │   │       │   └── Node('/root/r-alm>0.435/l-mcg<0.675/r-mit>0.375/r-gvh>0.505/l-mcg<0.615/r-mcg>0.360/r-mit>0.415/l-mit<0.840/l-erl<0.750/r-vac>0.525/l-vac<0.535/l-mcg<0.605/r-mcg>0.440/l-gvh<0.550/r-nuc>0.285', decision=7, depth=15)\n    │           │           │   │       │   │       └── Node('/root/r-alm>0.435/l-mcg<0.675/r-mit>0.375/r-gvh>0.505/l-mcg<0.615/r-mcg>0.360/r-mit>0.415/l-mit<0.840/l-erl<0.750/r-vac>0.525/l-vac<0.535/l-mcg<0.605/r-mcg>0.440/r-gvh>0.550', decision=6, depth=14)\n    │           │           │   │       │   └── Node('/root/r-alm>0.435/l-mcg<0.675/r-mit>0.375/r-gvh>0.505/l-mcg<0.615/r-mcg>0.360/r-mit>0.415/l-mit<0.840/l-erl<0.750/r-vac>0.525/l-vac<0.535/r-mcg>0.605', decision=0, depth=12)\n    │           │           │   │       └── Node('/root/r-alm>0.435/l-mcg<0.675/r-mit>0.375/r-gvh>0.505/l-mcg<0.615/r-mcg>0.360/r-mit>0.415/l-mit<0.840/l-erl<0.750/r-vac>0.525/r-vac>0.535', decision=6, depth=11)\n    │           │           │   └── Node('/root/r-alm>0.435/l-mcg<0.675/r-mit>0.375/r-gvh>0.505/l-mcg<0.615/r-mcg>0.360/r-mit>0.415/l-mit<0.840/r-erl>0.750', decision=0, depth=9)\n    │           │           └── Node('/root/r-alm>0.435/l-mcg<0.675/r-mit>0.375/r-gvh>0.505/l-mcg<0.615/r-mcg>0.360/r-mit>0.415/r-mit>0.840', decision=7, depth=8)\n    │           └── Node('/root/r-alm>0.435/l-mcg<0.675/r-mit>0.375/r-gvh>0.505/r-mcg>0.615', depth=5, feature='gvh', major=6, numExs=13, split=0.635)\n    │               ├── Node('/root/r-alm>0.435/l-mcg<0.675/r-mit>0.375/r-gvh>0.505/r-mcg>0.615/l-gvh<0.635', depth=6, feature='gvh', major=6, numExs=10, split=0.515)\n    │               │   ├── Node('/root/r-alm>0.435/l-mcg<0.675/r-mit>0.375/r-gvh>0.505/r-mcg>0.615/l-gvh<0.635/l-gvh<0.515', decision=7, depth=7)\n    │               │   └── Node('/root/r-alm>0.435/l-mcg<0.675/r-mit>0.375/r-gvh>0.505/r-mcg>0.615/l-gvh<0.635/r-gvh>0.515', depth=7, feature='vac', major=6, numExs=9, split=0.54)\n    │               │       ├── Node('/root/r-alm>0.435/l-mcg<0.675/r-mit>0.375/r-gvh>0.505/r-mcg>0.615/l-gvh<0.635/r-gvh>0.515/l-vac<0.540', decision=6, depth=8)\n    │               │       └── Node('/root/r-alm>0.435/l-mcg<0.675/r-mit>0.375/r-gvh>0.505/r-mcg>0.615/l-gvh<0.635/r-gvh>0.515/r-vac>0.540', depth=8, feature='mcg', major=6, numExs=2, split=0.645)\n    │               │           ├── Node('/root/r-alm>0.435/l-mcg<0.675/r-mit>0.375/r-gvh>0.505/r-mcg>0.615/l-gvh<0.635/r-gvh>0.515/r-vac>0.540/l-mcg<0.645', decision=9, depth=9)\n    │               │           └── Node('/root/r-alm>0.435/l-mcg<0.675/r-mit>0.375/r-gvh>0.505/r-mcg>0.615/l-gvh<0.635/r-gvh>0.515/r-vac>0.540/r-mcg>0.645', decision=6, depth=9)\n    │               └── Node('/root/r-alm>0.435/l-mcg<0.675/r-mit>0.375/r-gvh>0.505/r-mcg>0.615/r-gvh>0.635', depth=6, feature='mcg', major=2, numExs=3, split=0.645)\n    │                   ├── Node('/root/r-alm>0.435/l-mcg<0.675/r-mit>0.375/r-gvh>0.505/r-mcg>0.615/r-gvh>0.635/l-mcg<0.645', decision=4, depth=7)\n    │                   └── Node('/root/r-alm>0.435/l-mcg<0.675/r-mit>0.375/r-gvh>0.505/r-mcg>0.615/r-gvh>0.635/r-mcg>0.645', depth=7, feature='mcg', major=2, numExs=2, split=0.665)\n    │                       ├── Node('/root/r-alm>0.435/l-mcg<0.675/r-mit>0.375/r-gvh>0.505/r-mcg>0.615/r-gvh>0.635/r-mcg>0.645/l-mcg<0.665', decision=2, depth=8)\n    │                       └── Node('/root/r-alm>0.435/l-mcg<0.675/r-mit>0.375/r-gvh>0.505/r-mcg>0.615/r-gvh>0.635/r-mcg>0.645/r-mcg>0.665', decision=7, depth=8)\n    └── Node('/root/r-alm>0.435/r-mcg>0.675', depth=2, feature='gvh', major=2, numExs=87, split=0.625)\n        ├── Node('/root/r-alm>0.435/r-mcg>0.675/l-gvh<0.625', depth=3, feature='mit', major=0, numExs=33, split=0.265)\n        │   ├── Node('/root/r-alm>0.435/r-mcg>0.675/l-gvh<0.625/l-mit<0.265', depth=4, feature='pox', major=0, numExs=19, split=0.415)\n        │   │   ├── Node('/root/r-alm>0.435/r-mcg>0.675/l-gvh<0.625/l-mit<0.265/l-pox<0.415', depth=5, feature='mit', major=0, numExs=17, split=0.195)\n        │   │   │   ├── Node('/root/r-alm>0.435/r-mcg>0.675/l-gvh<0.625/l-mit<0.265/l-pox<0.415/l-mit<0.195', depth=6, feature='mcg', major=0, numExs=10, split=0.73)\n        │   │   │   │   ├── Node('/root/r-alm>0.435/r-mcg>0.675/l-gvh<0.625/l-mit<0.265/l-pox<0.415/l-mit<0.195/l-mcg<0.730', depth=7, feature='mit', major=0, numExs=6, split=0.1)\n        │   │   │   │   │   ├── Node('/root/r-alm>0.435/r-mcg>0.675/l-gvh<0.625/l-mit<0.265/l-pox<0.415/l-mit<0.195/l-mcg<0.730/l-mit<0.100', decision=7, depth=8)\n        │   │   │   │   │   └── Node('/root/r-alm>0.435/r-mcg>0.675/l-gvh<0.625/l-mit<0.265/l-pox<0.415/l-mit<0.195/l-mcg<0.730/r-mit>0.100', depth=8, feature='mcg', major=0, numExs=4, split=0.685)\n        │   │   │   │   │       ├── Node('/root/r-alm>0.435/r-mcg>0.675/l-gvh<0.625/l-mit<0.265/l-pox<0.415/l-mit<0.195/l-mcg<0.730/r-mit>0.100/l-mcg<0.685', decision=7, depth=9)\n        │   │   │   │   │       └── Node('/root/r-alm>0.435/r-mcg>0.675/l-gvh<0.625/l-mit<0.265/l-pox<0.415/l-mit<0.195/l-mcg<0.730/r-mit>0.100/r-mcg>0.685', decision=0, depth=9)\n        │   │   │   │   └── Node('/root/r-alm>0.435/r-mcg>0.675/l-gvh<0.625/l-mit<0.265/l-pox<0.415/l-mit<0.195/r-mcg>0.730', decision=0, depth=7)\n        │   │   │   └── Node('/root/r-alm>0.435/r-mcg>0.675/l-gvh<0.625/l-mit<0.265/l-pox<0.415/r-mit>0.195', depth=6, feature='vac', major=7, numExs=7, split=0.625)\n        │   │   │       ├── Node('/root/r-alm>0.435/r-mcg>0.675/l-gvh<0.625/l-mit<0.265/l-pox<0.415/r-mit>0.195/l-vac<0.625', depth=7, feature='alm', major=7, numExs=5, split=0.5549999999999999)\n        │   │   │       │   ├── Node('/root/r-alm>0.435/r-mcg>0.675/l-gvh<0.625/l-mit<0.265/l-pox<0.415/r-mit>0.195/l-vac<0.625/l-alm<0.555', depth=8, feature='mcg', major=4, numExs=3, split=0.705)\n        │   │   │       │   │   ├── Node('/root/r-alm>0.435/r-mcg>0.675/l-gvh<0.625/l-mit<0.265/l-pox<0.415/r-mit>0.195/l-vac<0.625/l-alm<0.555/l-mcg<0.705', decision=7, depth=9)\n        │   │   │       │   │   └── Node('/root/r-alm>0.435/r-mcg>0.675/l-gvh<0.625/l-mit<0.265/l-pox<0.415/r-mit>0.195/l-vac<0.625/l-alm<0.555/r-mcg>0.705', decision=4, depth=9)\n        │   │   │       │   └── Node('/root/r-alm>0.435/r-mcg>0.675/l-gvh<0.625/l-mit<0.265/l-pox<0.415/r-mit>0.195/l-vac<0.625/r-alm>0.555', decision=7, depth=8)\n        │   │   │       └── Node('/root/r-alm>0.435/r-mcg>0.675/l-gvh<0.625/l-mit<0.265/l-pox<0.415/r-mit>0.195/r-vac>0.625', decision=0, depth=7)\n        │   │   └── Node('/root/r-alm>0.435/r-mcg>0.675/l-gvh<0.625/l-mit<0.265/r-pox>0.415', decision=8, depth=5)\n        │   └── Node('/root/r-alm>0.435/r-mcg>0.675/l-gvh<0.625/r-mit>0.265', depth=4, feature='mcg', major=6, numExs=14, split=0.73)\n        │       ├── Node('/root/r-alm>0.435/r-mcg>0.675/l-gvh<0.625/r-mit>0.265/l-mcg<0.730', depth=5, feature='alm', major=6, numExs=10, split=0.495)\n        │       │   ├── Node('/root/r-alm>0.435/r-mcg>0.675/l-gvh<0.625/r-mit>0.265/l-mcg<0.730/l-alm<0.495', depth=6, feature='mit', major=6, numExs=5, split=0.45999999999999996)\n        │       │   │   ├── Node('/root/r-alm>0.435/r-mcg>0.675/l-gvh<0.625/r-mit>0.265/l-mcg<0.730/l-alm<0.495/l-mit<0.460', decision=6, depth=7)\n        │       │   │   └── Node('/root/r-alm>0.435/r-mcg>0.675/l-gvh<0.625/r-mit>0.265/l-mcg<0.730/l-alm<0.495/r-mit>0.460', decision=8, depth=7)\n        │       │   └── Node('/root/r-alm>0.435/r-mcg>0.675/l-gvh<0.625/r-mit>0.265/l-mcg<0.730/r-alm>0.495', depth=6, feature='mit', major=0, numExs=5, split=0.385)\n        │       │       ├── Node('/root/r-alm>0.435/r-mcg>0.675/l-gvh<0.625/r-mit>0.265/l-mcg<0.730/r-alm>0.495/l-mit<0.385', decision=0, depth=7)\n        │       │       └── Node('/root/r-alm>0.435/r-mcg>0.675/l-gvh<0.625/r-mit>0.265/l-mcg<0.730/r-alm>0.495/r-mit>0.385', depth=7, feature='mcg', major=2, numExs=2, split=0.69)\n        │       │           ├── Node('/root/r-alm>0.435/r-mcg>0.675/l-gvh<0.625/r-mit>0.265/l-mcg<0.730/r-alm>0.495/r-mit>0.385/l-mcg<0.690', decision=6, depth=8)\n        │       │           └── Node('/root/r-alm>0.435/r-mcg>0.675/l-gvh<0.625/r-mit>0.265/l-mcg<0.730/r-alm>0.495/r-mit>0.385/r-mcg>0.690', decision=2, depth=8)\n        │       └── Node('/root/r-alm>0.435/r-mcg>0.675/l-gvh<0.625/r-mit>0.265/r-mcg>0.730', depth=5, feature='mcg', major=7, numExs=4, split=0.825)\n        │           ├── Node('/root/r-alm>0.435/r-mcg>0.675/l-gvh<0.625/r-mit>0.265/r-mcg>0.730/l-mcg<0.825', depth=6, feature='mcg', major=4, numExs=2, split=0.76)\n        │           │   ├── Node('/root/r-alm>0.435/r-mcg>0.675/l-gvh<0.625/r-mit>0.265/r-mcg>0.730/l-mcg<0.825/l-mcg<0.760', decision=9, depth=7)\n        │           │   └── Node('/root/r-alm>0.435/r-mcg>0.675/l-gvh<0.625/r-mit>0.265/r-mcg>0.730/l-mcg<0.825/r-mcg>0.760', decision=4, depth=7)\n        │           └── Node('/root/r-alm>0.435/r-mcg>0.675/l-gvh<0.625/r-mit>0.265/r-mcg>0.730/r-mcg>0.825', decision=7, depth=6)\n        └── Node('/root/r-alm>0.435/r-mcg>0.675/r-gvh>0.625', depth=3, feature='erl', major=2, numExs=54, split=0.75)\n            ├── Node('/root/r-alm>0.435/r-mcg>0.675/r-gvh>0.625/l-erl<0.750', depth=4, feature='alm', major=2, numExs=50, split=0.495)\n            │   ├── Node('/root/r-alm>0.435/r-mcg>0.675/r-gvh>0.625/l-erl<0.750/l-alm<0.495', depth=5, feature='mit', major=2, numExs=22, split=0.14)\n            │   │   ├── Node('/root/r-alm>0.435/r-mcg>0.675/r-gvh>0.625/l-erl<0.750/l-alm<0.495/l-mit<0.140', decision=9, depth=6)\n            │   │   └── Node('/root/r-alm>0.435/r-mcg>0.675/r-gvh>0.625/l-erl<0.750/l-alm<0.495/r-mit>0.140', depth=6, feature='alm', major=2, numExs=21, split=0.445)\n            │   │       ├── Node('/root/r-alm>0.435/r-mcg>0.675/r-gvh>0.625/l-erl<0.750/l-alm<0.495/r-mit>0.140/l-alm<0.445', decision=3, depth=7)\n            │   │       └── Node('/root/r-alm>0.435/r-mcg>0.675/r-gvh>0.625/l-erl<0.750/l-alm<0.495/r-mit>0.140/r-alm>0.445', depth=7, feature='mcg', major=2, numExs=18, split=0.835)\n            │   │           ├── Node('/root/r-alm>0.435/r-mcg>0.675/r-gvh>0.625/l-erl<0.750/l-alm<0.495/r-mit>0.140/r-alm>0.445/l-mcg<0.835', depth=8, feature='vac', major=2, numExs=16, split=0.485)\n            │   │           │   ├── Node('/root/r-alm>0.435/r-mcg>0.675/r-gvh>0.625/l-erl<0.750/l-alm<0.495/r-mit>0.140/r-alm>0.445/l-mcg<0.835/l-vac<0.485', decision=2, depth=9)\n            │   │           │   └── Node('/root/r-alm>0.435/r-mcg>0.675/r-gvh>0.625/l-erl<0.750/l-alm<0.495/r-mit>0.140/r-alm>0.445/l-mcg<0.835/r-vac>0.485', depth=9, feature='mcg', major=2, numExs=9, split=0.815)\n            │   │           │       ├── Node('/root/r-alm>0.435/r-mcg>0.675/r-gvh>0.625/l-erl<0.750/l-alm<0.495/r-mit>0.140/r-alm>0.445/l-mcg<0.835/r-vac>0.485/l-mcg<0.815', depth=10, feature='mit', major=2, numExs=8, split=0.405)\n            │   │           │       │   ├── Node('/root/r-alm>0.435/r-mcg>0.675/r-gvh>0.625/l-erl<0.750/l-alm<0.495/r-mit>0.140/r-alm>0.445/l-mcg<0.835/r-vac>0.485/l-mcg<0.815/l-mit<0.405', depth=11, feature='vac', major=2, numExs=7, split=0.495)\n            │   │           │       │   │   ├── Node('/root/r-alm>0.435/r-mcg>0.675/r-gvh>0.625/l-erl<0.750/l-alm<0.495/r-mit>0.140/r-alm>0.445/l-mcg<0.835/r-vac>0.485/l-mcg<0.815/l-mit<0.405/l-vac<0.495', decision=3, depth=12)\n            │   │           │       │   │   └── Node('/root/r-alm>0.435/r-mcg>0.675/r-gvh>0.625/l-erl<0.750/l-alm<0.495/r-mit>0.140/r-alm>0.445/l-mcg<0.835/r-vac>0.485/l-mcg<0.815/l-mit<0.405/r-vac>0.495', depth=12, feature='vac', major=2, numExs=6, split=0.565)\n            │   │           │       │   │       ├── Node('/root/r-alm>0.435/r-mcg>0.675/r-gvh>0.625/l-erl<0.750/l-alm<0.495/r-mit>0.140/r-alm>0.445/l-mcg<0.835/r-vac>0.485/l-mcg<0.815/l-mit<0.405/r-vac>0.495/l-vac<0.565', decision=2, depth=13)\n            │   │           │       │   │       └── Node('/root/r-alm>0.435/r-mcg>0.675/r-gvh>0.625/l-erl<0.750/l-alm<0.495/r-mit>0.140/r-alm>0.445/l-mcg<0.835/r-vac>0.485/l-mcg<0.815/l-mit<0.405/r-vac>0.495/r-vac>0.565', decision=3, depth=13)\n            │   │           │       │   └── Node('/root/r-alm>0.435/r-mcg>0.675/r-gvh>0.625/l-erl<0.750/l-alm<0.495/r-mit>0.140/r-alm>0.445/l-mcg<0.835/r-vac>0.485/l-mcg<0.815/r-mit>0.405', decision=8, depth=11)\n            │   │           │       └── Node('/root/r-alm>0.435/r-mcg>0.675/r-gvh>0.625/l-erl<0.750/l-alm<0.495/r-mit>0.140/r-alm>0.445/l-mcg<0.835/r-vac>0.485/r-mcg>0.815', decision=8, depth=10)\n            │   │           └── Node('/root/r-alm>0.435/r-mcg>0.675/r-gvh>0.625/l-erl<0.750/l-alm<0.495/r-mit>0.140/r-alm>0.445/r-mcg>0.835', decision=3, depth=8)\n            │   └── Node('/root/r-alm>0.435/r-mcg>0.675/r-gvh>0.625/l-erl<0.750/r-alm>0.495', depth=5, feature='vac', major=2, numExs=28, split=0.505)\n            │       ├── Node('/root/r-alm>0.435/r-mcg>0.675/r-gvh>0.625/l-erl<0.750/r-alm>0.495/l-vac<0.505', depth=6, feature='mit', major=2, numExs=15, split=0.375)\n            │       │   ├── Node('/root/r-alm>0.435/r-mcg>0.675/r-gvh>0.625/l-erl<0.750/r-alm>0.495/l-vac<0.505/l-mit<0.375', depth=7, feature='mcg', major=2, numExs=13, split=0.72)\n            │       │   │   ├── Node('/root/r-alm>0.435/r-mcg>0.675/r-gvh>0.625/l-erl<0.750/r-alm>0.495/l-vac<0.505/l-mit<0.375/l-mcg<0.720', depth=8, feature='mcg', major=2, numExs=2, split=0.695)\n            │       │   │   │   ├── Node('/root/r-alm>0.435/r-mcg>0.675/r-gvh>0.625/l-erl<0.750/r-alm>0.495/l-vac<0.505/l-mit<0.375/l-mcg<0.720/l-mcg<0.695', decision=2, depth=9)\n            │       │   │   │   └── Node('/root/r-alm>0.435/r-mcg>0.675/r-gvh>0.625/l-erl<0.750/r-alm>0.495/l-vac<0.505/l-mit<0.375/l-mcg<0.720/r-mcg>0.695', decision=9, depth=9)\n            │       │   │   └── Node('/root/r-alm>0.435/r-mcg>0.675/r-gvh>0.625/l-erl<0.750/r-alm>0.495/l-vac<0.505/l-mit<0.375/r-mcg>0.720', decision=2, depth=8)\n            │       │   └── Node('/root/r-alm>0.435/r-mcg>0.675/r-gvh>0.625/l-erl<0.750/r-alm>0.495/l-vac<0.505/r-mit>0.375', depth=7, feature='mcg', major=4, numExs=2, split=0.745)\n            │       │       ├── Node('/root/r-alm>0.435/r-mcg>0.675/r-gvh>0.625/l-erl<0.750/r-alm>0.495/l-vac<0.505/r-mit>0.375/l-mcg<0.745', decision=4, depth=8)\n            │       │       └── Node('/root/r-alm>0.435/r-mcg>0.675/r-gvh>0.625/l-erl<0.750/r-alm>0.495/l-vac<0.505/r-mit>0.375/r-mcg>0.745', decision=6, depth=8)\n            │       └── Node('/root/r-alm>0.435/r-mcg>0.675/r-gvh>0.625/l-erl<0.750/r-alm>0.495/r-vac>0.505', depth=6, feature='mit', major=4, numExs=13, split=0.315)\n            │           ├── Node('/root/r-alm>0.435/r-mcg>0.675/r-gvh>0.625/l-erl<0.750/r-alm>0.495/r-vac>0.505/l-mit<0.315', depth=7, feature='mit', major=9, numExs=7, split=0.245)\n            │           │   ├── Node('/root/r-alm>0.435/r-mcg>0.675/r-gvh>0.625/l-erl<0.750/r-alm>0.495/r-vac>0.505/l-mit<0.315/l-mit<0.245', depth=8, feature='mcg', major=0, numExs=3, split=0.8500000000000001)\n            │           │   │   ├── Node('/root/r-alm>0.435/r-mcg>0.675/r-gvh>0.625/l-erl<0.750/r-alm>0.495/r-vac>0.505/l-mit<0.315/l-mit<0.245/l-mcg<0.850', depth=9, feature='gvh', major=0, numExs=2, split=0.725)\n            │           │   │   │   ├── Node('/root/r-alm>0.435/r-mcg>0.675/r-gvh>0.625/l-erl<0.750/r-alm>0.495/r-vac>0.505/l-mit<0.315/l-mit<0.245/l-mcg<0.850/l-gvh<0.725', decision=4, depth=10)\n            │           │   │   │   └── Node('/root/r-alm>0.435/r-mcg>0.675/r-gvh>0.625/l-erl<0.750/r-alm>0.495/r-vac>0.505/l-mit<0.315/l-mit<0.245/l-mcg<0.850/r-gvh>0.725', decision=0, depth=10)\n            │           │   │   └── Node('/root/r-alm>0.435/r-mcg>0.675/r-gvh>0.625/l-erl<0.750/r-alm>0.495/r-vac>0.505/l-mit<0.315/l-mit<0.245/r-mcg>0.850', decision=3, depth=9)\n            │           │   └── Node('/root/r-alm>0.435/r-mcg>0.675/r-gvh>0.625/l-erl<0.750/r-alm>0.495/r-vac>0.505/l-mit<0.315/r-mit>0.245', depth=8, feature='vac', major=9, numExs=4, split=0.53)\n            │           │       ├── Node('/root/r-alm>0.435/r-mcg>0.675/r-gvh>0.625/l-erl<0.750/r-alm>0.495/r-vac>0.505/l-mit<0.315/r-mit>0.245/l-vac<0.530', decision=6, depth=9)\n            │           │       └── Node('/root/r-alm>0.435/r-mcg>0.675/r-gvh>0.625/l-erl<0.750/r-alm>0.495/r-vac>0.505/l-mit<0.315/r-mit>0.245/r-vac>0.530', decision=9, depth=9)\n            │           └── Node('/root/r-alm>0.435/r-mcg>0.675/r-gvh>0.625/l-erl<0.750/r-alm>0.495/r-vac>0.505/r-mit>0.315', depth=7, feature='gvh', major=4, numExs=6, split=0.6699999999999999)\n            │               ├── Node('/root/r-alm>0.435/r-mcg>0.675/r-gvh>0.625/l-erl<0.750/r-alm>0.495/r-vac>0.505/r-mit>0.315/l-gvh<0.670', decision=6, depth=8)\n            │               └── Node('/root/r-alm>0.435/r-mcg>0.675/r-gvh>0.625/l-erl<0.750/r-alm>0.495/r-vac>0.505/r-mit>0.315/r-gvh>0.670', decision=4, depth=8)\n            └── Node('/root/r-alm>0.435/r-mcg>0.675/r-gvh>0.625/r-erl>0.750', decision=1, depth=4)\n"
     ]
    }
   ],
   "source": [
    "print(RenderTree(full))"
   ]
  },
  {
   "cell_type": "code",
   "execution_count": 247,
   "metadata": {},
   "outputs": [],
   "source": [
    "t1 = Node(\"root\", depth=0)\n",
    "split_node(t1, data, G.feature_names[:-1], 1)"
   ]
  },
  {
   "cell_type": "code",
   "execution_count": 248,
   "metadata": {},
   "outputs": [
    {
     "output_type": "stream",
     "name": "stdout",
     "text": [
      "Node('/root', depth=0, feature='alm', major=0, numExs=1484, split=0.435)\n├── Node('/root/l-alm<0.435', decision=5, depth=1)\n└── Node('/root/r-alm>0.435', decision=0, depth=1)\n"
     ]
    }
   ],
   "source": [
    "print(RenderTree(t1))"
   ]
  },
  {
   "cell_type": "code",
   "execution_count": 249,
   "metadata": {},
   "outputs": [],
   "source": [
    "def learn_dt(examples: List, features: List[str], max_depth=math.inf) -> Node:\n",
    "    \"\"\"\n",
    "    Given some examples, some features, and the max depth,\n",
    "    creates the root of a decision tree, and\n",
    "    calls split_node to grow the tree to classify the examples using the features, and\n",
    "    returns the root node.\n",
    "\n",
    "    This function is a wrapper for split_node.\n",
    "\n",
    "    Tie breaking rule:\n",
    "    If there is a tie for majority voting, always return the label with the smallest value.\n",
    "\n",
    "    :param examples: a set of examples\n",
    "    :type examples: List[List[Any]]\n",
    "    :param features: a set of features\n",
    "    :type features: List[str]\n",
    "    :param max_depth: the max depth of the tree\n",
    "    :type max_depth: int, default math.inf\n",
    "    :return: the root of the tree\n",
    "    :rtype: Node\n",
    "    \"\"\" \n",
    "    root = Node(\"root\", depth=0)\n",
    "    split_node(root, examples, features, max_depth)\n",
    "    return root"
   ]
  },
  {
   "cell_type": "code",
   "execution_count": 250,
   "metadata": {},
   "outputs": [],
   "source": [
    "t2 = learn_dt(data, G.feature_names[:-1])"
   ]
  },
  {
   "cell_type": "code",
   "execution_count": 251,
   "metadata": {
    "tags": [
     "outputPrepend"
    ]
   },
   "outputs": [
    {
     "output_type": "stream",
     "name": "stdout",
     "text": [
      "ecision=7, depth=9)\n    │           │       └── Node('/root/r-alm>0.435/l-mcg<0.675/r-mit>0.375/r-gvh>0.505/l-mcg<0.615/r-mcg>0.360/r-mit>0.415', depth=7, feature='mit', major=6, numExs=73, split=0.84)\n    │           │           ├── Node('/root/r-alm>0.435/l-mcg<0.675/r-mit>0.375/r-gvh>0.505/l-mcg<0.615/r-mcg>0.360/r-mit>0.415/l-mit<0.840', depth=8, feature='erl', major=6, numExs=72, split=0.75)\n    │           │           │   ├── Node('/root/r-alm>0.435/l-mcg<0.675/r-mit>0.375/r-gvh>0.505/l-mcg<0.615/r-mcg>0.360/r-mit>0.415/l-mit<0.840/l-erl<0.750', depth=9, feature='vac', major=6, numExs=71, split=0.525)\n    │           │           │   │   ├── Node('/root/r-alm>0.435/l-mcg<0.675/r-mit>0.375/r-gvh>0.505/l-mcg<0.615/r-mcg>0.360/r-mit>0.415/l-mit<0.840/l-erl<0.750/l-vac<0.525', decision=6, depth=10)\n    │           │           │   │   └── Node('/root/r-alm>0.435/l-mcg<0.675/r-mit>0.375/r-gvh>0.505/l-mcg<0.615/r-mcg>0.360/r-mit>0.415/l-mit<0.840/l-erl<0.750/r-vac>0.525', depth=10, feature='vac', major=6, numExs=28, split=0.535)\n    │           │           │   │       ├── Node('/root/r-alm>0.435/l-mcg<0.675/r-mit>0.375/r-gvh>0.505/l-mcg<0.615/r-mcg>0.360/r-mit>0.415/l-mit<0.840/l-erl<0.750/r-vac>0.525/l-vac<0.535', depth=11, feature='mcg', major=6, numExs=14, split=0.605)\n    │           │           │   │       │   ├── Node('/root/r-alm>0.435/l-mcg<0.675/r-mit>0.375/r-gvh>0.505/l-mcg<0.615/r-mcg>0.360/r-mit>0.415/l-mit<0.840/l-erl<0.750/r-vac>0.525/l-vac<0.535/l-mcg<0.605', depth=12, feature='mcg', major=6, numExs=13, split=0.44)\n    │           │           │   │       │   │   ├── Node('/root/r-alm>0.435/l-mcg<0.675/r-mit>0.375/r-gvh>0.505/l-mcg<0.615/r-mcg>0.360/r-mit>0.415/l-mit<0.840/l-erl<0.750/r-vac>0.525/l-vac<0.535/l-mcg<0.605/l-mcg<0.440', depth=13, feature='mcg', major=0, numExs=2, split=0.405)\n    │           │           │   │       │   │   │   ├── Node('/root/r-alm>0.435/l-mcg<0.675/r-mit>0.375/r-gvh>0.505/l-mcg<0.615/r-mcg>0.360/r-mit>0.415/l-mit<0.840/l-erl<0.750/r-vac>0.525/l-vac<0.535/l-mcg<0.605/l-mcg<0.440/l-mcg<0.405', decision=6, depth=14)\n    │           │           │   │       │   │   │   └── Node('/root/r-alm>0.435/l-mcg<0.675/r-mit>0.375/r-gvh>0.505/l-mcg<0.615/r-mcg>0.360/r-mit>0.415/l-mit<0.840/l-erl<0.750/r-vac>0.525/l-vac<0.535/l-mcg<0.605/l-mcg<0.440/r-mcg>0.405', decision=0, depth=14)\n    │           │           │   │       │   │   └── Node('/root/r-alm>0.435/l-mcg<0.675/r-mit>0.375/r-gvh>0.505/l-mcg<0.615/r-mcg>0.360/r-mit>0.415/l-mit<0.840/l-erl<0.750/r-vac>0.525/l-vac<0.535/l-mcg<0.605/r-mcg>0.440', depth=13, feature='gvh', major=6, numExs=11, split=0.55)\n    │           │           │   │       │   │       ├── Node('/root/r-alm>0.435/l-mcg<0.675/r-mit>0.375/r-gvh>0.505/l-mcg<0.615/r-mcg>0.360/r-mit>0.415/l-mit<0.840/l-erl<0.750/r-vac>0.525/l-vac<0.535/l-mcg<0.605/r-mcg>0.440/l-gvh<0.550', depth=14, feature='nuc', major=6, numExs=4, split=0.28500000000000003)\n    │           │           │   │       │   │       │   ├── Node('/root/r-alm>0.435/l-mcg<0.675/r-mit>0.375/r-gvh>0.505/l-mcg<0.615/r-mcg>0.360/r-mit>0.415/l-mit<0.840/l-erl<0.750/r-vac>0.525/l-vac<0.535/l-mcg<0.605/r-mcg>0.440/l-gvh<0.550/l-nuc<0.285', decision=6, depth=15)\n    │           │           │   │       │   │       │   └── Node('/root/r-alm>0.435/l-mcg<0.675/r-mit>0.375/r-gvh>0.505/l-mcg<0.615/r-mcg>0.360/r-mit>0.415/l-mit<0.840/l-erl<0.750/r-vac>0.525/l-vac<0.535/l-mcg<0.605/r-mcg>0.440/l-gvh<0.550/r-nuc>0.285', decision=7, depth=15)\n    │           │           │   │       │   │       └── Node('/root/r-alm>0.435/l-mcg<0.675/r-mit>0.375/r-gvh>0.505/l-mcg<0.615/r-mcg>0.360/r-mit>0.415/l-mit<0.840/l-erl<0.750/r-vac>0.525/l-vac<0.535/l-mcg<0.605/r-mcg>0.440/r-gvh>0.550', decision=6, depth=14)\n    │           │           │   │       │   └── Node('/root/r-alm>0.435/l-mcg<0.675/r-mit>0.375/r-gvh>0.505/l-mcg<0.615/r-mcg>0.360/r-mit>0.415/l-mit<0.840/l-erl<0.750/r-vac>0.525/l-vac<0.535/r-mcg>0.605', decision=0, depth=12)\n    │           │           │   │       └── Node('/root/r-alm>0.435/l-mcg<0.675/r-mit>0.375/r-gvh>0.505/l-mcg<0.615/r-mcg>0.360/r-mit>0.415/l-mit<0.840/l-erl<0.750/r-vac>0.525/r-vac>0.535', decision=6, depth=11)\n    │           │           │   └── Node('/root/r-alm>0.435/l-mcg<0.675/r-mit>0.375/r-gvh>0.505/l-mcg<0.615/r-mcg>0.360/r-mit>0.415/l-mit<0.840/r-erl>0.750', decision=0, depth=9)\n    │           │           └── Node('/root/r-alm>0.435/l-mcg<0.675/r-mit>0.375/r-gvh>0.505/l-mcg<0.615/r-mcg>0.360/r-mit>0.415/r-mit>0.840', decision=7, depth=8)\n    │           └── Node('/root/r-alm>0.435/l-mcg<0.675/r-mit>0.375/r-gvh>0.505/r-mcg>0.615', depth=5, feature='gvh', major=6, numExs=13, split=0.635)\n    │               ├── Node('/root/r-alm>0.435/l-mcg<0.675/r-mit>0.375/r-gvh>0.505/r-mcg>0.615/l-gvh<0.635', depth=6, feature='gvh', major=6, numExs=10, split=0.515)\n    │               │   ├── Node('/root/r-alm>0.435/l-mcg<0.675/r-mit>0.375/r-gvh>0.505/r-mcg>0.615/l-gvh<0.635/l-gvh<0.515', decision=7, depth=7)\n    │               │   └── Node('/root/r-alm>0.435/l-mcg<0.675/r-mit>0.375/r-gvh>0.505/r-mcg>0.615/l-gvh<0.635/r-gvh>0.515', depth=7, feature='vac', major=6, numExs=9, split=0.54)\n    │               │       ├── Node('/root/r-alm>0.435/l-mcg<0.675/r-mit>0.375/r-gvh>0.505/r-mcg>0.615/l-gvh<0.635/r-gvh>0.515/l-vac<0.540', decision=6, depth=8)\n    │               │       └── Node('/root/r-alm>0.435/l-mcg<0.675/r-mit>0.375/r-gvh>0.505/r-mcg>0.615/l-gvh<0.635/r-gvh>0.515/r-vac>0.540', depth=8, feature='mcg', major=6, numExs=2, split=0.645)\n    │               │           ├── Node('/root/r-alm>0.435/l-mcg<0.675/r-mit>0.375/r-gvh>0.505/r-mcg>0.615/l-gvh<0.635/r-gvh>0.515/r-vac>0.540/l-mcg<0.645', decision=9, depth=9)\n    │               │           └── Node('/root/r-alm>0.435/l-mcg<0.675/r-mit>0.375/r-gvh>0.505/r-mcg>0.615/l-gvh<0.635/r-gvh>0.515/r-vac>0.540/r-mcg>0.645', decision=6, depth=9)\n    │               └── Node('/root/r-alm>0.435/l-mcg<0.675/r-mit>0.375/r-gvh>0.505/r-mcg>0.615/r-gvh>0.635', depth=6, feature='mcg', major=2, numExs=3, split=0.645)\n    │                   ├── Node('/root/r-alm>0.435/l-mcg<0.675/r-mit>0.375/r-gvh>0.505/r-mcg>0.615/r-gvh>0.635/l-mcg<0.645', decision=4, depth=7)\n    │                   └── Node('/root/r-alm>0.435/l-mcg<0.675/r-mit>0.375/r-gvh>0.505/r-mcg>0.615/r-gvh>0.635/r-mcg>0.645', depth=7, feature='mcg', major=2, numExs=2, split=0.665)\n    │                       ├── Node('/root/r-alm>0.435/l-mcg<0.675/r-mit>0.375/r-gvh>0.505/r-mcg>0.615/r-gvh>0.635/r-mcg>0.645/l-mcg<0.665', decision=2, depth=8)\n    │                       └── Node('/root/r-alm>0.435/l-mcg<0.675/r-mit>0.375/r-gvh>0.505/r-mcg>0.615/r-gvh>0.635/r-mcg>0.645/r-mcg>0.665', decision=7, depth=8)\n    └── Node('/root/r-alm>0.435/r-mcg>0.675', depth=2, feature='gvh', major=2, numExs=87, split=0.625)\n        ├── Node('/root/r-alm>0.435/r-mcg>0.675/l-gvh<0.625', depth=3, feature='mit', major=0, numExs=33, split=0.265)\n        │   ├── Node('/root/r-alm>0.435/r-mcg>0.675/l-gvh<0.625/l-mit<0.265', depth=4, feature='pox', major=0, numExs=19, split=0.415)\n        │   │   ├── Node('/root/r-alm>0.435/r-mcg>0.675/l-gvh<0.625/l-mit<0.265/l-pox<0.415', depth=5, feature='mit', major=0, numExs=17, split=0.195)\n        │   │   │   ├── Node('/root/r-alm>0.435/r-mcg>0.675/l-gvh<0.625/l-mit<0.265/l-pox<0.415/l-mit<0.195', depth=6, feature='mcg', major=0, numExs=10, split=0.73)\n        │   │   │   │   ├── Node('/root/r-alm>0.435/r-mcg>0.675/l-gvh<0.625/l-mit<0.265/l-pox<0.415/l-mit<0.195/l-mcg<0.730', depth=7, feature='mit', major=0, numExs=6, split=0.1)\n        │   │   │   │   │   ├── Node('/root/r-alm>0.435/r-mcg>0.675/l-gvh<0.625/l-mit<0.265/l-pox<0.415/l-mit<0.195/l-mcg<0.730/l-mit<0.100', decision=7, depth=8)\n        │   │   │   │   │   └── Node('/root/r-alm>0.435/r-mcg>0.675/l-gvh<0.625/l-mit<0.265/l-pox<0.415/l-mit<0.195/l-mcg<0.730/r-mit>0.100', depth=8, feature='mcg', major=0, numExs=4, split=0.685)\n        │   │   │   │   │       ├── Node('/root/r-alm>0.435/r-mcg>0.675/l-gvh<0.625/l-mit<0.265/l-pox<0.415/l-mit<0.195/l-mcg<0.730/r-mit>0.100/l-mcg<0.685', decision=7, depth=9)\n        │   │   │   │   │       └── Node('/root/r-alm>0.435/r-mcg>0.675/l-gvh<0.625/l-mit<0.265/l-pox<0.415/l-mit<0.195/l-mcg<0.730/r-mit>0.100/r-mcg>0.685', decision=0, depth=9)\n        │   │   │   │   └── Node('/root/r-alm>0.435/r-mcg>0.675/l-gvh<0.625/l-mit<0.265/l-pox<0.415/l-mit<0.195/r-mcg>0.730', decision=0, depth=7)\n        │   │   │   └── Node('/root/r-alm>0.435/r-mcg>0.675/l-gvh<0.625/l-mit<0.265/l-pox<0.415/r-mit>0.195', depth=6, feature='vac', major=7, numExs=7, split=0.625)\n        │   │   │       ├── Node('/root/r-alm>0.435/r-mcg>0.675/l-gvh<0.625/l-mit<0.265/l-pox<0.415/r-mit>0.195/l-vac<0.625', depth=7, feature='alm', major=7, numExs=5, split=0.5549999999999999)\n        │   │   │       │   ├── Node('/root/r-alm>0.435/r-mcg>0.675/l-gvh<0.625/l-mit<0.265/l-pox<0.415/r-mit>0.195/l-vac<0.625/l-alm<0.555', depth=8, feature='mcg', major=4, numExs=3, split=0.705)\n        │   │   │       │   │   ├── Node('/root/r-alm>0.435/r-mcg>0.675/l-gvh<0.625/l-mit<0.265/l-pox<0.415/r-mit>0.195/l-vac<0.625/l-alm<0.555/l-mcg<0.705', decision=7, depth=9)\n        │   │   │       │   │   └── Node('/root/r-alm>0.435/r-mcg>0.675/l-gvh<0.625/l-mit<0.265/l-pox<0.415/r-mit>0.195/l-vac<0.625/l-alm<0.555/r-mcg>0.705', decision=4, depth=9)\n        │   │   │       │   └── Node('/root/r-alm>0.435/r-mcg>0.675/l-gvh<0.625/l-mit<0.265/l-pox<0.415/r-mit>0.195/l-vac<0.625/r-alm>0.555', decision=7, depth=8)\n        │   │   │       └── Node('/root/r-alm>0.435/r-mcg>0.675/l-gvh<0.625/l-mit<0.265/l-pox<0.415/r-mit>0.195/r-vac>0.625', decision=0, depth=7)\n        │   │   └── Node('/root/r-alm>0.435/r-mcg>0.675/l-gvh<0.625/l-mit<0.265/r-pox>0.415', decision=8, depth=5)\n        │   └── Node('/root/r-alm>0.435/r-mcg>0.675/l-gvh<0.625/r-mit>0.265', depth=4, feature='mcg', major=6, numExs=14, split=0.73)\n        │       ├── Node('/root/r-alm>0.435/r-mcg>0.675/l-gvh<0.625/r-mit>0.265/l-mcg<0.730', depth=5, feature='alm', major=6, numExs=10, split=0.495)\n        │       │   ├── Node('/root/r-alm>0.435/r-mcg>0.675/l-gvh<0.625/r-mit>0.265/l-mcg<0.730/l-alm<0.495', depth=6, feature='mit', major=6, numExs=5, split=0.45999999999999996)\n        │       │   │   ├── Node('/root/r-alm>0.435/r-mcg>0.675/l-gvh<0.625/r-mit>0.265/l-mcg<0.730/l-alm<0.495/l-mit<0.460', decision=6, depth=7)\n        │       │   │   └── Node('/root/r-alm>0.435/r-mcg>0.675/l-gvh<0.625/r-mit>0.265/l-mcg<0.730/l-alm<0.495/r-mit>0.460', decision=8, depth=7)\n        │       │   └── Node('/root/r-alm>0.435/r-mcg>0.675/l-gvh<0.625/r-mit>0.265/l-mcg<0.730/r-alm>0.495', depth=6, feature='mit', major=0, numExs=5, split=0.385)\n        │       │       ├── Node('/root/r-alm>0.435/r-mcg>0.675/l-gvh<0.625/r-mit>0.265/l-mcg<0.730/r-alm>0.495/l-mit<0.385', decision=0, depth=7)\n        │       │       └── Node('/root/r-alm>0.435/r-mcg>0.675/l-gvh<0.625/r-mit>0.265/l-mcg<0.730/r-alm>0.495/r-mit>0.385', depth=7, feature='mcg', major=2, numExs=2, split=0.69)\n        │       │           ├── Node('/root/r-alm>0.435/r-mcg>0.675/l-gvh<0.625/r-mit>0.265/l-mcg<0.730/r-alm>0.495/r-mit>0.385/l-mcg<0.690', decision=6, depth=8)\n        │       │           └── Node('/root/r-alm>0.435/r-mcg>0.675/l-gvh<0.625/r-mit>0.265/l-mcg<0.730/r-alm>0.495/r-mit>0.385/r-mcg>0.690', decision=2, depth=8)\n        │       └── Node('/root/r-alm>0.435/r-mcg>0.675/l-gvh<0.625/r-mit>0.265/r-mcg>0.730', depth=5, feature='mcg', major=7, numExs=4, split=0.825)\n        │           ├── Node('/root/r-alm>0.435/r-mcg>0.675/l-gvh<0.625/r-mit>0.265/r-mcg>0.730/l-mcg<0.825', depth=6, feature='mcg', major=4, numExs=2, split=0.76)\n        │           │   ├── Node('/root/r-alm>0.435/r-mcg>0.675/l-gvh<0.625/r-mit>0.265/r-mcg>0.730/l-mcg<0.825/l-mcg<0.760', decision=9, depth=7)\n        │           │   └── Node('/root/r-alm>0.435/r-mcg>0.675/l-gvh<0.625/r-mit>0.265/r-mcg>0.730/l-mcg<0.825/r-mcg>0.760', decision=4, depth=7)\n        │           └── Node('/root/r-alm>0.435/r-mcg>0.675/l-gvh<0.625/r-mit>0.265/r-mcg>0.730/r-mcg>0.825', decision=7, depth=6)\n        └── Node('/root/r-alm>0.435/r-mcg>0.675/r-gvh>0.625', depth=3, feature='erl', major=2, numExs=54, split=0.75)\n            ├── Node('/root/r-alm>0.435/r-mcg>0.675/r-gvh>0.625/l-erl<0.750', depth=4, feature='alm', major=2, numExs=50, split=0.495)\n            │   ├── Node('/root/r-alm>0.435/r-mcg>0.675/r-gvh>0.625/l-erl<0.750/l-alm<0.495', depth=5, feature='mit', major=2, numExs=22, split=0.14)\n            │   │   ├── Node('/root/r-alm>0.435/r-mcg>0.675/r-gvh>0.625/l-erl<0.750/l-alm<0.495/l-mit<0.140', decision=9, depth=6)\n            │   │   └── Node('/root/r-alm>0.435/r-mcg>0.675/r-gvh>0.625/l-erl<0.750/l-alm<0.495/r-mit>0.140', depth=6, feature='alm', major=2, numExs=21, split=0.445)\n            │   │       ├── Node('/root/r-alm>0.435/r-mcg>0.675/r-gvh>0.625/l-erl<0.750/l-alm<0.495/r-mit>0.140/l-alm<0.445', decision=3, depth=7)\n            │   │       └── Node('/root/r-alm>0.435/r-mcg>0.675/r-gvh>0.625/l-erl<0.750/l-alm<0.495/r-mit>0.140/r-alm>0.445', depth=7, feature='mcg', major=2, numExs=18, split=0.835)\n            │   │           ├── Node('/root/r-alm>0.435/r-mcg>0.675/r-gvh>0.625/l-erl<0.750/l-alm<0.495/r-mit>0.140/r-alm>0.445/l-mcg<0.835', depth=8, feature='vac', major=2, numExs=16, split=0.485)\n            │   │           │   ├── Node('/root/r-alm>0.435/r-mcg>0.675/r-gvh>0.625/l-erl<0.750/l-alm<0.495/r-mit>0.140/r-alm>0.445/l-mcg<0.835/l-vac<0.485', decision=2, depth=9)\n            │   │           │   └── Node('/root/r-alm>0.435/r-mcg>0.675/r-gvh>0.625/l-erl<0.750/l-alm<0.495/r-mit>0.140/r-alm>0.445/l-mcg<0.835/r-vac>0.485', depth=9, feature='mcg', major=2, numExs=9, split=0.815)\n            │   │           │       ├── Node('/root/r-alm>0.435/r-mcg>0.675/r-gvh>0.625/l-erl<0.750/l-alm<0.495/r-mit>0.140/r-alm>0.445/l-mcg<0.835/r-vac>0.485/l-mcg<0.815', depth=10, feature='mit', major=2, numExs=8, split=0.405)\n            │   │           │       │   ├── Node('/root/r-alm>0.435/r-mcg>0.675/r-gvh>0.625/l-erl<0.750/l-alm<0.495/r-mit>0.140/r-alm>0.445/l-mcg<0.835/r-vac>0.485/l-mcg<0.815/l-mit<0.405', depth=11, feature='vac', major=2, numExs=7, split=0.495)\n            │   │           │       │   │   ├── Node('/root/r-alm>0.435/r-mcg>0.675/r-gvh>0.625/l-erl<0.750/l-alm<0.495/r-mit>0.140/r-alm>0.445/l-mcg<0.835/r-vac>0.485/l-mcg<0.815/l-mit<0.405/l-vac<0.495', decision=3, depth=12)\n            │   │           │       │   │   └── Node('/root/r-alm>0.435/r-mcg>0.675/r-gvh>0.625/l-erl<0.750/l-alm<0.495/r-mit>0.140/r-alm>0.445/l-mcg<0.835/r-vac>0.485/l-mcg<0.815/l-mit<0.405/r-vac>0.495', depth=12, feature='vac', major=2, numExs=6, split=0.565)\n            │   │           │       │   │       ├── Node('/root/r-alm>0.435/r-mcg>0.675/r-gvh>0.625/l-erl<0.750/l-alm<0.495/r-mit>0.140/r-alm>0.445/l-mcg<0.835/r-vac>0.485/l-mcg<0.815/l-mit<0.405/r-vac>0.495/l-vac<0.565', decision=2, depth=13)\n            │   │           │       │   │       └── Node('/root/r-alm>0.435/r-mcg>0.675/r-gvh>0.625/l-erl<0.750/l-alm<0.495/r-mit>0.140/r-alm>0.445/l-mcg<0.835/r-vac>0.485/l-mcg<0.815/l-mit<0.405/r-vac>0.495/r-vac>0.565', decision=3, depth=13)\n            │   │           │       │   └── Node('/root/r-alm>0.435/r-mcg>0.675/r-gvh>0.625/l-erl<0.750/l-alm<0.495/r-mit>0.140/r-alm>0.445/l-mcg<0.835/r-vac>0.485/l-mcg<0.815/r-mit>0.405', decision=8, depth=11)\n            │   │           │       └── Node('/root/r-alm>0.435/r-mcg>0.675/r-gvh>0.625/l-erl<0.750/l-alm<0.495/r-mit>0.140/r-alm>0.445/l-mcg<0.835/r-vac>0.485/r-mcg>0.815', decision=8, depth=10)\n            │   │           └── Node('/root/r-alm>0.435/r-mcg>0.675/r-gvh>0.625/l-erl<0.750/l-alm<0.495/r-mit>0.140/r-alm>0.445/r-mcg>0.835', decision=3, depth=8)\n            │   └── Node('/root/r-alm>0.435/r-mcg>0.675/r-gvh>0.625/l-erl<0.750/r-alm>0.495', depth=5, feature='vac', major=2, numExs=28, split=0.505)\n            │       ├── Node('/root/r-alm>0.435/r-mcg>0.675/r-gvh>0.625/l-erl<0.750/r-alm>0.495/l-vac<0.505', depth=6, feature='mit', major=2, numExs=15, split=0.375)\n            │       │   ├── Node('/root/r-alm>0.435/r-mcg>0.675/r-gvh>0.625/l-erl<0.750/r-alm>0.495/l-vac<0.505/l-mit<0.375', depth=7, feature='mcg', major=2, numExs=13, split=0.72)\n            │       │   │   ├── Node('/root/r-alm>0.435/r-mcg>0.675/r-gvh>0.625/l-erl<0.750/r-alm>0.495/l-vac<0.505/l-mit<0.375/l-mcg<0.720', depth=8, feature='mcg', major=2, numExs=2, split=0.695)\n            │       │   │   │   ├── Node('/root/r-alm>0.435/r-mcg>0.675/r-gvh>0.625/l-erl<0.750/r-alm>0.495/l-vac<0.505/l-mit<0.375/l-mcg<0.720/l-mcg<0.695', decision=2, depth=9)\n            │       │   │   │   └── Node('/root/r-alm>0.435/r-mcg>0.675/r-gvh>0.625/l-erl<0.750/r-alm>0.495/l-vac<0.505/l-mit<0.375/l-mcg<0.720/r-mcg>0.695', decision=9, depth=9)\n            │       │   │   └── Node('/root/r-alm>0.435/r-mcg>0.675/r-gvh>0.625/l-erl<0.750/r-alm>0.495/l-vac<0.505/l-mit<0.375/r-mcg>0.720', decision=2, depth=8)\n            │       │   └── Node('/root/r-alm>0.435/r-mcg>0.675/r-gvh>0.625/l-erl<0.750/r-alm>0.495/l-vac<0.505/r-mit>0.375', depth=7, feature='mcg', major=4, numExs=2, split=0.745)\n            │       │       ├── Node('/root/r-alm>0.435/r-mcg>0.675/r-gvh>0.625/l-erl<0.750/r-alm>0.495/l-vac<0.505/r-mit>0.375/l-mcg<0.745', decision=4, depth=8)\n            │       │       └── Node('/root/r-alm>0.435/r-mcg>0.675/r-gvh>0.625/l-erl<0.750/r-alm>0.495/l-vac<0.505/r-mit>0.375/r-mcg>0.745', decision=6, depth=8)\n            │       └── Node('/root/r-alm>0.435/r-mcg>0.675/r-gvh>0.625/l-erl<0.750/r-alm>0.495/r-vac>0.505', depth=6, feature='mit', major=4, numExs=13, split=0.315)\n            │           ├── Node('/root/r-alm>0.435/r-mcg>0.675/r-gvh>0.625/l-erl<0.750/r-alm>0.495/r-vac>0.505/l-mit<0.315', depth=7, feature='mit', major=9, numExs=7, split=0.245)\n            │           │   ├── Node('/root/r-alm>0.435/r-mcg>0.675/r-gvh>0.625/l-erl<0.750/r-alm>0.495/r-vac>0.505/l-mit<0.315/l-mit<0.245', depth=8, feature='mcg', major=0, numExs=3, split=0.8500000000000001)\n            │           │   │   ├── Node('/root/r-alm>0.435/r-mcg>0.675/r-gvh>0.625/l-erl<0.750/r-alm>0.495/r-vac>0.505/l-mit<0.315/l-mit<0.245/l-mcg<0.850', depth=9, feature='gvh', major=0, numExs=2, split=0.725)\n            │           │   │   │   ├── Node('/root/r-alm>0.435/r-mcg>0.675/r-gvh>0.625/l-erl<0.750/r-alm>0.495/r-vac>0.505/l-mit<0.315/l-mit<0.245/l-mcg<0.850/l-gvh<0.725', decision=4, depth=10)\n            │           │   │   │   └── Node('/root/r-alm>0.435/r-mcg>0.675/r-gvh>0.625/l-erl<0.750/r-alm>0.495/r-vac>0.505/l-mit<0.315/l-mit<0.245/l-mcg<0.850/r-gvh>0.725', decision=0, depth=10)\n            │           │   │   └── Node('/root/r-alm>0.435/r-mcg>0.675/r-gvh>0.625/l-erl<0.750/r-alm>0.495/r-vac>0.505/l-mit<0.315/l-mit<0.245/r-mcg>0.850', decision=3, depth=9)\n            │           │   └── Node('/root/r-alm>0.435/r-mcg>0.675/r-gvh>0.625/l-erl<0.750/r-alm>0.495/r-vac>0.505/l-mit<0.315/r-mit>0.245', depth=8, feature='vac', major=9, numExs=4, split=0.53)\n            │           │       ├── Node('/root/r-alm>0.435/r-mcg>0.675/r-gvh>0.625/l-erl<0.750/r-alm>0.495/r-vac>0.505/l-mit<0.315/r-mit>0.245/l-vac<0.530', decision=6, depth=9)\n            │           │       └── Node('/root/r-alm>0.435/r-mcg>0.675/r-gvh>0.625/l-erl<0.750/r-alm>0.495/r-vac>0.505/l-mit<0.315/r-mit>0.245/r-vac>0.530', decision=9, depth=9)\n            │           └── Node('/root/r-alm>0.435/r-mcg>0.675/r-gvh>0.625/l-erl<0.750/r-alm>0.495/r-vac>0.505/r-mit>0.315', depth=7, feature='gvh', major=4, numExs=6, split=0.6699999999999999)\n            │               ├── Node('/root/r-alm>0.435/r-mcg>0.675/r-gvh>0.625/l-erl<0.750/r-alm>0.495/r-vac>0.505/r-mit>0.315/l-gvh<0.670', decision=6, depth=8)\n            │               └── Node('/root/r-alm>0.435/r-mcg>0.675/r-gvh>0.625/l-erl<0.750/r-alm>0.495/r-vac>0.505/r-mit>0.315/r-gvh>0.670', decision=4, depth=8)\n            └── Node('/root/r-alm>0.435/r-mcg>0.675/r-gvh>0.625/r-erl>0.750', decision=1, depth=4)\n"
     ]
    }
   ],
   "source": [
    "print(RenderTree(t2))"
   ]
  },
  {
   "cell_type": "code",
   "execution_count": 252,
   "metadata": {},
   "outputs": [
    {
     "output_type": "execute_result",
     "data": {
      "text/plain": [
       "False"
      ]
     },
     "metadata": {},
     "execution_count": 252
    }
   ],
   "source": [
    "root.is_leaf"
   ]
  },
  {
   "cell_type": "code",
   "execution_count": 253,
   "metadata": {},
   "outputs": [],
   "source": [
    "def predict(cur_node: Node, example, max_depth=math.inf, \\\n",
    "    min_num_examples=0) -> int:\n",
    "    \"\"\"\n",
    "    Given a tree with cur_node as its root, an example, and optionally a max depth,\n",
    "    returns a prediction for the example based on the tree.\n",
    "\n",
    "    If max_depth is provided and we haven't reached a leaf node at the max depth, \n",
    "    return the majority decision at this node.\n",
    "\n",
    "    If min_num_examples is provided and the number of examples at the node is less than min_num_examples, \n",
    "    return the majority decision at this node.\n",
    "    \n",
    "    This function is recursive.\n",
    "\n",
    "    Tie breaking rule:\n",
    "    If there is a tie for majority voting, always return the label with the smallest value.\n",
    "\n",
    "    :param cur_node: cur_node of a decision tree\n",
    "    :type cur_node: Node\n",
    "    :param example: one example\n",
    "    :type example: List[Any]\n",
    "    :param max_depth: the max depth\n",
    "    :type max_depth: int, default math.inf\n",
    "    :param min_num_examples: the minimum number of examples at a node\n",
    "    :type min_num_examples: int, default 0\n",
    "    :return: the decision for the given example\n",
    "    :rtype: int\n",
    "    \"\"\" \n",
    "    if cur_node.is_leaf:\n",
    "        return cur_node.decision\n",
    "    elif max_depth <= 0 or cur_node.numExs < min_num_examples:\n",
    "        return cur_node.major\n",
    "    \n",
    "    indFea = G.feature_names.index(cur_node.feature)\n",
    "    # if indFea >= len(example):\n",
    "    #     print(cur_node.feature, indFea, example)\n",
    "    nextNode = cur_node.children[0] if example[indFea] <= cur_node.split else cur_node.children[1]\n",
    "    return predict(nextNode, example, max_depth - 1, min_num_examples)"
   ]
  },
  {
   "cell_type": "code",
   "execution_count": 254,
   "metadata": {},
   "outputs": [
    {
     "output_type": "execute_result",
     "data": {
      "text/plain": [
       "7"
      ]
     },
     "metadata": {},
     "execution_count": 254
    }
   ],
   "source": [
    "predict(full, data[22])"
   ]
  },
  {
   "cell_type": "code",
   "execution_count": 255,
   "metadata": {},
   "outputs": [
    {
     "output_type": "execute_result",
     "data": {
      "text/plain": [
       "0"
      ]
     },
     "metadata": {},
     "execution_count": 255
    }
   ],
   "source": [
    "predict(full, data[22][:-1], 1)"
   ]
  },
  {
   "cell_type": "code",
   "execution_count": 256,
   "metadata": {},
   "outputs": [
    {
     "output_type": "execute_result",
     "data": {
      "text/plain": [
       "7"
      ]
     },
     "metadata": {},
     "execution_count": 256
    }
   ],
   "source": [
    "predict(full, data[22], min_num_examples=2)"
   ]
  },
  {
   "cell_type": "code",
   "execution_count": 257,
   "metadata": {},
   "outputs": [
    {
     "output_type": "execute_result",
     "data": {
      "text/plain": [
       "7"
      ]
     },
     "metadata": {},
     "execution_count": 257
    }
   ],
   "source": [
    "predict(full, data[22], min_num_examples=100)"
   ]
  },
  {
   "cell_type": "code",
   "execution_count": 258,
   "metadata": {},
   "outputs": [
    {
     "output_type": "execute_result",
     "data": {
      "text/plain": [
       "0"
      ]
     },
     "metadata": {},
     "execution_count": 258
    }
   ],
   "source": [
    "predict(full, data[22], min_num_examples=300)"
   ]
  },
  {
   "cell_type": "code",
   "execution_count": 259,
   "metadata": {},
   "outputs": [
    {
     "output_type": "stream",
     "name": "stdout",
     "text": [
      "Node('/root', depth=0, feature='alm', major=0, numExs=1484, split=0.435)\n├── Node('/root/l-alm<0.435', depth=1, feature='mcg', major=5, numExs=292, split=0.665)\n│   ├── Node('/root/l-alm<0.435/l-mcg<0.665', depth=2, feature='alm', major=5, numExs=210, split=0.385)\n│   │   ├── Node('/root/l-alm<0.435/l-mcg<0.665/l-alm<0.385', decision=5, depth=3)\n│   │   └── Node('/root/l-alm<0.435/l-mcg<0.665/r-alm>0.385', decision=5, depth=3)\n│   └── Node('/root/l-alm<0.435/r-mcg>0.665', depth=2, feature='gvh', major=3, numExs=82, split=0.625)\n│       ├── Node('/root/l-alm<0.435/r-mcg>0.665/l-gvh<0.625', decision=4, depth=3)\n│       └── Node('/root/l-alm<0.435/r-mcg>0.665/r-gvh>0.625', decision=3, depth=3)\n└── Node('/root/r-alm>0.435', depth=1, feature='mcg', major=0, numExs=1192, split=0.675)\n    ├── Node('/root/r-alm>0.435/l-mcg<0.675', depth=2, feature='mit', major=0, numExs=1105, split=0.375)\n    │   ├── Node('/root/r-alm>0.435/l-mcg<0.675/l-mit<0.375', decision=0, depth=3)\n    │   └── Node('/root/r-alm>0.435/l-mcg<0.675/r-mit>0.375', decision=6, depth=3)\n    └── Node('/root/r-alm>0.435/r-mcg>0.675', depth=2, feature='gvh', major=2, numExs=87, split=0.625)\n        ├── Node('/root/r-alm>0.435/r-mcg>0.675/l-gvh<0.625', decision=0, depth=3)\n        └── Node('/root/r-alm>0.435/r-mcg>0.675/r-gvh>0.625', decision=2, depth=3)\n"
     ]
    }
   ],
   "source": [
    "t3 = learn_dt(data, G.feature_names[:-1], 3)\n",
    "print(RenderTree(t3))"
   ]
  },
  {
   "cell_type": "code",
   "execution_count": 260,
   "metadata": {},
   "outputs": [],
   "source": [
    "def get_prediction_accuracy(cur_node: Node, examples: List, max_depth=math.inf, \\\n",
    "    min_num_examples=0) -> float:\n",
    "    \"\"\"\n",
    "    Given a tree with cur_node as the root, some examples, \n",
    "    and optionally the max depth or the min_num_examples, \n",
    "    returns the accuracy by predicting the examples using the tree.\n",
    "\n",
    "    The tree may be pruned by max_depth or min_num_examples.\n",
    "\n",
    "    :param cur_node: cur_node of the decision tree\n",
    "    :type cur_node: Node\n",
    "    :param examples: the set of examples. \n",
    "    :type examples: List[List[Any]]\n",
    "    :param max_depth: the max depth\n",
    "    :type max_depth: int, default math.inf\n",
    "    :param min_num_examples: the minimum number of examples at a node\n",
    "    :type min_num_examples: int, default 0\n",
    "    :return: the prediction accuracy for the examples based on the cur_node\n",
    "    :rtype: float\n",
    "    \"\"\" \n",
    "    accNum = 0\n",
    "    for row in examples:\n",
    "        if predict(cur_node, row[:-1], max_depth, min_num_examples) == row[-1]:\n",
    "            accNum += 1\n",
    "\n",
    "    return accNum / len(examples)"
   ]
  },
  {
   "cell_type": "code",
   "execution_count": 261,
   "metadata": {
    "tags": []
   },
   "outputs": [
    {
     "output_type": "execute_result",
     "data": {
      "text/plain": [
       "1.0"
      ]
     },
     "metadata": {},
     "execution_count": 261
    }
   ],
   "source": [
    "get_prediction_accuracy(full, data)"
   ]
  },
  {
   "cell_type": "code",
   "execution_count": 262,
   "metadata": {},
   "outputs": [
    {
     "output_type": "execute_result",
     "data": {
      "text/plain": [
       "['mcg', 'gvh', 'alm', 'mit', 'erl', 'pox', 'vac', 'nuc', 'class']"
      ]
     },
     "metadata": {},
     "execution_count": 262
    }
   ],
   "source": [
    "G.feature_names"
   ]
  },
  {
   "cell_type": "code",
   "execution_count": 263,
   "metadata": {},
   "outputs": [
    {
     "output_type": "execute_result",
     "data": {
      "text/plain": [
       "0.6145552560646901"
      ]
     },
     "metadata": {},
     "execution_count": 263
    }
   ],
   "source": [
    "get_prediction_accuracy(dumb, data)"
   ]
  },
  {
   "cell_type": "code",
   "execution_count": 264,
   "metadata": {},
   "outputs": [
    {
     "output_type": "execute_result",
     "data": {
      "text/plain": [
       "True"
      ]
     },
     "metadata": {},
     "execution_count": 264
    }
   ],
   "source": [
    "get_prediction_accuracy(full, data, max_depth=5) == get_prediction_accuracy(dumb, data)"
   ]
  },
  {
   "cell_type": "code",
   "execution_count": 265,
   "metadata": {},
   "outputs": [
    {
     "output_type": "execute_result",
     "data": {
      "text/plain": [
       "0.8079514824797843"
      ]
     },
     "metadata": {},
     "execution_count": 265
    }
   ],
   "source": [
    "get_prediction_accuracy(full, data, max_depth=10)"
   ]
  },
  {
   "cell_type": "code",
   "execution_count": 266,
   "metadata": {},
   "outputs": [],
   "source": [
    "examples = data"
   ]
  },
  {
   "cell_type": "code",
   "execution_count": 267,
   "metadata": {},
   "outputs": [],
   "source": [
    "def test_ent(indFea, midWay):\n",
    "    countL, countR = defaultdict(lambda: 0), defaultdict(lambda: 0)\n",
    "    for i in range(len(examples)):\n",
    "        if examples[i][indFea] <= midWay:\n",
    "            countL[examples[i][G.label_index]] += 1\n",
    "        else:\n",
    "            countR[examples[i][G.label_index]] += 1\n",
    "    sumL, sumR = sum(countL.values()), sum(countR.values())\n",
    "    pLeft = sum(countL.values()) / len(examples)\n",
    "    pListL = [num / sumL for num in countL.values()]\n",
    "    pListR = [num / sumR for num in countR.values()]\n",
    "    pListT = [(countL[key] + countR[key]) / (sumL + sumR) for key in set(countL.keys()).union(countR.keys())]\n",
    "    print(pListT, sum(pListT))\n",
    "    print(pListL, sum(pListL))\n",
    "    print(pListR, sum(pListR))\n",
    "\n",
    "    print()\n",
    "    print(sum(list(map(lambda p: p * log2(p), pListT))),\n",
    "                    sum(list(map(lambda p: p * log2(p), pListL))) * pLeft,\n",
    "                    sum(list(map(lambda p: p * log2(p), pListR))) * (1 - pLeft), 6)\n",
    "    \n",
    "    return round(sum(list(map(lambda p: p * log2(p), pListT))) -\n",
    "                    sum(list(map(lambda p: p * log2(p), pListL))) * pLeft - \n",
    "                    sum(list(map(lambda p: p * log2(p), pListR))) * (1 - pLeft), 6)"
   ]
  },
  {
   "cell_type": "code",
   "execution_count": 268,
   "metadata": {},
   "outputs": [
    {
     "output_type": "stream",
     "name": "stdout",
     "text": [
      "[0.3119946091644205, 0.0033692722371967657, 0.02358490566037736, 0.029649595687331536, 0.03436657681940701, 0.10983827493261455, 0.16442048517520216, 0.2890835579514825, 0.013477088948787063, 0.02021563342318059] 1.0\n[0.3115306810519218, 0.16453135536075522, 0.28927848954821306, 0.013486176668914362, 0.10991233985165205, 0.020229265003371546, 0.023600809170600135, 0.029669588671611596, 0.03438975050573163, 0.0033715441672285905] 1.0\n[1.0] 1.0\n\n-2.4904176362327273 -2.4892845635172383 0.0 6\n"
     ]
    },
    {
     "output_type": "execute_result",
     "data": {
      "text/plain": [
       "-0.001133"
      ]
     },
     "metadata": {},
     "execution_count": 268
    }
   ],
   "source": [
    "test_ent(3, 0.935)"
   ]
  },
  {
   "cell_type": "code",
   "execution_count": 269,
   "metadata": {},
   "outputs": [
    {
     "output_type": "stream",
     "name": "stdout",
     "text": [
      "[0.3119946091644205, 0.0033692722371967657, 0.02358490566037736, 0.029649595687331536, 0.03436657681940701, 0.10983827493261455, 0.16442048517520216, 0.2890835579514825, 0.013477088948787063, 0.02021563342318059] 1.0\n[0.5136986301369864, 0.017123287671232876, 0.1232876712328767, 0.11643835616438356, 0.030821917808219176, 0.030821917808219176, 0.08561643835616438, 0.07534246575342465, 0.003424657534246575, 0.003424657534246575] 1.0\n[0.3808724832214765, 0.1837248322147651, 0.3414429530201342, 0.015939597315436243, 0.01761744966442953, 0.006711409395973154, 0.025167785234899327, 0.014261744966442953, 0.010906040268456376, 0.003355704697986577] 1.0\n\n-2.4904176362327273 -0.44820939360469064 -1.666666251598837 6\n"
     ]
    },
    {
     "output_type": "execute_result",
     "data": {
      "text/plain": [
       "-0.375542"
      ]
     },
     "metadata": {},
     "execution_count": 269
    }
   ],
   "source": [
    "test_ent(2, 0.435)"
   ]
  },
  {
   "cell_type": "code",
   "execution_count": 270,
   "metadata": {},
   "outputs": [
    {
     "output_type": "execute_result",
     "data": {
      "text/plain": [
       "('alm', 0.435)"
      ]
     },
     "metadata": {},
     "execution_count": 270
    }
   ],
   "source": [
    "choose_feature_split(data, G.feature_names[:-1])"
   ]
  },
  {
   "cell_type": "code",
   "execution_count": null,
   "metadata": {},
   "outputs": [],
   "source": []
  },
  {
   "cell_type": "code",
   "execution_count": 271,
   "metadata": {},
   "outputs": [
    {
     "output_type": "execute_result",
     "data": {
      "text/plain": [
       "{1, 2, 3}"
      ]
     },
     "metadata": {},
     "execution_count": 271
    }
   ],
   "source": [
    "set([1,3]).union(set([1,2]))"
   ]
  },
  {
   "cell_type": "code",
   "execution_count": 272,
   "metadata": {},
   "outputs": [
    {
     "output_type": "execute_result",
     "data": {
      "text/plain": [
       "0"
      ]
     },
     "metadata": {},
     "execution_count": 272
    }
   ],
   "source": [
    "b = defaultdict(lambda: 0)\n",
    "b[1]"
   ]
  },
  {
   "cell_type": "code",
   "execution_count": 273,
   "metadata": {},
   "outputs": [
    {
     "output_type": "execute_result",
     "data": {
      "text/plain": [
       "{1, 2}"
      ]
     },
     "metadata": {},
     "execution_count": 273
    }
   ],
   "source": [
    "c = {1:2}\n",
    "d = {1:3, 2:5}\n",
    "set(c.keys()).union(d.keys())"
   ]
  },
  {
   "cell_type": "code",
   "execution_count": 274,
   "metadata": {},
   "outputs": [],
   "source": [
    "full2 = Node(\"root\", depth=0)\n",
    "split_node(full2, data, G.feature_names[:-1])"
   ]
  },
  {
   "cell_type": "code",
   "execution_count": 285,
   "metadata": {},
   "outputs": [],
   "source": [
    "def get_depth(cur):\n",
    "    if cur.is_leaf:\n",
    "        return cur.depth\n",
    "    else:\n",
    "        return max(get_depth(cur.children[0]), get_depth(cur.children[1]))"
   ]
  },
  {
   "cell_type": "code",
   "execution_count": 286,
   "metadata": {
    "tags": []
   },
   "outputs": [
    {
     "output_type": "execute_result",
     "data": {
      "text/plain": [
       "20"
      ]
     },
     "metadata": {},
     "execution_count": 286
    }
   ],
   "source": [
    "get_depth(full)"
   ]
  },
  {
   "cell_type": "code",
   "execution_count": null,
   "metadata": {},
   "outputs": [],
   "source": []
  }
 ]
}