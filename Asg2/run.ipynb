{
 "metadata": {
  "language_info": {
   "codemirror_mode": {
    "name": "ipython",
    "version": 3
   },
   "file_extension": ".py",
   "mimetype": "text/x-python",
   "name": "python",
   "nbconvert_exporter": "python",
   "pygments_lexer": "ipython3",
   "version": "3.9.1"
  },
  "orig_nbformat": 4,
  "kernelspec": {
   "name": "python3",
   "display_name": "Python 3.9.1 64-bit ('Python39')"
  },
  "interpreter": {
   "hash": "574a1c2819c3ec06533f0418f786b330108676da94dc52c093b2cc730183afb0"
  }
 },
 "nbformat": 4,
 "nbformat_minor": 2,
 "cells": [
  {
   "cell_type": "code",
   "execution_count": 1,
   "metadata": {},
   "outputs": [],
   "source": [
    "import csv\n",
    "import math\n",
    "import numpy as np  # numpy==1.19.2\n",
    "\n",
    "import dt_global"
   ]
  },
  {
   "cell_type": "code",
   "execution_count": 2,
   "metadata": {},
   "outputs": [],
   "source": [
    "import math\n",
    "from typing import List\n",
    "from anytree import Node\n",
    "\n",
    "import dt_global as G\n",
    "\n",
    "from math import *\n",
    "from collections import defaultdict"
   ]
  },
  {
   "cell_type": "code",
   "execution_count": 3,
   "metadata": {},
   "outputs": [],
   "source": [
    "from anytree import RenderTree"
   ]
  },
  {
   "cell_type": "code",
   "execution_count": 4,
   "metadata": {},
   "outputs": [],
   "source": [
    "from dt_provided import *\n",
    "from dt_core import *\n",
    "from dt_cv import *"
   ]
  },
  {
   "cell_type": "code",
   "execution_count": 5,
   "metadata": {},
   "outputs": [],
   "source": [
    "data = read_data(\"./data.csv\")"
   ]
  },
  {
   "cell_type": "code",
   "execution_count": 6,
   "metadata": {},
   "outputs": [],
   "source": [
    "full = Node(\"root\", depth=0)\n",
    "split_node(full, data, G.feature_names[:-1])"
   ]
  },
  {
   "cell_type": "code",
   "execution_count": 7,
   "metadata": {
    "tags": [
     "outputPrepend"
    ]
   },
   "outputs": [
    {
     "output_type": "stream",
     "name": "stdout",
     "text": [
      "ecision=7, depth=9)\n    │           │       └── Node('/root/ alm>0.435 / mcg<0.675 / mit>0.375 / gvh>0.505 / mcg<0.615 / mcg>0.360 / mit>0.415 ', depth=7, feature='mit', major=6, numExs=73, split=0.84)\n    │           │           ├── Node('/root/ alm>0.435 / mcg<0.675 / mit>0.375 / gvh>0.505 / mcg<0.615 / mcg>0.360 / mit>0.415 / mit<0.840 ', depth=8, feature='erl', major=6, numExs=72, split=0.75)\n    │           │           │   ├── Node('/root/ alm>0.435 / mcg<0.675 / mit>0.375 / gvh>0.505 / mcg<0.615 / mcg>0.360 / mit>0.415 / mit<0.840 / erl<0.750 ', depth=9, feature='vac', major=6, numExs=71, split=0.525)\n    │           │           │   │   ├── Node('/root/ alm>0.435 / mcg<0.675 / mit>0.375 / gvh>0.505 / mcg<0.615 / mcg>0.360 / mit>0.415 / mit<0.840 / erl<0.750 / vac<0.525 ', decision=6, depth=10)\n    │           │           │   │   └── Node('/root/ alm>0.435 / mcg<0.675 / mit>0.375 / gvh>0.505 / mcg<0.615 / mcg>0.360 / mit>0.415 / mit<0.840 / erl<0.750 / vac>0.525 ', depth=10, feature='vac', major=6, numExs=28, split=0.535)\n    │           │           │   │       ├── Node('/root/ alm>0.435 / mcg<0.675 / mit>0.375 / gvh>0.505 / mcg<0.615 / mcg>0.360 / mit>0.415 / mit<0.840 / erl<0.750 / vac>0.525 / vac<0.535 ', depth=11, feature='mcg', major=6, numExs=14, split=0.605)\n    │           │           │   │       │   ├── Node('/root/ alm>0.435 / mcg<0.675 / mit>0.375 / gvh>0.505 / mcg<0.615 / mcg>0.360 / mit>0.415 / mit<0.840 / erl<0.750 / vac>0.525 / vac<0.535 / mcg<0.605 ', depth=12, feature='mcg', major=6, numExs=13, split=0.44)\n    │           │           │   │       │   │   ├── Node('/root/ alm>0.435 / mcg<0.675 / mit>0.375 / gvh>0.505 / mcg<0.615 / mcg>0.360 / mit>0.415 / mit<0.840 / erl<0.750 / vac>0.525 / vac<0.535 / mcg<0.605 / mcg<0.440 ', depth=13, feature='mcg', major=0, numExs=2, split=0.405)\n    │           │           │   │       │   │   │   ├── Node('/root/ alm>0.435 / mcg<0.675 / mit>0.375 / gvh>0.505 / mcg<0.615 / mcg>0.360 / mit>0.415 / mit<0.840 / erl<0.750 / vac>0.525 / vac<0.535 / mcg<0.605 / mcg<0.440 / mcg<0.405 ', decision=6, depth=14)\n    │           │           │   │       │   │   │   └── Node('/root/ alm>0.435 / mcg<0.675 / mit>0.375 / gvh>0.505 / mcg<0.615 / mcg>0.360 / mit>0.415 / mit<0.840 / erl<0.750 / vac>0.525 / vac<0.535 / mcg<0.605 / mcg<0.440 / mcg>0.405 ', decision=0, depth=14)\n    │           │           │   │       │   │   └── Node('/root/ alm>0.435 / mcg<0.675 / mit>0.375 / gvh>0.505 / mcg<0.615 / mcg>0.360 / mit>0.415 / mit<0.840 / erl<0.750 / vac>0.525 / vac<0.535 / mcg<0.605 / mcg>0.440 ', depth=13, feature='gvh', major=6, numExs=11, split=0.55)\n    │           │           │   │       │   │       ├── Node('/root/ alm>0.435 / mcg<0.675 / mit>0.375 / gvh>0.505 / mcg<0.615 / mcg>0.360 / mit>0.415 / mit<0.840 / erl<0.750 / vac>0.525 / vac<0.535 / mcg<0.605 / mcg>0.440 / gvh<0.550 ', depth=14, feature='nuc', major=6, numExs=4, split=0.28500000000000003)\n    │           │           │   │       │   │       │   ├── Node('/root/ alm>0.435 / mcg<0.675 / mit>0.375 / gvh>0.505 / mcg<0.615 / mcg>0.360 / mit>0.415 / mit<0.840 / erl<0.750 / vac>0.525 / vac<0.535 / mcg<0.605 / mcg>0.440 / gvh<0.550 / nuc<0.285 ', decision=6, depth=15)\n    │           │           │   │       │   │       │   └── Node('/root/ alm>0.435 / mcg<0.675 / mit>0.375 / gvh>0.505 / mcg<0.615 / mcg>0.360 / mit>0.415 / mit<0.840 / erl<0.750 / vac>0.525 / vac<0.535 / mcg<0.605 / mcg>0.440 / gvh<0.550 / nuc>0.285 ', decision=7, depth=15)\n    │           │           │   │       │   │       └── Node('/root/ alm>0.435 / mcg<0.675 / mit>0.375 / gvh>0.505 / mcg<0.615 / mcg>0.360 / mit>0.415 / mit<0.840 / erl<0.750 / vac>0.525 / vac<0.535 / mcg<0.605 / mcg>0.440 / gvh>0.550 ', decision=6, depth=14)\n    │           │           │   │       │   └── Node('/root/ alm>0.435 / mcg<0.675 / mit>0.375 / gvh>0.505 / mcg<0.615 / mcg>0.360 / mit>0.415 / mit<0.840 / erl<0.750 / vac>0.525 / vac<0.535 / mcg>0.605 ', decision=0, depth=12)\n    │           │           │   │       └── Node('/root/ alm>0.435 / mcg<0.675 / mit>0.375 / gvh>0.505 / mcg<0.615 / mcg>0.360 / mit>0.415 / mit<0.840 / erl<0.750 / vac>0.525 / vac>0.535 ', decision=6, depth=11)\n    │           │           │   └── Node('/root/ alm>0.435 / mcg<0.675 / mit>0.375 / gvh>0.505 / mcg<0.615 / mcg>0.360 / mit>0.415 / mit<0.840 / erl>0.750 ', decision=0, depth=9)\n    │           │           └── Node('/root/ alm>0.435 / mcg<0.675 / mit>0.375 / gvh>0.505 / mcg<0.615 / mcg>0.360 / mit>0.415 / mit>0.840 ', decision=7, depth=8)\n    │           └── Node('/root/ alm>0.435 / mcg<0.675 / mit>0.375 / gvh>0.505 / mcg>0.615 ', depth=5, feature='gvh', major=6, numExs=13, split=0.635)\n    │               ├── Node('/root/ alm>0.435 / mcg<0.675 / mit>0.375 / gvh>0.505 / mcg>0.615 / gvh<0.635 ', depth=6, feature='gvh', major=6, numExs=10, split=0.515)\n    │               │   ├── Node('/root/ alm>0.435 / mcg<0.675 / mit>0.375 / gvh>0.505 / mcg>0.615 / gvh<0.635 / gvh<0.515 ', decision=7, depth=7)\n    │               │   └── Node('/root/ alm>0.435 / mcg<0.675 / mit>0.375 / gvh>0.505 / mcg>0.615 / gvh<0.635 / gvh>0.515 ', depth=7, feature='vac', major=6, numExs=9, split=0.54)\n    │               │       ├── Node('/root/ alm>0.435 / mcg<0.675 / mit>0.375 / gvh>0.505 / mcg>0.615 / gvh<0.635 / gvh>0.515 / vac<0.540 ', decision=6, depth=8)\n    │               │       └── Node('/root/ alm>0.435 / mcg<0.675 / mit>0.375 / gvh>0.505 / mcg>0.615 / gvh<0.635 / gvh>0.515 / vac>0.540 ', depth=8, feature='mcg', major=6, numExs=2, split=0.645)\n    │               │           ├── Node('/root/ alm>0.435 / mcg<0.675 / mit>0.375 / gvh>0.505 / mcg>0.615 / gvh<0.635 / gvh>0.515 / vac>0.540 / mcg<0.645 ', decision=9, depth=9)\n    │               │           └── Node('/root/ alm>0.435 / mcg<0.675 / mit>0.375 / gvh>0.505 / mcg>0.615 / gvh<0.635 / gvh>0.515 / vac>0.540 / mcg>0.645 ', decision=6, depth=9)\n    │               └── Node('/root/ alm>0.435 / mcg<0.675 / mit>0.375 / gvh>0.505 / mcg>0.615 / gvh>0.635 ', depth=6, feature='mcg', major=2, numExs=3, split=0.645)\n    │                   ├── Node('/root/ alm>0.435 / mcg<0.675 / mit>0.375 / gvh>0.505 / mcg>0.615 / gvh>0.635 / mcg<0.645 ', decision=4, depth=7)\n    │                   └── Node('/root/ alm>0.435 / mcg<0.675 / mit>0.375 / gvh>0.505 / mcg>0.615 / gvh>0.635 / mcg>0.645 ', depth=7, feature='mcg', major=2, numExs=2, split=0.665)\n    │                       ├── Node('/root/ alm>0.435 / mcg<0.675 / mit>0.375 / gvh>0.505 / mcg>0.615 / gvh>0.635 / mcg>0.645 / mcg<0.665 ', decision=2, depth=8)\n    │                       └── Node('/root/ alm>0.435 / mcg<0.675 / mit>0.375 / gvh>0.505 / mcg>0.615 / gvh>0.635 / mcg>0.645 / mcg>0.665 ', decision=7, depth=8)\n    └── Node('/root/ alm>0.435 / mcg>0.675 ', depth=2, feature='gvh', major=2, numExs=87, split=0.625)\n        ├── Node('/root/ alm>0.435 / mcg>0.675 / gvh<0.625 ', depth=3, feature='mit', major=0, numExs=33, split=0.265)\n        │   ├── Node('/root/ alm>0.435 / mcg>0.675 / gvh<0.625 / mit<0.265 ', depth=4, feature='pox', major=0, numExs=19, split=0.415)\n        │   │   ├── Node('/root/ alm>0.435 / mcg>0.675 / gvh<0.625 / mit<0.265 / pox<0.415 ', depth=5, feature='mit', major=0, numExs=17, split=0.195)\n        │   │   │   ├── Node('/root/ alm>0.435 / mcg>0.675 / gvh<0.625 / mit<0.265 / pox<0.415 / mit<0.195 ', depth=6, feature='mcg', major=0, numExs=10, split=0.73)\n        │   │   │   │   ├── Node('/root/ alm>0.435 / mcg>0.675 / gvh<0.625 / mit<0.265 / pox<0.415 / mit<0.195 / mcg<0.730 ', depth=7, feature='mit', major=0, numExs=6, split=0.1)\n        │   │   │   │   │   ├── Node('/root/ alm>0.435 / mcg>0.675 / gvh<0.625 / mit<0.265 / pox<0.415 / mit<0.195 / mcg<0.730 / mit<0.100 ', decision=7, depth=8)\n        │   │   │   │   │   └── Node('/root/ alm>0.435 / mcg>0.675 / gvh<0.625 / mit<0.265 / pox<0.415 / mit<0.195 / mcg<0.730 / mit>0.100 ', depth=8, feature='mcg', major=0, numExs=4, split=0.685)\n        │   │   │   │   │       ├── Node('/root/ alm>0.435 / mcg>0.675 / gvh<0.625 / mit<0.265 / pox<0.415 / mit<0.195 / mcg<0.730 / mit>0.100 / mcg<0.685 ', decision=7, depth=9)\n        │   │   │   │   │       └── Node('/root/ alm>0.435 / mcg>0.675 / gvh<0.625 / mit<0.265 / pox<0.415 / mit<0.195 / mcg<0.730 / mit>0.100 / mcg>0.685 ', decision=0, depth=9)\n        │   │   │   │   └── Node('/root/ alm>0.435 / mcg>0.675 / gvh<0.625 / mit<0.265 / pox<0.415 / mit<0.195 / mcg>0.730 ', decision=0, depth=7)\n        │   │   │   └── Node('/root/ alm>0.435 / mcg>0.675 / gvh<0.625 / mit<0.265 / pox<0.415 / mit>0.195 ', depth=6, feature='vac', major=7, numExs=7, split=0.625)\n        │   │   │       ├── Node('/root/ alm>0.435 / mcg>0.675 / gvh<0.625 / mit<0.265 / pox<0.415 / mit>0.195 / vac<0.625 ', depth=7, feature='alm', major=7, numExs=5, split=0.5549999999999999)\n        │   │   │       │   ├── Node('/root/ alm>0.435 / mcg>0.675 / gvh<0.625 / mit<0.265 / pox<0.415 / mit>0.195 / vac<0.625 / alm<0.555 ', depth=8, feature='mcg', major=4, numExs=3, split=0.705)\n        │   │   │       │   │   ├── Node('/root/ alm>0.435 / mcg>0.675 / gvh<0.625 / mit<0.265 / pox<0.415 / mit>0.195 / vac<0.625 / alm<0.555 / mcg<0.705 ', decision=7, depth=9)\n        │   │   │       │   │   └── Node('/root/ alm>0.435 / mcg>0.675 / gvh<0.625 / mit<0.265 / pox<0.415 / mit>0.195 / vac<0.625 / alm<0.555 / mcg>0.705 ', decision=4, depth=9)\n        │   │   │       │   └── Node('/root/ alm>0.435 / mcg>0.675 / gvh<0.625 / mit<0.265 / pox<0.415 / mit>0.195 / vac<0.625 / alm>0.555 ', decision=7, depth=8)\n        │   │   │       └── Node('/root/ alm>0.435 / mcg>0.675 / gvh<0.625 / mit<0.265 / pox<0.415 / mit>0.195 / vac>0.625 ', decision=0, depth=7)\n        │   │   └── Node('/root/ alm>0.435 / mcg>0.675 / gvh<0.625 / mit<0.265 / pox>0.415 ', decision=8, depth=5)\n        │   └── Node('/root/ alm>0.435 / mcg>0.675 / gvh<0.625 / mit>0.265 ', depth=4, feature='mcg', major=6, numExs=14, split=0.73)\n        │       ├── Node('/root/ alm>0.435 / mcg>0.675 / gvh<0.625 / mit>0.265 / mcg<0.730 ', depth=5, feature='alm', major=6, numExs=10, split=0.495)\n        │       │   ├── Node('/root/ alm>0.435 / mcg>0.675 / gvh<0.625 / mit>0.265 / mcg<0.730 / alm<0.495 ', depth=6, feature='mit', major=6, numExs=5, split=0.45999999999999996)\n        │       │   │   ├── Node('/root/ alm>0.435 / mcg>0.675 / gvh<0.625 / mit>0.265 / mcg<0.730 / alm<0.495 / mit<0.460 ', decision=6, depth=7)\n        │       │   │   └── Node('/root/ alm>0.435 / mcg>0.675 / gvh<0.625 / mit>0.265 / mcg<0.730 / alm<0.495 / mit>0.460 ', decision=8, depth=7)\n        │       │   └── Node('/root/ alm>0.435 / mcg>0.675 / gvh<0.625 / mit>0.265 / mcg<0.730 / alm>0.495 ', depth=6, feature='mit', major=0, numExs=5, split=0.385)\n        │       │       ├── Node('/root/ alm>0.435 / mcg>0.675 / gvh<0.625 / mit>0.265 / mcg<0.730 / alm>0.495 / mit<0.385 ', decision=0, depth=7)\n        │       │       └── Node('/root/ alm>0.435 / mcg>0.675 / gvh<0.625 / mit>0.265 / mcg<0.730 / alm>0.495 / mit>0.385 ', depth=7, feature='mcg', major=2, numExs=2, split=0.69)\n        │       │           ├── Node('/root/ alm>0.435 / mcg>0.675 / gvh<0.625 / mit>0.265 / mcg<0.730 / alm>0.495 / mit>0.385 / mcg<0.690 ', decision=6, depth=8)\n        │       │           └── Node('/root/ alm>0.435 / mcg>0.675 / gvh<0.625 / mit>0.265 / mcg<0.730 / alm>0.495 / mit>0.385 / mcg>0.690 ', decision=2, depth=8)\n        │       └── Node('/root/ alm>0.435 / mcg>0.675 / gvh<0.625 / mit>0.265 / mcg>0.730 ', depth=5, feature='mcg', major=7, numExs=4, split=0.825)\n        │           ├── Node('/root/ alm>0.435 / mcg>0.675 / gvh<0.625 / mit>0.265 / mcg>0.730 / mcg<0.825 ', depth=6, feature='mcg', major=4, numExs=2, split=0.76)\n        │           │   ├── Node('/root/ alm>0.435 / mcg>0.675 / gvh<0.625 / mit>0.265 / mcg>0.730 / mcg<0.825 / mcg<0.760 ', decision=9, depth=7)\n        │           │   └── Node('/root/ alm>0.435 / mcg>0.675 / gvh<0.625 / mit>0.265 / mcg>0.730 / mcg<0.825 / mcg>0.760 ', decision=4, depth=7)\n        │           └── Node('/root/ alm>0.435 / mcg>0.675 / gvh<0.625 / mit>0.265 / mcg>0.730 / mcg>0.825 ', decision=7, depth=6)\n        └── Node('/root/ alm>0.435 / mcg>0.675 / gvh>0.625 ', depth=3, feature='erl', major=2, numExs=54, split=0.75)\n            ├── Node('/root/ alm>0.435 / mcg>0.675 / gvh>0.625 / erl<0.750 ', depth=4, feature='alm', major=2, numExs=50, split=0.495)\n            │   ├── Node('/root/ alm>0.435 / mcg>0.675 / gvh>0.625 / erl<0.750 / alm<0.495 ', depth=5, feature='mit', major=2, numExs=22, split=0.14)\n            │   │   ├── Node('/root/ alm>0.435 / mcg>0.675 / gvh>0.625 / erl<0.750 / alm<0.495 / mit<0.140 ', decision=9, depth=6)\n            │   │   └── Node('/root/ alm>0.435 / mcg>0.675 / gvh>0.625 / erl<0.750 / alm<0.495 / mit>0.140 ', depth=6, feature='alm', major=2, numExs=21, split=0.445)\n            │   │       ├── Node('/root/ alm>0.435 / mcg>0.675 / gvh>0.625 / erl<0.750 / alm<0.495 / mit>0.140 / alm<0.445 ', decision=3, depth=7)\n            │   │       └── Node('/root/ alm>0.435 / mcg>0.675 / gvh>0.625 / erl<0.750 / alm<0.495 / mit>0.140 / alm>0.445 ', depth=7, feature='mcg', major=2, numExs=18, split=0.835)\n            │   │           ├── Node('/root/ alm>0.435 / mcg>0.675 / gvh>0.625 / erl<0.750 / alm<0.495 / mit>0.140 / alm>0.445 / mcg<0.835 ', depth=8, feature='vac', major=2, numExs=16, split=0.485)\n            │   │           │   ├── Node('/root/ alm>0.435 / mcg>0.675 / gvh>0.625 / erl<0.750 / alm<0.495 / mit>0.140 / alm>0.445 / mcg<0.835 / vac<0.485 ', decision=2, depth=9)\n            │   │           │   └── Node('/root/ alm>0.435 / mcg>0.675 / gvh>0.625 / erl<0.750 / alm<0.495 / mit>0.140 / alm>0.445 / mcg<0.835 / vac>0.485 ', depth=9, feature='mcg', major=2, numExs=9, split=0.815)\n            │   │           │       ├── Node('/root/ alm>0.435 / mcg>0.675 / gvh>0.625 / erl<0.750 / alm<0.495 / mit>0.140 / alm>0.445 / mcg<0.835 / vac>0.485 / mcg<0.815 ', depth=10, feature='mit', major=2, numExs=8, split=0.405)\n            │   │           │       │   ├── Node('/root/ alm>0.435 / mcg>0.675 / gvh>0.625 / erl<0.750 / alm<0.495 / mit>0.140 / alm>0.445 / mcg<0.835 / vac>0.485 / mcg<0.815 / mit<0.405 ', depth=11, feature='vac', major=2, numExs=7, split=0.495)\n            │   │           │       │   │   ├── Node('/root/ alm>0.435 / mcg>0.675 / gvh>0.625 / erl<0.750 / alm<0.495 / mit>0.140 / alm>0.445 / mcg<0.835 / vac>0.485 / mcg<0.815 / mit<0.405 / vac<0.495 ', decision=3, depth=12)\n            │   │           │       │   │   └── Node('/root/ alm>0.435 / mcg>0.675 / gvh>0.625 / erl<0.750 / alm<0.495 / mit>0.140 / alm>0.445 / mcg<0.835 / vac>0.485 / mcg<0.815 / mit<0.405 / vac>0.495 ', depth=12, feature='vac', major=2, numExs=6, split=0.565)\n            │   │           │       │   │       ├── Node('/root/ alm>0.435 / mcg>0.675 / gvh>0.625 / erl<0.750 / alm<0.495 / mit>0.140 / alm>0.445 / mcg<0.835 / vac>0.485 / mcg<0.815 / mit<0.405 / vac>0.495 / vac<0.565 ', decision=2, depth=13)\n            │   │           │       │   │       └── Node('/root/ alm>0.435 / mcg>0.675 / gvh>0.625 / erl<0.750 / alm<0.495 / mit>0.140 / alm>0.445 / mcg<0.835 / vac>0.485 / mcg<0.815 / mit<0.405 / vac>0.495 / vac>0.565 ', decision=3, depth=13)\n            │   │           │       │   └── Node('/root/ alm>0.435 / mcg>0.675 / gvh>0.625 / erl<0.750 / alm<0.495 / mit>0.140 / alm>0.445 / mcg<0.835 / vac>0.485 / mcg<0.815 / mit>0.405 ', decision=8, depth=11)\n            │   │           │       └── Node('/root/ alm>0.435 / mcg>0.675 / gvh>0.625 / erl<0.750 / alm<0.495 / mit>0.140 / alm>0.445 / mcg<0.835 / vac>0.485 / mcg>0.815 ', decision=8, depth=10)\n            │   │           └── Node('/root/ alm>0.435 / mcg>0.675 / gvh>0.625 / erl<0.750 / alm<0.495 / mit>0.140 / alm>0.445 / mcg>0.835 ', decision=3, depth=8)\n            │   └── Node('/root/ alm>0.435 / mcg>0.675 / gvh>0.625 / erl<0.750 / alm>0.495 ', depth=5, feature='vac', major=2, numExs=28, split=0.505)\n            │       ├── Node('/root/ alm>0.435 / mcg>0.675 / gvh>0.625 / erl<0.750 / alm>0.495 / vac<0.505 ', depth=6, feature='mit', major=2, numExs=15, split=0.375)\n            │       │   ├── Node('/root/ alm>0.435 / mcg>0.675 / gvh>0.625 / erl<0.750 / alm>0.495 / vac<0.505 / mit<0.375 ', depth=7, feature='mcg', major=2, numExs=13, split=0.72)\n            │       │   │   ├── Node('/root/ alm>0.435 / mcg>0.675 / gvh>0.625 / erl<0.750 / alm>0.495 / vac<0.505 / mit<0.375 / mcg<0.720 ', depth=8, feature='mcg', major=2, numExs=2, split=0.695)\n            │       │   │   │   ├── Node('/root/ alm>0.435 / mcg>0.675 / gvh>0.625 / erl<0.750 / alm>0.495 / vac<0.505 / mit<0.375 / mcg<0.720 / mcg<0.695 ', decision=2, depth=9)\n            │       │   │   │   └── Node('/root/ alm>0.435 / mcg>0.675 / gvh>0.625 / erl<0.750 / alm>0.495 / vac<0.505 / mit<0.375 / mcg<0.720 / mcg>0.695 ', decision=9, depth=9)\n            │       │   │   └── Node('/root/ alm>0.435 / mcg>0.675 / gvh>0.625 / erl<0.750 / alm>0.495 / vac<0.505 / mit<0.375 / mcg>0.720 ', decision=2, depth=8)\n            │       │   └── Node('/root/ alm>0.435 / mcg>0.675 / gvh>0.625 / erl<0.750 / alm>0.495 / vac<0.505 / mit>0.375 ', depth=7, feature='mcg', major=4, numExs=2, split=0.745)\n            │       │       ├── Node('/root/ alm>0.435 / mcg>0.675 / gvh>0.625 / erl<0.750 / alm>0.495 / vac<0.505 / mit>0.375 / mcg<0.745 ', decision=4, depth=8)\n            │       │       └── Node('/root/ alm>0.435 / mcg>0.675 / gvh>0.625 / erl<0.750 / alm>0.495 / vac<0.505 / mit>0.375 / mcg>0.745 ', decision=6, depth=8)\n            │       └── Node('/root/ alm>0.435 / mcg>0.675 / gvh>0.625 / erl<0.750 / alm>0.495 / vac>0.505 ', depth=6, feature='mit', major=4, numExs=13, split=0.315)\n            │           ├── Node('/root/ alm>0.435 / mcg>0.675 / gvh>0.625 / erl<0.750 / alm>0.495 / vac>0.505 / mit<0.315 ', depth=7, feature='mit', major=9, numExs=7, split=0.245)\n            │           │   ├── Node('/root/ alm>0.435 / mcg>0.675 / gvh>0.625 / erl<0.750 / alm>0.495 / vac>0.505 / mit<0.315 / mit<0.245 ', depth=8, feature='mcg', major=0, numExs=3, split=0.8500000000000001)\n            │           │   │   ├── Node('/root/ alm>0.435 / mcg>0.675 / gvh>0.625 / erl<0.750 / alm>0.495 / vac>0.505 / mit<0.315 / mit<0.245 / mcg<0.850 ', depth=9, feature='gvh', major=0, numExs=2, split=0.725)\n            │           │   │   │   ├── Node('/root/ alm>0.435 / mcg>0.675 / gvh>0.625 / erl<0.750 / alm>0.495 / vac>0.505 / mit<0.315 / mit<0.245 / mcg<0.850 / gvh<0.725 ', decision=4, depth=10)\n            │           │   │   │   └── Node('/root/ alm>0.435 / mcg>0.675 / gvh>0.625 / erl<0.750 / alm>0.495 / vac>0.505 / mit<0.315 / mit<0.245 / mcg<0.850 / gvh>0.725 ', decision=0, depth=10)\n            │           │   │   └── Node('/root/ alm>0.435 / mcg>0.675 / gvh>0.625 / erl<0.750 / alm>0.495 / vac>0.505 / mit<0.315 / mit<0.245 / mcg>0.850 ', decision=3, depth=9)\n            │           │   └── Node('/root/ alm>0.435 / mcg>0.675 / gvh>0.625 / erl<0.750 / alm>0.495 / vac>0.505 / mit<0.315 / mit>0.245 ', depth=8, feature='vac', major=9, numExs=4, split=0.53)\n            │           │       ├── Node('/root/ alm>0.435 / mcg>0.675 / gvh>0.625 / erl<0.750 / alm>0.495 / vac>0.505 / mit<0.315 / mit>0.245 / vac<0.530 ', decision=6, depth=9)\n            │           │       └── Node('/root/ alm>0.435 / mcg>0.675 / gvh>0.625 / erl<0.750 / alm>0.495 / vac>0.505 / mit<0.315 / mit>0.245 / vac>0.530 ', decision=9, depth=9)\n            │           └── Node('/root/ alm>0.435 / mcg>0.675 / gvh>0.625 / erl<0.750 / alm>0.495 / vac>0.505 / mit>0.315 ', depth=7, feature='gvh', major=4, numExs=6, split=0.6699999999999999)\n            │               ├── Node('/root/ alm>0.435 / mcg>0.675 / gvh>0.625 / erl<0.750 / alm>0.495 / vac>0.505 / mit>0.315 / gvh<0.670 ', decision=6, depth=8)\n            │               └── Node('/root/ alm>0.435 / mcg>0.675 / gvh>0.625 / erl<0.750 / alm>0.495 / vac>0.505 / mit>0.315 / gvh>0.670 ', decision=4, depth=8)\n            └── Node('/root/ alm>0.435 / mcg>0.675 / gvh>0.625 / erl>0.750 ', decision=1, depth=4)\n"
     ]
    }
   ],
   "source": [
    "print(RenderTree(full))"
   ]
  },
  {
   "cell_type": "code",
   "execution_count": 8,
   "metadata": {},
   "outputs": [],
   "source": [
    "def get_depth(cur):\n",
    "    if cur.is_leaf:\n",
    "        return cur.depth\n",
    "    else:\n",
    "        return max(get_depth(cur.children[0]), get_depth(cur.children[1]))"
   ]
  },
  {
   "cell_type": "code",
   "execution_count": 9,
   "metadata": {},
   "outputs": [
    {
     "output_type": "execute_result",
     "data": {
      "text/plain": [
       "20"
      ]
     },
     "metadata": {},
     "execution_count": 9
    }
   ],
   "source": [
    "get_depth(full)"
   ]
  },
  {
   "cell_type": "code",
   "execution_count": 10,
   "metadata": {
    "tags": []
   },
   "outputs": [
    {
     "output_type": "stream",
     "name": "stdout",
     "text": [
      "Node('/root', depth=0, feature='alm', major=0, numExs=1484, split=0.435)\n├── Node('/root/ alm<0.435 ', depth=1, feature='mcg', major=5, numExs=292, split=0.665)\n│   ├── Node('/root/ alm<0.435 / mcg<0.665 ', depth=2, feature='alm', major=5, numExs=210, split=0.385)\n│   │   ├── Node('/root/ alm<0.435 / mcg<0.665 / alm<0.385 ', depth=3, feature='mit', major=5, numExs=134, split=0.20500000000000002)\n│   │   │   ├── Node('/root/ alm<0.435 / mcg<0.665 / alm<0.385 / mit<0.205 ', decision=5, depth=4)\n│   │   │   └── Node('/root/ alm<0.435 / mcg<0.665 / alm<0.385 / mit>0.205 ', decision=5, depth=4)\n│   │   └── Node('/root/ alm<0.435 / mcg<0.665 / alm>0.385 ', depth=3, feature='mit', major=5, numExs=76, split=0.545)\n│   │       ├── Node('/root/ alm<0.435 / mcg<0.665 / alm>0.385 / mit<0.545 ', decision=5, depth=4)\n│   │       └── Node('/root/ alm<0.435 / mcg<0.665 / alm>0.385 / mit>0.545 ', decision=6, depth=4)\n│   └── Node('/root/ alm<0.435 / mcg>0.665 ', depth=2, feature='gvh', major=3, numExs=82, split=0.625)\n│       ├── Node('/root/ alm<0.435 / mcg>0.665 / gvh<0.625 ', depth=3, feature='gvh', major=4, numExs=29, split=0.575)\n│       │   ├── Node('/root/ alm<0.435 / mcg>0.665 / gvh<0.625 / gvh<0.575 ', decision=4, depth=4)\n│       │   └── Node('/root/ alm<0.435 / mcg>0.665 / gvh<0.625 / gvh>0.575 ', decision=4, depth=4)\n│       └── Node('/root/ alm<0.435 / mcg>0.665 / gvh>0.625 ', depth=3, feature='mcg', major=3, numExs=53, split=0.805)\n│           ├── Node('/root/ alm<0.435 / mcg>0.665 / gvh>0.625 / mcg<0.805 ', decision=3, depth=4)\n│           └── Node('/root/ alm<0.435 / mcg>0.665 / gvh>0.625 / mcg>0.805 ', decision=3, depth=4)\n└── Node('/root/ alm>0.435 ', depth=1, feature='mcg', major=0, numExs=1192, split=0.675)\n    ├── Node('/root/ alm>0.435 / mcg<0.675 ', depth=2, feature='mit', major=0, numExs=1105, split=0.375)\n    │   ├── Node('/root/ alm>0.435 / mcg<0.675 / mit<0.375 ', depth=3, feature='nuc', major=0, numExs=901, split=0.24)\n    │   │   ├── Node('/root/ alm>0.435 / mcg<0.675 / mit<0.375 / nuc<0.240 ', decision=0, depth=4)\n    │   │   └── Node('/root/ alm>0.435 / mcg<0.675 / mit<0.375 / nuc>0.240 ', decision=7, depth=4)\n    │   └── Node('/root/ alm>0.435 / mcg<0.675 / mit>0.375 ', depth=3, feature='gvh', major=6, numExs=204, split=0.505)\n    │       ├── Node('/root/ alm>0.435 / mcg<0.675 / mit>0.375 / gvh<0.505 ', decision=6, depth=4)\n    │       └── Node('/root/ alm>0.435 / mcg<0.675 / mit>0.375 / gvh>0.505 ', decision=6, depth=4)\n    └── Node('/root/ alm>0.435 / mcg>0.675 ', depth=2, feature='gvh', major=2, numExs=87, split=0.625)\n        ├── Node('/root/ alm>0.435 / mcg>0.675 / gvh<0.625 ', depth=3, feature='mit', major=0, numExs=33, split=0.265)\n        │   ├── Node('/root/ alm>0.435 / mcg>0.675 / gvh<0.625 / mit<0.265 ', decision=0, depth=4)\n        │   └── Node('/root/ alm>0.435 / mcg>0.675 / gvh<0.625 / mit>0.265 ', decision=6, depth=4)\n        └── Node('/root/ alm>0.435 / mcg>0.675 / gvh>0.625 ', depth=3, feature='erl', major=2, numExs=54, split=0.75)\n            ├── Node('/root/ alm>0.435 / mcg>0.675 / gvh>0.625 / erl<0.750 ', decision=2, depth=4)\n            └── Node('/root/ alm>0.435 / mcg>0.675 / gvh>0.625 / erl>0.750 ', decision=1, depth=4)\n"
     ]
    }
   ],
   "source": [
    "md4 = learn_dt(data, G.feature_names[:-1], max_depth=4)\n",
    "print(RenderTree(md4))"
   ]
  },
  {
   "cell_type": "code",
   "execution_count": 11,
   "metadata": {},
   "outputs": [],
   "source": [
    "dumb = Node(\"root\", depth=0)"
   ]
  },
  {
   "cell_type": "code",
   "execution_count": 12,
   "metadata": {
    "tags": [
     "outputPrepend"
    ]
   },
   "outputs": [
    {
     "output_type": "stream",
     "name": "stdout",
     "text": [
      "0.375 / gvh<0.505 / mcg>0.445 / nuc>0.265 / mcg>0.475 / vac<0.515 ', depth=8, feature='gvh', major=6, numExs=14, split=0.46499999999999997)\n    │       │               │   ├── Node('/root/ alm>0.435 / mcg<0.675 / mit>0.375 / gvh<0.505 / mcg>0.445 / nuc>0.265 / mcg>0.475 / vac<0.515 / gvh<0.465 ', depth=9, feature='mcg', major=7, numExs=7, split=0.52)\n    │       │               │   │   ├── Node('/root/ alm>0.435 / mcg<0.675 / mit>0.375 / gvh<0.505 / mcg>0.445 / nuc>0.265 / mcg>0.475 / vac<0.515 / gvh<0.465 / mcg<0.520 ', decision=6, depth=10, feature='gvh', major=6, numExs=3, split=0.405)\n    │       │               │   │   └── Node('/root/ alm>0.435 / mcg<0.675 / mit>0.375 / gvh<0.505 / mcg>0.445 / nuc>0.265 / mcg>0.475 / vac<0.515 / gvh<0.465 / mcg>0.520 ', decision=7, depth=10)\n    │       │               │   └── Node('/root/ alm>0.435 / mcg<0.675 / mit>0.375 / gvh<0.505 / mcg>0.445 / nuc>0.265 / mcg>0.475 / vac<0.515 / gvh>0.465 ', depth=9, feature='mcg', major=6, numExs=7, split=0.575)\n    │       │               │       ├── Node('/root/ alm>0.435 / mcg<0.675 / mit>0.375 / gvh<0.505 / mcg>0.445 / nuc>0.265 / mcg>0.475 / vac<0.515 / gvh>0.465 / mcg<0.575 ', decision=6, depth=10)\n    │       │               │       └── Node('/root/ alm>0.435 / mcg<0.675 / mit>0.375 / gvh<0.505 / mcg>0.445 / nuc>0.265 / mcg>0.475 / vac<0.515 / gvh>0.465 / mcg>0.575 ', decision=0, depth=10)\n    │       │               └── Node('/root/ alm>0.435 / mcg<0.675 / mit>0.375 / gvh<0.505 / mcg>0.445 / nuc>0.265 / mcg>0.475 / vac>0.515 ', depth=8, feature='mcg', major=0, numExs=4, split=0.49)\n    │       │                   ├── Node('/root/ alm>0.435 / mcg<0.675 / mit>0.375 / gvh<0.505 / mcg>0.445 / nuc>0.265 / mcg>0.475 / vac>0.515 / mcg<0.490 ', decision=7, depth=9)\n    │       │                   └── Node('/root/ alm>0.435 / mcg<0.675 / mit>0.375 / gvh<0.505 / mcg>0.445 / nuc>0.265 / mcg>0.475 / vac>0.515 / mcg>0.490 ', decision=0, depth=9, feature='mcg', major=0, numExs=3, split=0.5549999999999999)\n    │       └── Node('/root/ alm>0.435 / mcg<0.675 / mit>0.375 / gvh>0.505 ', depth=4, feature='mcg', major=6, numExs=103, split=0.615)\n    │           ├── Node('/root/ alm>0.435 / mcg<0.675 / mit>0.375 / gvh>0.505 / mcg<0.615 ', depth=5, feature='mcg', major=6, numExs=90, split=0.36)\n    │           │   ├── Node('/root/ alm>0.435 / mcg<0.675 / mit>0.375 / gvh>0.505 / mcg<0.615 / mcg<0.360 ', decision=7, depth=6)\n    │           │   └── Node('/root/ alm>0.435 / mcg<0.675 / mit>0.375 / gvh>0.505 / mcg<0.615 / mcg>0.360 ', depth=6, feature='mit', major=6, numExs=88, split=0.415)\n    │           │       ├── Node('/root/ alm>0.435 / mcg<0.675 / mit>0.375 / gvh>0.505 / mcg<0.615 / mcg>0.360 / mit<0.415 ', depth=7, feature='mcg', major=6, numExs=15, split=0.545)\n    │           │       │   ├── Node('/root/ alm>0.435 / mcg<0.675 / mit>0.375 / gvh>0.505 / mcg<0.615 / mcg>0.360 / mit<0.415 / mcg<0.545 ', depth=8, feature='mcg', major=0, numExs=8, split=0.425)\n    │           │       │   │   ├── Node('/root/ alm>0.435 / mcg<0.675 / mit>0.375 / gvh>0.505 / mcg<0.615 / mcg>0.360 / mit<0.415 / mcg<0.545 / mcg<0.425 ', decision=6, depth=9)\n    │           │       │   │   └── Node('/root/ alm>0.435 / mcg<0.675 / mit>0.375 / gvh>0.505 / mcg<0.615 / mcg>0.360 / mit<0.415 / mcg<0.545 / mcg>0.425 ', decision=0, depth=9)\n    │           │       │   └── Node('/root/ alm>0.435 / mcg<0.675 / mit>0.375 / gvh>0.505 / mcg<0.615 / mcg>0.360 / mit<0.415 / mcg>0.545 ', depth=8, feature='alm', major=6, numExs=7, split=0.615)\n    │           │       │       ├── Node('/root/ alm>0.435 / mcg<0.675 / mit>0.375 / gvh>0.505 / mcg<0.615 / mcg>0.360 / mit<0.415 / mcg>0.545 / alm<0.615 ', decision=6, depth=9)\n    │           │       │       └── Node('/root/ alm>0.435 / mcg<0.675 / mit>0.375 / gvh>0.505 / mcg<0.615 / mcg>0.360 / mit<0.415 / mcg>0.545 / alm>0.615 ', decision=7, depth=9)\n    │           │       └── Node('/root/ alm>0.435 / mcg<0.675 / mit>0.375 / gvh>0.505 / mcg<0.615 / mcg>0.360 / mit>0.415 ', depth=7, feature='mit', major=6, numExs=73, split=0.84)\n    │           │           ├── Node('/root/ alm>0.435 / mcg<0.675 / mit>0.375 / gvh>0.505 / mcg<0.615 / mcg>0.360 / mit>0.415 / mit<0.840 ', depth=8, feature='erl', major=6, numExs=72, split=0.75)\n    │           │           │   ├── Node('/root/ alm>0.435 / mcg<0.675 / mit>0.375 / gvh>0.505 / mcg<0.615 / mcg>0.360 / mit>0.415 / mit<0.840 / erl<0.750 ', depth=9, feature='vac', major=6, numExs=71, split=0.525)\n    │           │           │   │   ├── Node('/root/ alm>0.435 / mcg<0.675 / mit>0.375 / gvh>0.505 / mcg<0.615 / mcg>0.360 / mit>0.415 / mit<0.840 / erl<0.750 / vac<0.525 ', decision=6, depth=10)\n    │           │           │   │   └── Node('/root/ alm>0.435 / mcg<0.675 / mit>0.375 / gvh>0.505 / mcg<0.615 / mcg>0.360 / mit>0.415 / mit<0.840 / erl<0.750 / vac>0.525 ', depth=10, feature='vac', major=6, numExs=28, split=0.535)\n    │           │           │   │       ├── Node('/root/ alm>0.435 / mcg<0.675 / mit>0.375 / gvh>0.505 / mcg<0.615 / mcg>0.360 / mit>0.415 / mit<0.840 / erl<0.750 / vac>0.525 / vac<0.535 ', depth=11, feature='mcg', major=6, numExs=14, split=0.605)\n    │           │           │   │       │   ├── Node('/root/ alm>0.435 / mcg<0.675 / mit>0.375 / gvh>0.505 / mcg<0.615 / mcg>0.360 / mit>0.415 / mit<0.840 / erl<0.750 / vac>0.525 / vac<0.535 / mcg<0.605 ', depth=12, feature='mcg', major=6, numExs=13, split=0.44)\n    │           │           │   │       │   │   ├── Node('/root/ alm>0.435 / mcg<0.675 / mit>0.375 / gvh>0.505 / mcg<0.615 / mcg>0.360 / mit>0.415 / mit<0.840 / erl<0.750 / vac>0.525 / vac<0.535 / mcg<0.605 / mcg<0.440 ', decision=0, depth=13, feature='mcg', major=0, numExs=2, split=0.405)\n    │           │           │   │       │   │   └── Node('/root/ alm>0.435 / mcg<0.675 / mit>0.375 / gvh>0.505 / mcg<0.615 / mcg>0.360 / mit>0.415 / mit<0.840 / erl<0.750 / vac>0.525 / vac<0.535 / mcg<0.605 / mcg>0.440 ', depth=13, feature='gvh', major=6, numExs=11, split=0.55)\n    │           │           │   │       │   │       ├── Node('/root/ alm>0.435 / mcg<0.675 / mit>0.375 / gvh>0.505 / mcg<0.615 / mcg>0.360 / mit>0.415 / mit<0.840 / erl<0.750 / vac>0.525 / vac<0.535 / mcg<0.605 / mcg>0.440 / gvh<0.550 ', depth=14, feature='nuc', major=6, numExs=4, split=0.28500000000000003)\n    │           │           │   │       │   │       │   ├── Node('/root/ alm>0.435 / mcg<0.675 / mit>0.375 / gvh>0.505 / mcg<0.615 / mcg>0.360 / mit>0.415 / mit<0.840 / erl<0.750 / vac>0.525 / vac<0.535 / mcg<0.605 / mcg>0.440 / gvh<0.550 / nuc<0.285 ', decision=6, depth=15)\n    │           │           │   │       │   │       │   └── Node('/root/ alm>0.435 / mcg<0.675 / mit>0.375 / gvh>0.505 / mcg<0.615 / mcg>0.360 / mit>0.415 / mit<0.840 / erl<0.750 / vac>0.525 / vac<0.535 / mcg<0.605 / mcg>0.440 / gvh<0.550 / nuc>0.285 ', decision=7, depth=15)\n    │           │           │   │       │   │       └── Node('/root/ alm>0.435 / mcg<0.675 / mit>0.375 / gvh>0.505 / mcg<0.615 / mcg>0.360 / mit>0.415 / mit<0.840 / erl<0.750 / vac>0.525 / vac<0.535 / mcg<0.605 / mcg>0.440 / gvh>0.550 ', decision=6, depth=14)\n    │           │           │   │       │   └── Node('/root/ alm>0.435 / mcg<0.675 / mit>0.375 / gvh>0.505 / mcg<0.615 / mcg>0.360 / mit>0.415 / mit<0.840 / erl<0.750 / vac>0.525 / vac<0.535 / mcg>0.605 ', decision=0, depth=12)\n    │           │           │   │       └── Node('/root/ alm>0.435 / mcg<0.675 / mit>0.375 / gvh>0.505 / mcg<0.615 / mcg>0.360 / mit>0.415 / mit<0.840 / erl<0.750 / vac>0.525 / vac>0.535 ', decision=6, depth=11)\n    │           │           │   └── Node('/root/ alm>0.435 / mcg<0.675 / mit>0.375 / gvh>0.505 / mcg<0.615 / mcg>0.360 / mit>0.415 / mit<0.840 / erl>0.750 ', decision=0, depth=9)\n    │           │           └── Node('/root/ alm>0.435 / mcg<0.675 / mit>0.375 / gvh>0.505 / mcg<0.615 / mcg>0.360 / mit>0.415 / mit>0.840 ', decision=7, depth=8)\n    │           └── Node('/root/ alm>0.435 / mcg<0.675 / mit>0.375 / gvh>0.505 / mcg>0.615 ', depth=5, feature='gvh', major=6, numExs=13, split=0.635)\n    │               ├── Node('/root/ alm>0.435 / mcg<0.675 / mit>0.375 / gvh>0.505 / mcg>0.615 / gvh<0.635 ', depth=6, feature='gvh', major=6, numExs=10, split=0.515)\n    │               │   ├── Node('/root/ alm>0.435 / mcg<0.675 / mit>0.375 / gvh>0.505 / mcg>0.615 / gvh<0.635 / gvh<0.515 ', decision=7, depth=7)\n    │               │   └── Node('/root/ alm>0.435 / mcg<0.675 / mit>0.375 / gvh>0.505 / mcg>0.615 / gvh<0.635 / gvh>0.515 ', depth=7, feature='vac', major=6, numExs=9, split=0.54)\n    │               │       ├── Node('/root/ alm>0.435 / mcg<0.675 / mit>0.375 / gvh>0.505 / mcg>0.615 / gvh<0.635 / gvh>0.515 / vac<0.540 ', decision=6, depth=8)\n    │               │       └── Node('/root/ alm>0.435 / mcg<0.675 / mit>0.375 / gvh>0.505 / mcg>0.615 / gvh<0.635 / gvh>0.515 / vac>0.540 ', decision=6, depth=8, feature='mcg', major=6, numExs=2, split=0.645)\n    │               └── Node('/root/ alm>0.435 / mcg<0.675 / mit>0.375 / gvh>0.505 / mcg>0.615 / gvh>0.635 ', decision=2, depth=6, feature='mcg', major=2, numExs=3, split=0.645)\n    └── Node('/root/ alm>0.435 / mcg>0.675 ', depth=2, feature='gvh', major=2, numExs=87, split=0.625)\n        ├── Node('/root/ alm>0.435 / mcg>0.675 / gvh<0.625 ', depth=3, feature='mit', major=0, numExs=33, split=0.265)\n        │   ├── Node('/root/ alm>0.435 / mcg>0.675 / gvh<0.625 / mit<0.265 ', depth=4, feature='pox', major=0, numExs=19, split=0.415)\n        │   │   ├── Node('/root/ alm>0.435 / mcg>0.675 / gvh<0.625 / mit<0.265 / pox<0.415 ', depth=5, feature='mit', major=0, numExs=17, split=0.195)\n        │   │   │   ├── Node('/root/ alm>0.435 / mcg>0.675 / gvh<0.625 / mit<0.265 / pox<0.415 / mit<0.195 ', depth=6, feature='mcg', major=0, numExs=10, split=0.73)\n        │   │   │   │   ├── Node('/root/ alm>0.435 / mcg>0.675 / gvh<0.625 / mit<0.265 / pox<0.415 / mit<0.195 / mcg<0.730 ', depth=7, feature='mit', major=0, numExs=6, split=0.1)\n        │   │   │   │   │   ├── Node('/root/ alm>0.435 / mcg>0.675 / gvh<0.625 / mit<0.265 / pox<0.415 / mit<0.195 / mcg<0.730 / mit<0.100 ', decision=7, depth=8)\n        │   │   │   │   │   └── Node('/root/ alm>0.435 / mcg>0.675 / gvh<0.625 / mit<0.265 / pox<0.415 / mit<0.195 / mcg<0.730 / mit>0.100 ', depth=8, feature='mcg', major=0, numExs=4, split=0.685)\n        │   │   │   │   │       ├── Node('/root/ alm>0.435 / mcg>0.675 / gvh<0.625 / mit<0.265 / pox<0.415 / mit<0.195 / mcg<0.730 / mit>0.100 / mcg<0.685 ', decision=7, depth=9)\n        │   │   │   │   │       └── Node('/root/ alm>0.435 / mcg>0.675 / gvh<0.625 / mit<0.265 / pox<0.415 / mit<0.195 / mcg<0.730 / mit>0.100 / mcg>0.685 ', decision=0, depth=9)\n        │   │   │   │   └── Node('/root/ alm>0.435 / mcg>0.675 / gvh<0.625 / mit<0.265 / pox<0.415 / mit<0.195 / mcg>0.730 ', decision=0, depth=7)\n        │   │   │   └── Node('/root/ alm>0.435 / mcg>0.675 / gvh<0.625 / mit<0.265 / pox<0.415 / mit>0.195 ', depth=6, feature='vac', major=7, numExs=7, split=0.625)\n        │   │   │       ├── Node('/root/ alm>0.435 / mcg>0.675 / gvh<0.625 / mit<0.265 / pox<0.415 / mit>0.195 / vac<0.625 ', depth=7, feature='alm', major=7, numExs=5, split=0.5549999999999999)\n        │   │   │       │   ├── Node('/root/ alm>0.435 / mcg>0.675 / gvh<0.625 / mit<0.265 / pox<0.415 / mit>0.195 / vac<0.625 / alm<0.555 ', decision=4, depth=8, feature='mcg', major=4, numExs=3, split=0.705)\n        │   │   │       │   └── Node('/root/ alm>0.435 / mcg>0.675 / gvh<0.625 / mit<0.265 / pox<0.415 / mit>0.195 / vac<0.625 / alm>0.555 ', decision=7, depth=8)\n        │   │   │       └── Node('/root/ alm>0.435 / mcg>0.675 / gvh<0.625 / mit<0.265 / pox<0.415 / mit>0.195 / vac>0.625 ', decision=0, depth=7)\n        │   │   └── Node('/root/ alm>0.435 / mcg>0.675 / gvh<0.625 / mit<0.265 / pox>0.415 ', decision=8, depth=5)\n        │   └── Node('/root/ alm>0.435 / mcg>0.675 / gvh<0.625 / mit>0.265 ', depth=4, feature='mcg', major=6, numExs=14, split=0.73)\n        │       ├── Node('/root/ alm>0.435 / mcg>0.675 / gvh<0.625 / mit>0.265 / mcg<0.730 ', depth=5, feature='alm', major=6, numExs=10, split=0.495)\n        │       │   ├── Node('/root/ alm>0.435 / mcg>0.675 / gvh<0.625 / mit>0.265 / mcg<0.730 / alm<0.495 ', depth=6, feature='mit', major=6, numExs=5, split=0.45999999999999996)\n        │       │   │   ├── Node('/root/ alm>0.435 / mcg>0.675 / gvh<0.625 / mit>0.265 / mcg<0.730 / alm<0.495 / mit<0.460 ', decision=6, depth=7)\n        │       │   │   └── Node('/root/ alm>0.435 / mcg>0.675 / gvh<0.625 / mit>0.265 / mcg<0.730 / alm<0.495 / mit>0.460 ', decision=8, depth=7)\n        │       │   └── Node('/root/ alm>0.435 / mcg>0.675 / gvh<0.625 / mit>0.265 / mcg<0.730 / alm>0.495 ', depth=6, feature='mit', major=0, numExs=5, split=0.385)\n        │       │       ├── Node('/root/ alm>0.435 / mcg>0.675 / gvh<0.625 / mit>0.265 / mcg<0.730 / alm>0.495 / mit<0.385 ', decision=0, depth=7)\n        │       │       └── Node('/root/ alm>0.435 / mcg>0.675 / gvh<0.625 / mit>0.265 / mcg<0.730 / alm>0.495 / mit>0.385 ', decision=2, depth=7, feature='mcg', major=2, numExs=2, split=0.69)\n        │       └── Node('/root/ alm>0.435 / mcg>0.675 / gvh<0.625 / mit>0.265 / mcg>0.730 ', depth=5, feature='mcg', major=7, numExs=4, split=0.825)\n        │           ├── Node('/root/ alm>0.435 / mcg>0.675 / gvh<0.625 / mit>0.265 / mcg>0.730 / mcg<0.825 ', decision=4, depth=6, feature='mcg', major=4, numExs=2, split=0.76)\n        │           └── Node('/root/ alm>0.435 / mcg>0.675 / gvh<0.625 / mit>0.265 / mcg>0.730 / mcg>0.825 ', decision=7, depth=6)\n        └── Node('/root/ alm>0.435 / mcg>0.675 / gvh>0.625 ', depth=3, feature='erl', major=2, numExs=54, split=0.75)\n            ├── Node('/root/ alm>0.435 / mcg>0.675 / gvh>0.625 / erl<0.750 ', depth=4, feature='alm', major=2, numExs=50, split=0.495)\n            │   ├── Node('/root/ alm>0.435 / mcg>0.675 / gvh>0.625 / erl<0.750 / alm<0.495 ', depth=5, feature='mit', major=2, numExs=22, split=0.14)\n            │   │   ├── Node('/root/ alm>0.435 / mcg>0.675 / gvh>0.625 / erl<0.750 / alm<0.495 / mit<0.140 ', decision=9, depth=6)\n            │   │   └── Node('/root/ alm>0.435 / mcg>0.675 / gvh>0.625 / erl<0.750 / alm<0.495 / mit>0.140 ', depth=6, feature='alm', major=2, numExs=21, split=0.445)\n            │   │       ├── Node('/root/ alm>0.435 / mcg>0.675 / gvh>0.625 / erl<0.750 / alm<0.495 / mit>0.140 / alm<0.445 ', decision=3, depth=7)\n            │   │       └── Node('/root/ alm>0.435 / mcg>0.675 / gvh>0.625 / erl<0.750 / alm<0.495 / mit>0.140 / alm>0.445 ', depth=7, feature='mcg', major=2, numExs=18, split=0.835)\n            │   │           ├── Node('/root/ alm>0.435 / mcg>0.675 / gvh>0.625 / erl<0.750 / alm<0.495 / mit>0.140 / alm>0.445 / mcg<0.835 ', depth=8, feature='vac', major=2, numExs=16, split=0.485)\n            │   │           │   ├── Node('/root/ alm>0.435 / mcg>0.675 / gvh>0.625 / erl<0.750 / alm<0.495 / mit>0.140 / alm>0.445 / mcg<0.835 / vac<0.485 ', decision=2, depth=9)\n            │   │           │   └── Node('/root/ alm>0.435 / mcg>0.675 / gvh>0.625 / erl<0.750 / alm<0.495 / mit>0.140 / alm>0.445 / mcg<0.835 / vac>0.485 ', depth=9, feature='mcg', major=2, numExs=9, split=0.815)\n            │   │           │       ├── Node('/root/ alm>0.435 / mcg>0.675 / gvh>0.625 / erl<0.750 / alm<0.495 / mit>0.140 / alm>0.445 / mcg<0.835 / vac>0.485 / mcg<0.815 ', depth=10, feature='mit', major=2, numExs=8, split=0.405)\n            │   │           │       │   ├── Node('/root/ alm>0.435 / mcg>0.675 / gvh>0.625 / erl<0.750 / alm<0.495 / mit>0.140 / alm>0.445 / mcg<0.835 / vac>0.485 / mcg<0.815 / mit<0.405 ', depth=11, feature='vac', major=2, numExs=7, split=0.495)\n            │   │           │       │   │   ├── Node('/root/ alm>0.435 / mcg>0.675 / gvh>0.625 / erl<0.750 / alm<0.495 / mit>0.140 / alm>0.445 / mcg<0.835 / vac>0.485 / mcg<0.815 / mit<0.405 / vac<0.495 ', decision=3, depth=12)\n            │   │           │       │   │   └── Node('/root/ alm>0.435 / mcg>0.675 / gvh>0.625 / erl<0.750 / alm<0.495 / mit>0.140 / alm>0.445 / mcg<0.835 / vac>0.485 / mcg<0.815 / mit<0.405 / vac>0.495 ', depth=12, feature='vac', major=2, numExs=6, split=0.565)\n            │   │           │       │   │       ├── Node('/root/ alm>0.435 / mcg>0.675 / gvh>0.625 / erl<0.750 / alm<0.495 / mit>0.140 / alm>0.445 / mcg<0.835 / vac>0.485 / mcg<0.815 / mit<0.405 / vac>0.495 / vac<0.565 ', decision=2, depth=13)\n            │   │           │       │   │       └── Node('/root/ alm>0.435 / mcg>0.675 / gvh>0.625 / erl<0.750 / alm<0.495 / mit>0.140 / alm>0.445 / mcg<0.835 / vac>0.485 / mcg<0.815 / mit<0.405 / vac>0.495 / vac>0.565 ', decision=3, depth=13)\n            │   │           │       │   └── Node('/root/ alm>0.435 / mcg>0.675 / gvh>0.625 / erl<0.750 / alm<0.495 / mit>0.140 / alm>0.445 / mcg<0.835 / vac>0.485 / mcg<0.815 / mit>0.405 ', decision=8, depth=11)\n            │   │           │       └── Node('/root/ alm>0.435 / mcg>0.675 / gvh>0.625 / erl<0.750 / alm<0.495 / mit>0.140 / alm>0.445 / mcg<0.835 / vac>0.485 / mcg>0.815 ', decision=8, depth=10)\n            │   │           └── Node('/root/ alm>0.435 / mcg>0.675 / gvh>0.625 / erl<0.750 / alm<0.495 / mit>0.140 / alm>0.445 / mcg>0.835 ', decision=3, depth=8)\n            │   └── Node('/root/ alm>0.435 / mcg>0.675 / gvh>0.625 / erl<0.750 / alm>0.495 ', depth=5, feature='vac', major=2, numExs=28, split=0.505)\n            │       ├── Node('/root/ alm>0.435 / mcg>0.675 / gvh>0.625 / erl<0.750 / alm>0.495 / vac<0.505 ', depth=6, feature='mit', major=2, numExs=15, split=0.375)\n            │       │   ├── Node('/root/ alm>0.435 / mcg>0.675 / gvh>0.625 / erl<0.750 / alm>0.495 / vac<0.505 / mit<0.375 ', depth=7, feature='mcg', major=2, numExs=13, split=0.72)\n            │       │   │   ├── Node('/root/ alm>0.435 / mcg>0.675 / gvh>0.625 / erl<0.750 / alm>0.495 / vac<0.505 / mit<0.375 / mcg<0.720 ', decision=2, depth=8, feature='mcg', major=2, numExs=2, split=0.695)\n            │       │   │   └── Node('/root/ alm>0.435 / mcg>0.675 / gvh>0.625 / erl<0.750 / alm>0.495 / vac<0.505 / mit<0.375 / mcg>0.720 ', decision=2, depth=8)\n            │       │   └── Node('/root/ alm>0.435 / mcg>0.675 / gvh>0.625 / erl<0.750 / alm>0.495 / vac<0.505 / mit>0.375 ', decision=4, depth=7, feature='mcg', major=4, numExs=2, split=0.745)\n            │       └── Node('/root/ alm>0.435 / mcg>0.675 / gvh>0.625 / erl<0.750 / alm>0.495 / vac>0.505 ', depth=6, feature='mit', major=4, numExs=13, split=0.315)\n            │           ├── Node('/root/ alm>0.435 / mcg>0.675 / gvh>0.625 / erl<0.750 / alm>0.495 / vac>0.505 / mit<0.315 ', depth=7, feature='mit', major=9, numExs=7, split=0.245)\n            │           │   ├── Node('/root/ alm>0.435 / mcg>0.675 / gvh>0.625 / erl<0.750 / alm>0.495 / vac>0.505 / mit<0.315 / mit<0.245 ', decision=0, depth=8, feature='mcg', major=0, numExs=3, split=0.8500000000000001)\n            │           │   └── Node('/root/ alm>0.435 / mcg>0.675 / gvh>0.625 / erl<0.750 / alm>0.495 / vac>0.505 / mit<0.315 / mit>0.245 ', depth=8, feature='vac', major=9, numExs=4, split=0.53)\n            │           │       ├── Node('/root/ alm>0.435 / mcg>0.675 / gvh>0.625 / erl<0.750 / alm>0.495 / vac>0.505 / mit<0.315 / mit>0.245 / vac<0.530 ', decision=6, depth=9)\n            │           │       └── Node('/root/ alm>0.435 / mcg>0.675 / gvh>0.625 / erl<0.750 / alm>0.495 / vac>0.505 / mit<0.315 / mit>0.245 / vac>0.530 ', decision=9, depth=9)\n            │           └── Node('/root/ alm>0.435 / mcg>0.675 / gvh>0.625 / erl<0.750 / alm>0.495 / vac>0.505 / mit>0.315 ', depth=7, feature='gvh', major=4, numExs=6, split=0.6699999999999999)\n            │               ├── Node('/root/ alm>0.435 / mcg>0.675 / gvh>0.625 / erl<0.750 / alm>0.495 / vac>0.505 / mit>0.315 / gvh<0.670 ', decision=6, depth=8)\n            │               └── Node('/root/ alm>0.435 / mcg>0.675 / gvh>0.625 / erl<0.750 / alm>0.495 / vac>0.505 / mit>0.315 / gvh>0.670 ', decision=4, depth=8)\n            └── Node('/root/ alm>0.435 / mcg>0.675 / gvh>0.625 / erl>0.750 ', decision=1, depth=4)\n"
     ]
    }
   ],
   "source": [
    "full2 = Node(\"root\", depth=0)\n",
    "split_node(full2, data, G.feature_names[:-1])\n",
    "post_prune(full2, 4)\n",
    "print(RenderTree(full2))"
   ]
  },
  {
   "cell_type": "code",
   "execution_count": 13,
   "metadata": {},
   "outputs": [
    {
     "output_type": "stream",
     "name": "stdout",
     "text": [
      "Node('/root', depth=0, feature='alm', major=0, numExs=1484, split=0.435)\n├── Node('/root/ alm<0.435 ', depth=1, feature='mcg', major=5, numExs=292, split=0.665)\n│   ├── Node('/root/ alm<0.435 / mcg<0.665 ', depth=2, feature='alm', major=5, numExs=210, split=0.385)\n│   │   ├── Node('/root/ alm<0.435 / mcg<0.665 / alm<0.385 ', depth=3, feature='mit', major=5, numExs=134, split=0.20500000000000002)\n│   │   │   ├── Node('/root/ alm<0.435 / mcg<0.665 / alm<0.385 / mit<0.205 ', decision=5, depth=4)\n│   │   │   └── Node('/root/ alm<0.435 / mcg<0.665 / alm<0.385 / mit>0.205 ', decision=5, depth=4)\n│   │   └── Node('/root/ alm<0.435 / mcg<0.665 / alm>0.385 ', decision=5, depth=3, feature='mit', major=5, numExs=76, split=0.545)\n│   └── Node('/root/ alm<0.435 / mcg>0.665 ', decision=3, depth=2, feature='gvh', major=3, numExs=82, split=0.625)\n└── Node('/root/ alm>0.435 ', depth=1, feature='mcg', major=0, numExs=1192, split=0.675)\n    ├── Node('/root/ alm>0.435 / mcg<0.675 ', depth=2, feature='mit', major=0, numExs=1105, split=0.375)\n    │   ├── Node('/root/ alm>0.435 / mcg<0.675 / mit<0.375 ', depth=3, feature='nuc', major=0, numExs=901, split=0.24)\n    │   │   ├── Node('/root/ alm>0.435 / mcg<0.675 / mit<0.375 / nuc<0.240 ', decision=0, depth=4)\n    │   │   └── Node('/root/ alm>0.435 / mcg<0.675 / mit<0.375 / nuc>0.240 ', decision=7, depth=4)\n    │   └── Node('/root/ alm>0.435 / mcg<0.675 / mit>0.375 ', depth=3, feature='gvh', major=6, numExs=204, split=0.505)\n    │       ├── Node('/root/ alm>0.435 / mcg<0.675 / mit>0.375 / gvh<0.505 ', decision=6, depth=4)\n    │       └── Node('/root/ alm>0.435 / mcg<0.675 / mit>0.375 / gvh>0.505 ', decision=6, depth=4)\n    └── Node('/root/ alm>0.435 / mcg>0.675 ', decision=2, depth=2, feature='gvh', major=2, numExs=87, split=0.625)\n"
     ]
    }
   ],
   "source": [
    "pmd4 = learn_dt(data, G.feature_names[:-1], max_depth=4)\n",
    "post_prune(pmd4, 100)\n",
    "print(RenderTree(pmd4))"
   ]
  },
  {
   "cell_type": "code",
   "execution_count": 14,
   "metadata": {},
   "outputs": [
    {
     "output_type": "stream",
     "name": "stdout",
     "text": [
      "Node('/root', decision=0, depth=0, feature='alm', major=0, numExs=1484, split=0.435)\n"
     ]
    }
   ],
   "source": [
    "post_prune(full2, 1500)\n",
    "print(RenderTree(full2))"
   ]
  },
  {
   "cell_type": "code",
   "execution_count": 15,
   "metadata": {},
   "outputs": [],
   "source": [
    "folds = preprocess(data)"
   ]
  },
  {
   "cell_type": "code",
   "execution_count": 16,
   "metadata": {},
   "outputs": [
    {
     "output_type": "execute_result",
     "data": {
      "text/plain": [
       "[148, 148, 148, 148, 148, 148, 148, 148, 148, 152]"
      ]
     },
     "metadata": {},
     "execution_count": 16
    }
   ],
   "source": [
    "[len(folds[i]) for i in range(10)]"
   ]
  },
  {
   "cell_type": "code",
   "execution_count": 17,
   "metadata": {},
   "outputs": [
    {
     "output_type": "execute_result",
     "data": {
      "text/plain": [
       "[[1, 2], 2, 3, 4, 5, 6, 7, 8, 9]"
      ]
     },
     "metadata": {},
     "execution_count": 17
    }
   ],
   "source": [
    "from itertools import chain\n",
    "a = [[[1,2],2,3],[4,5,6], [7], [8,9]]\n",
    "list(chain.from_iterable(a))"
   ]
  },
  {
   "cell_type": "code",
   "execution_count": 18,
   "metadata": {},
   "outputs": [
    {
     "output_type": "execute_result",
     "data": {
      "text/plain": [
       "[]"
      ]
     },
     "metadata": {},
     "execution_count": 18
    }
   ],
   "source": [
    "a[10:]"
   ]
  },
  {
   "source": [
    "## Cross Validation"
   ],
   "cell_type": "markdown",
   "metadata": {}
  },
  {
   "cell_type": "code",
   "execution_count": 21,
   "metadata": {},
   "outputs": [],
   "source": [
    "import time"
   ]
  },
  {
   "cell_type": "code",
   "execution_count": 22,
   "metadata": {},
   "outputs": [
    {
     "output_type": "stream",
     "name": "stdout",
     "text": [
      "9.40018892288208\n"
     ]
    }
   ],
   "source": [
    "begin = time.time()\n",
    "retPre = cv_pre_prune(folds, list(range(31)))\n",
    "end = time.time()\n",
    "\n",
    "print(end - begin)"
   ]
  },
  {
   "cell_type": "code",
   "execution_count": 23,
   "metadata": {},
   "outputs": [
    {
     "output_type": "stream",
     "name": "stdout",
     "text": [
      "7.951223611831665\n"
     ]
    }
   ],
   "source": [
    "begin = time.time()\n",
    "retPost = cv_post_prune(folds, list(range(0, 301, 20)))\n",
    "end = time.time()\n",
    "\n",
    "print(end - begin)"
   ]
  },
  {
   "cell_type": "code",
   "execution_count": 32,
   "metadata": {},
   "outputs": [
    {
     "output_type": "stream",
     "name": "stdout",
     "text": [
      "[0.31180654338549074, 0.40684566145092466, 0.4487908961593172, 0.504640825035562, 0.573470839260313, 0.5748044096728309, 0.5767425320056899, 0.5788229018492175, 0.5687233285917496, 0.558694879089616, 0.545857041251778, 0.5364687055476529, 0.5344594594594595, 0.5364864864864864, 0.5303876244665718, 0.5283428165007112, 0.5196301564722617, 0.518954480796586, 0.516927453769559, 0.5162517780938833, 0.5196301564722617, 0.5162517780938833, 0.5176031294452347, 0.5176031294452347, 0.5176031294452347, 0.5176031294452347, 0.5176031294452347, 0.5176031294452347, 0.516927453769559, 0.516927453769559, 0.516927453769559]\n"
     ]
    }
   ],
   "source": [
    "print(retPre[1])"
   ]
  },
  {
   "cell_type": "code",
   "execution_count": 35,
   "metadata": {},
   "outputs": [
    {
     "output_type": "stream",
     "name": "stdout",
     "text": [
      "[0.516927453769559, 0.5493243243243243, 0.5673719772403982, 0.5807965860597439, 0.5586237553342818, 0.555921052631579, 0.5525071123755335, 0.5518314366998578, 0.5504800853485065, 0.5565256045519203, 0.559228307254623, 0.550533428165007, 0.5498577524893313, 0.5390469416785205, 0.5275604551920341, 0.5275604551920341]\n"
     ]
    }
   ],
   "source": [
    "print(retPost[1])"
   ]
  },
  {
   "cell_type": "code",
   "execution_count": 27,
   "metadata": {},
   "outputs": [
    {
     "output_type": "execute_result",
     "data": {
      "text/plain": [
       "0.5788229018492175"
      ]
     },
     "metadata": {},
     "execution_count": 27
    }
   ],
   "source": [
    "max(retPre[1])"
   ]
  },
  {
   "cell_type": "code",
   "execution_count": 24,
   "metadata": {},
   "outputs": [
    {
     "output_type": "execute_result",
     "data": {
      "text/plain": [
       "7"
      ]
     },
     "metadata": {},
     "execution_count": 24
    }
   ],
   "source": [
    "retPre[1].index(max(retPre[1]))"
   ]
  },
  {
   "cell_type": "code",
   "execution_count": 28,
   "metadata": {},
   "outputs": [
    {
     "output_type": "execute_result",
     "data": {
      "text/plain": [
       "0.5807965860597439"
      ]
     },
     "metadata": {},
     "execution_count": 28
    }
   ],
   "source": [
    "max(retPost[1])"
   ]
  },
  {
   "cell_type": "code",
   "execution_count": 30,
   "metadata": {},
   "outputs": [
    {
     "output_type": "execute_result",
     "data": {
      "text/plain": [
       "60"
      ]
     },
     "metadata": {},
     "execution_count": 30
    }
   ],
   "source": [
    "retPost[1].index(max(retPost[1])) * 20"
   ]
  },
  {
   "cell_type": "code",
   "execution_count": null,
   "metadata": {},
   "outputs": [],
   "source": []
  }
 ]
}