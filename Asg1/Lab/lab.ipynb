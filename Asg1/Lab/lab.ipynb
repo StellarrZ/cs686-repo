{
 "metadata": {
  "language_info": {
   "codemirror_mode": {
    "name": "ipython",
    "version": 3
   },
   "file_extension": ".py",
   "mimetype": "text/x-python",
   "name": "python",
   "nbconvert_exporter": "python",
   "pygments_lexer": "ipython3",
   "version": "3.9.1"
  },
  "orig_nbformat": 2,
  "kernelspec": {
   "name": "python391jvsc74a57bd0574a1c2819c3ec06533f0418f786b330108676da94dc52c093b2cc730183afb0",
   "display_name": "Python 3.9.1 64-bit"
  },
  "metadata": {
   "interpreter": {
    "hash": "574a1c2819c3ec06533f0418f786b330108676da94dc52c093b2cc730183afb0"
   }
  }
 },
 "nbformat": 4,
 "nbformat_minor": 2,
 "cells": [
  {
   "cell_type": "code",
   "execution_count": 9,
   "metadata": {},
   "outputs": [],
   "source": [
    "class A:\n",
    "    def __init__(self, a, b):\n",
    "        self.a = a\n",
    "        self.b = b"
   ]
  },
  {
   "cell_type": "code",
   "execution_count": 10,
   "metadata": {},
   "outputs": [],
   "source": [
    "t = A(1, [1,2])"
   ]
  },
  {
   "cell_type": "code",
   "execution_count": 11,
   "metadata": {},
   "outputs": [
    {
     "output_type": "execute_result",
     "data": {
      "text/plain": [
       "1"
      ]
     },
     "metadata": {},
     "execution_count": 11
    }
   ],
   "source": [
    "t.a"
   ]
  },
  {
   "cell_type": "code",
   "execution_count": 12,
   "metadata": {},
   "outputs": [
    {
     "output_type": "execute_result",
     "data": {
      "text/plain": [
       "[1, 2]"
      ]
     },
     "metadata": {},
     "execution_count": 12
    }
   ],
   "source": [
    "t.b"
   ]
  },
  {
   "cell_type": "code",
   "execution_count": 13,
   "metadata": {},
   "outputs": [
    {
     "output_type": "execute_result",
     "data": {
      "text/plain": [
       "1"
      ]
     },
     "metadata": {},
     "execution_count": 13
    }
   ],
   "source": [
    "tt = A(t.a, t.b)\n",
    "tt.a"
   ]
  },
  {
   "cell_type": "code",
   "execution_count": 14,
   "metadata": {},
   "outputs": [
    {
     "output_type": "execute_result",
     "data": {
      "text/plain": [
       "2"
      ]
     },
     "metadata": {},
     "execution_count": 14
    }
   ],
   "source": [
    "tt.a += 1\n",
    "tt.a"
   ]
  },
  {
   "cell_type": "code",
   "execution_count": 15,
   "metadata": {},
   "outputs": [
    {
     "output_type": "execute_result",
     "data": {
      "text/plain": [
       "1"
      ]
     },
     "metadata": {},
     "execution_count": 15
    }
   ],
   "source": [
    "t.a"
   ]
  },
  {
   "cell_type": "code",
   "execution_count": 16,
   "metadata": {},
   "outputs": [
    {
     "output_type": "execute_result",
     "data": {
      "text/plain": [
       "[1, 2]"
      ]
     },
     "metadata": {},
     "execution_count": 16
    }
   ],
   "source": [
    "tt.b"
   ]
  },
  {
   "cell_type": "code",
   "execution_count": 17,
   "metadata": {},
   "outputs": [
    {
     "output_type": "execute_result",
     "data": {
      "text/plain": [
       "[1, 2, 15]"
      ]
     },
     "metadata": {},
     "execution_count": 17
    }
   ],
   "source": [
    "tt.b.append(15)\n",
    "tt.b"
   ]
  },
  {
   "cell_type": "code",
   "execution_count": 19,
   "metadata": {},
   "outputs": [
    {
     "output_type": "execute_result",
     "data": {
      "text/plain": [
       "[1, 2, 15]"
      ]
     },
     "metadata": {},
     "execution_count": 19
    }
   ],
   "source": [
    "t.b"
   ]
  },
  {
   "cell_type": "code",
   "execution_count": 21,
   "metadata": {},
   "outputs": [
    {
     "output_type": "execute_result",
     "data": {
      "text/plain": [
       "[3, 2, 1]"
      ]
     },
     "metadata": {},
     "execution_count": 21
    }
   ],
   "source": [
    "p = [1,2,3]\n",
    "p.reverse()\n",
    "p"
   ]
  },
  {
   "cell_type": "code",
   "execution_count": 22,
   "metadata": {},
   "outputs": [
    {
     "output_type": "execute_result",
     "data": {
      "text/plain": [
       "deque([])"
      ]
     },
     "metadata": {},
     "execution_count": 22
    }
   ],
   "source": [
    "from collections import deque\n",
    "o = deque()\n",
    "o"
   ]
  },
  {
   "cell_type": "code",
   "execution_count": 23,
   "metadata": {},
   "outputs": [
    {
     "output_type": "execute_result",
     "data": {
      "text/plain": [
       "deque([1])"
      ]
     },
     "metadata": {},
     "execution_count": 23
    }
   ],
   "source": [
    "o.appendleft(1)\n",
    "o"
   ]
  },
  {
   "cell_type": "code",
   "execution_count": 25,
   "metadata": {},
   "outputs": [
    {
     "output_type": "execute_result",
     "data": {
      "text/plain": [
       "[1]"
      ]
     },
     "metadata": {},
     "execution_count": 25
    }
   ],
   "source": [
    "list(o)"
   ]
  },
  {
   "cell_type": "code",
   "execution_count": 26,
   "metadata": {},
   "outputs": [],
   "source": [
    "for i in range(1 - 2):\n",
    "    print(\"ahha\")"
   ]
  },
  {
   "cell_type": "code",
   "execution_count": 28,
   "metadata": {},
   "outputs": [
    {
     "output_type": "execute_result",
     "data": {
      "text/plain": [
       "[3, 2, 1]"
      ]
     },
     "metadata": {},
     "execution_count": 28
    }
   ],
   "source": [
    "[1,2,3][::-1]"
   ]
  },
  {
   "cell_type": "code",
   "execution_count": 1,
   "metadata": {},
   "outputs": [
    {
     "output_type": "stream",
     "name": "stdout",
     "text": [
      "-5 6\n-4 5\n-3 4\n-2 3\n-1 2\n0 1\n"
     ]
    }
   ],
   "source": [
    "for i, ch in enumerate([1,2,3,4,5,6][::-1], -5):\n",
    "    print(i, ch)"
   ]
  },
  {
   "cell_type": "code",
   "execution_count": 1,
   "metadata": {},
   "outputs": [
    {
     "output_type": "execute_result",
     "data": {
      "text/plain": [
       "[2, 1]"
      ]
     },
     "metadata": {},
     "execution_count": 1
    }
   ],
   "source": [
    "[1,2,3][1::-1]"
   ]
  },
  {
   "cell_type": "code",
   "execution_count": 16,
   "metadata": {},
   "outputs": [],
   "source": [
    "class um:\n",
    "    def __init__(self, flag=False):\n",
    "        self.flag = flag\n",
    "    # def __repr__(self):\n",
    "    #     return str(self.flag)"
   ]
  },
  {
   "cell_type": "code",
   "execution_count": 17,
   "metadata": {},
   "outputs": [
    {
     "output_type": "execute_result",
     "data": {
      "text/plain": [
       "[<__main__.um at 0x1b3988b0fd0>,\n",
       " <__main__.um at 0x1b3988b0460>,\n",
       " <__main__.um at 0x1b3988b0070>]"
      ]
     },
     "metadata": {},
     "execution_count": 17
    }
   ],
   "source": [
    "l = [um(), um(True), um()]\n",
    "l"
   ]
  },
  {
   "cell_type": "code",
   "execution_count": 18,
   "metadata": {},
   "outputs": [
    {
     "output_type": "error",
     "ename": "TypeError",
     "evalue": "list.index() takes no keyword arguments",
     "traceback": [
      "\u001b[1;31m---------------------------------------------------------------------------\u001b[0m",
      "\u001b[1;31mTypeError\u001b[0m                                 Traceback (most recent call last)",
      "\u001b[1;32m<ipython-input-18-7b841df4b966>\u001b[0m in \u001b[0;36m<module>\u001b[1;34m\u001b[0m\n\u001b[1;32m----> 1\u001b[1;33m \u001b[0ml\u001b[0m\u001b[1;33m.\u001b[0m\u001b[0mindex\u001b[0m\u001b[1;33m(\u001b[0m\u001b[0mkey\u001b[0m\u001b[1;33m=\u001b[0m\u001b[1;32mlambda\u001b[0m \u001b[0mx\u001b[0m\u001b[1;33m:\u001b[0m \u001b[0mx\u001b[0m\u001b[1;33m.\u001b[0m\u001b[0mflag\u001b[0m \u001b[1;33m==\u001b[0m \u001b[1;32mTrue\u001b[0m\u001b[1;33m)\u001b[0m\u001b[1;33m\u001b[0m\u001b[1;33m\u001b[0m\u001b[0m\n\u001b[0m",
      "\u001b[1;31mTypeError\u001b[0m: list.index() takes no keyword arguments"
     ]
    }
   ],
   "source": [
    "l.index(key=lambda x: x.flag == True)"
   ]
  },
  {
   "cell_type": "code",
   "execution_count": 24,
   "metadata": {},
   "outputs": [
    {
     "output_type": "execute_result",
     "data": {
      "text/plain": [
       "1"
      ]
     },
     "metadata": {},
     "execution_count": 24
    }
   ],
   "source": [
    "l.index(tuple(filter(lambda x: x.flag == True, l))[0])"
   ]
  },
  {
   "cell_type": "code",
   "execution_count": 25,
   "metadata": {},
   "outputs": [
    {
     "output_type": "execute_result",
     "data": {
      "text/plain": [
       "1"
      ]
     },
     "metadata": {},
     "execution_count": 25
    }
   ],
   "source": [
    "next(i for i, x in enumerate(l) if x.flag == True)"
   ]
  },
  {
   "cell_type": "code",
   "execution_count": 28,
   "metadata": {},
   "outputs": [
    {
     "output_type": "execute_result",
     "data": {
      "text/plain": [
       "([1, 2, 3], [1])"
      ]
     },
     "metadata": {},
     "execution_count": 28
    }
   ],
   "source": [
    "([1,2] + \\\n",
    "[3],\n",
    "[1])"
   ]
  },
  {
   "cell_type": "code",
   "execution_count": 30,
   "metadata": {},
   "outputs": [],
   "source": [
    "from heapq import *\n",
    "heapify([])"
   ]
  },
  {
   "cell_type": "code",
   "execution_count": 31,
   "metadata": {},
   "outputs": [],
   "source": [
    "_, _, aaa = (1,2,3)"
   ]
  },
  {
   "cell_type": "code",
   "execution_count": 32,
   "metadata": {},
   "outputs": [
    {
     "output_type": "execute_result",
     "data": {
      "text/plain": [
       "3"
      ]
     },
     "metadata": {},
     "execution_count": 32
    }
   ],
   "source": [
    "aaa"
   ]
  },
  {
   "cell_type": "code",
   "execution_count": 33,
   "metadata": {},
   "outputs": [
    {
     "output_type": "execute_result",
     "data": {
      "text/plain": [
       "2"
      ]
     },
     "metadata": {},
     "execution_count": 33
    }
   ],
   "source": [
    "_"
   ]
  },
  {
   "cell_type": "code",
   "execution_count": 58,
   "metadata": {},
   "outputs": [],
   "source": [
    "g = ['.', '>', '.', '|', '.', '^']"
   ]
  },
  {
   "cell_type": "code",
   "execution_count": 59,
   "metadata": {},
   "outputs": [],
   "source": [
    "# g = ['.', '|', '.', '|', '.', '>']"
   ]
  },
  {
   "cell_type": "code",
   "execution_count": 62,
   "metadata": {},
   "outputs": [],
   "source": [
    "g = ['^', '>', '.', '.', '.', '.']"
   ]
  },
  {
   "cell_type": "code",
   "execution_count": 63,
   "metadata": {},
   "outputs": [
    {
     "output_type": "execute_result",
     "data": {
      "text/plain": [
       "0"
      ]
     },
     "metadata": {},
     "execution_count": 63
    }
   ],
   "source": [
    "rightEnd = g.index('>')\n",
    "5 - rightEnd - g[rightEnd:].count('.')"
   ]
  },
  {
   "cell_type": "code",
   "execution_count": 67,
   "metadata": {},
   "outputs": [
    {
     "output_type": "execute_result",
     "data": {
      "text/plain": [
       "1"
      ]
     },
     "metadata": {},
     "execution_count": 67
    }
   ],
   "source": [
    "rightEnd = g.index('>') + 1\n",
    "0 if rightEnd == 6 else 7 - rightEnd - g[rightEnd:].count('.')"
   ]
  },
  {
   "source": [
    "# Debug"
   ],
   "cell_type": "markdown",
   "metadata": {}
  },
  {
   "cell_type": "code",
   "execution_count": 70,
   "metadata": {},
   "outputs": [],
   "source": [
    "from typing import List\n",
    "\n",
    "class Car:\n",
    "    \"\"\"\n",
    "    Represents one car on the puzzle board.\n",
    "    \"\"\"\n",
    "\n",
    "    def __init__(self, coord_x: int, coord_y: int, orientation: str, length: int, is_goal: bool):\n",
    "        \"\"\"\n",
    "        Stores the car's location, orientation, length, \n",
    "        and whether it's the goal car or not.\n",
    "\n",
    "        The location of each car is the (x, y) coordinates of its \n",
    "        upper left corner. The x coordinate is its column position. \n",
    "        The y coordinate is its row position.\n",
    "\n",
    "        A car can move either horizontally or vertically.  Therefore, \n",
    "        for each car's location, one coordinate is fixed (fix_coord) and \n",
    "        the other coordinate (var_coord) can change when the car moves.\n",
    "        For example, for a horizontal car, the fixed coordinate is y and\n",
    "        the variable coordinate is x.\n",
    "\n",
    "        :param coord_x: The x coordinate of the car.\n",
    "        :type coord_x: int\n",
    "        :param coord_y: The y coordinate of the car\n",
    "        :type coord_y: int\n",
    "        :param orientation: The orientation of the car (one of 'h' or 'v')\n",
    "        :type orientation: str\n",
    "        :param length: The length of the car.\n",
    "        :type length: int\n",
    "        :param is_goal: True if the car is the goal car and False otherwise.\n",
    "        :type is_goal: bool\n",
    "        \"\"\"\n",
    "\n",
    "        # var_coord stores the value of the coordinate that CAN vary.\n",
    "        self.var_coord = coord_x if orientation == 'h' else coord_y\n",
    "\n",
    "        # fix_coord stores the value of the coordinate that CANNOT vary.\n",
    "        self.fix_coord = coord_x if orientation == 'v' else coord_y\n",
    "\n",
    "        self.orientation = orientation\n",
    "        self.length = length\n",
    "        self.is_goal = is_goal\n",
    "\n",
    "    def set_coord(self, coord):\n",
    "        \"\"\"\n",
    "        Update the var_coord of the car after moving.\n",
    "\n",
    "        :param coord: The new coordination after moving.\n",
    "        :type coord: int\n",
    "        \"\"\"\n",
    "\n",
    "        self.var_coord = coord\n",
    "\n",
    "\n",
    "class Board:\n",
    "    \"\"\"\n",
    "    Represents the puzzle board.\n",
    "\n",
    "    \"\"\"\n",
    "\n",
    "    def __init__(self, name: str, size: int, cars: List[Car]):\n",
    "        \"\"\"\n",
    "        Stores the board's name, board's size and the list of cars on the board.\n",
    "\n",
    "        :param name: The name of the board.\n",
    "        :type name: str\n",
    "        :param size: The side length of the square board.\n",
    "        :type size: int\n",
    "        :param cars: The list of Cars\n",
    "        :type cars: List[Car]\n",
    "        \"\"\"\n",
    "\n",
    "        self.name = name\n",
    "        self.size = size\n",
    "        self.cars = cars\n",
    "\n",
    "        # When creating the board, the constructor automatically \n",
    "        # creates a grid. The grid is a 2-d (size * size) array\n",
    "        # containing symbols to represent the content of the board.\n",
    "        # The grid is used to display the board.\n",
    "        # You may also want to use the grid to determine\n",
    "        # whether a move is legal or not.\n",
    "        self.grid = []\n",
    "        self.__exit_info = None\n",
    "        self.__construct_grid()\n",
    "\n",
    "    # customized eq for object comparison.\n",
    "    def __eq__(self, other):\n",
    "        if isinstance(other, Board):\n",
    "            return self.grid == other.grid\n",
    "        return False\n",
    "\n",
    "    # customized hash for hashing an object.\n",
    "    def __hash__(self):\n",
    "        return hash(tuple(map(tuple, self.grid)))\n",
    "\n",
    "    def __construct_grid(self):\n",
    "        \"\"\"\n",
    "        Called in __init__ to set up a 2-d grid based on car location information.\n",
    "\n",
    "        \"\"\"\n",
    "\n",
    "        for i in range(self.size):\n",
    "            line = []\n",
    "            for j in range(self.size):\n",
    "                line.append('.')\n",
    "            self.grid.append(line)\n",
    "        for car in self.cars:\n",
    "            if car.orientation == 'h':\n",
    "                self.grid[car.fix_coord][car.var_coord] = '<'\n",
    "                for i in range(car.length - 2):\n",
    "                    self.grid[car.fix_coord][car.var_coord + i + 1] = '-'\n",
    "                self.grid[car.fix_coord][car.var_coord + car.length - 1] = '>'\n",
    "            elif car.orientation == 'v':\n",
    "                self.grid[car.var_coord][car.fix_coord] = '^'\n",
    "                for i in range(car.length - 2):\n",
    "                    self.grid[car.var_coord + i + 1][car.fix_coord] = '|'\n",
    "                self.grid[car.var_coord + car.length - 1][car.fix_coord] = 'v'\n",
    "            if car.is_goal:\n",
    "                self.__exit_info = (car.fix_coord, car.orientation)\n",
    "\n",
    "    def display(self):\n",
    "        \"\"\"\n",
    "        Prints out the board in a human readable format.\n",
    "        \"\"\"\n",
    "\n",
    "        def print_cap(exit_col=None):\n",
    "            print('+', end='')\n",
    "            for i in range(self.size * 2 + 1):\n",
    "                if int(i / 2) == exit_col:\n",
    "                    print(' ', end='')\n",
    "                else:\n",
    "                    print('-', end='')\n",
    "            print('+')\n",
    "\n",
    "        def print_grid_line(line, exit_line=None):\n",
    "            print('|', end='')\n",
    "            for i in range(self.size * 2):\n",
    "                if i % 2 == 0:\n",
    "                    print(' ', end='')\n",
    "                else:\n",
    "                    print(line[int(i / 2)], end='')\n",
    "            print(' ', end='')\n",
    "            if exit_line is None:\n",
    "                print('|')\n",
    "            else:\n",
    "                print(' ')\n",
    "\n",
    "        print_cap()\n",
    "        for i, line in enumerate(self.grid):\n",
    "            if self.__exit_info[1] == 'h' and i == self.__exit_info[0]:\n",
    "                print_grid_line(line, self.__exit_info[0])\n",
    "            else:\n",
    "                print_grid_line(line)\n",
    "        print_cap(self.__exit_info[0] if self.__exit_info[1] == 'v' else None)\n",
    "\n",
    "\n",
    "class State:\n",
    "    \"\"\"\n",
    "    State class wrapping a Board with some extra current state information.\n",
    "    Note that State and Board are different. Board has the locations of the cars. \n",
    "    State has a Board and some extra information that is relevant to the search: \n",
    "    heuristic function, f value, current depth and parent.\n",
    "    \"\"\"\n",
    "\n",
    "    def __init__(self, board: Board, hfn, f: int, depth: int, parent=None):\n",
    "        \"\"\"\n",
    "        :param board: The board of the state.\n",
    "        :type board: Board\n",
    "        :param hfn: The heuristic function.\n",
    "        :type hfn: Optional[Heuristic]\n",
    "        :param f: The f value of current state.\n",
    "        :type f: int\n",
    "        :param depth: The depth of current state in the search tree. Depth of the root node is 0.\n",
    "        :type depth: int\n",
    "        :param parent: The parent of current state.\n",
    "        :type parent: Optional[State]\n",
    "        \"\"\"\n",
    "        self.board = board\n",
    "        self.hfn = hfn\n",
    "        self.f = f\n",
    "        self.depth = depth\n",
    "        self.parent = parent\n",
    "        self.id = hash(board)  # The id for breaking ties.\n",
    "\n",
    "    # customized eq for object comparison.\n",
    "    def __eq__(self, other):\n",
    "        if isinstance(other, State):\n",
    "            return self.f == other.f and self.id == other.id\n",
    "        return False\n",
    "\n",
    "    # customized lt for object comparison.\n",
    "    def __lt__(self, other):\n",
    "        return self.f < other.f\n",
    "\n",
    "\n",
    "def zero_heuristic(board: Board):\n",
    "    \"\"\"\n",
    "    Simply return zero for any state.\n",
    "    \"\"\"\n",
    "\n",
    "    return 0\n",
    "\n",
    "\n",
    "def from_file(filename: str) -> List[Board]:\n",
    "    \"\"\"\n",
    "    Reads in all the puzzles in the given file \n",
    "    and returns a list of the initial boards \n",
    "    for all the puzzles. \n",
    "    \n",
    "    :param filename: The name of the given file.\n",
    "    :type filename: str\n",
    "    :return: A list of loaded Boards.\n",
    "    :rtype: List[Board]\n",
    "    \"\"\"\n",
    "\n",
    "    puzzle_file = open(filename, \"r\")\n",
    "    counter = 0\n",
    "    board_size = 0\n",
    "    board_name = \"\"\n",
    "    cars = []\n",
    "    boards = []\n",
    "    for line in puzzle_file:\n",
    "        if line.split()[0] == \".\":\n",
    "            boards.append(Board(board_name, board_size, cars))\n",
    "            counter = 0\n",
    "            cars = []\n",
    "            continue\n",
    "        if counter == 0: # first line has name of puzzle\n",
    "            board_name = line\n",
    "        elif counter == 1: # second line has board size\n",
    "            board_size = int(line)\n",
    "        else: # the following lines describe cars\n",
    "            car_info = line.split()\n",
    "            car_info = [int(x) if i != 2 else x for i, x in enumerate(car_info)]\n",
    "            car_info.append(True if counter == 2 else False)\n",
    "            cars.append(Car(*car_info))\n",
    "        counter += 1\n",
    "    puzzle_file.close()\n",
    "    return boards\n"
   ]
  },
  {
   "cell_type": "code",
   "execution_count": 79,
   "metadata": {},
   "outputs": [],
   "source": [
    "def blocking_heuristic(board):\n",
    "    \"\"\"\n",
    "    Returns the heuristic value for the given board\n",
    "    based on the Blocking Heuristic function.\n",
    "\n",
    "    Blocking heuristic returns zero at any goal board,\n",
    "    and returns one plus the number of cars directly\n",
    "    blocking the goal car in all other states.\n",
    "\n",
    "    :param board: The current board.\n",
    "    :type board: Board\n",
    "    :return: The heuristic value.\n",
    "    :rtype: int\n",
    "    \"\"\"\n",
    "    rightEnd = board.grid[2].index('>') + 1\n",
    "    print(rightEnd)\n",
    "    print(board.grid[2][rightEnd:].count('.'))\n",
    "    return 0 if rightEnd == board.size else 7 - rightEnd - board.grid[2][rightEnd:].count('.')"
   ]
  },
  {
   "cell_type": "code",
   "execution_count": 80,
   "metadata": {},
   "outputs": [],
   "source": [
    "def advanced_heuristic(board):\n",
    "    \"\"\"\n",
    "    An advanced heuristic of your own choosing and invention.\n",
    "\n",
    "    :param board: The current board.\n",
    "    :type board: Board\n",
    "    :return: The heuristic value.\n",
    "    :rtype: int\n",
    "    \"\"\"\n",
    "    rightEnd = board.grid[2].index('>') + 1\n",
    "    if rightEnd == board.size:\n",
    "        return 0\n",
    "\n",
    "    ret = 1\n",
    "    for j, ch in enumerate(board.grid[2][rightEnd:], rightEnd):\n",
    "        if ch != '.':\n",
    "            cnt = 0\n",
    "            for i in range(6):\n",
    "                if board.grid[i][j] == '.':\n",
    "                    cnt += 1\n",
    "\n",
    "            if ch == '|':\n",
    "                ret += 3 - min(2, cnt)\n",
    "            else:\n",
    "                ret += 2 - min(1, cnt)\n",
    "    \n",
    "    return ret"
   ]
  },
  {
   "cell_type": "code",
   "execution_count": 77,
   "metadata": {},
   "outputs": [],
   "source": [
    "boards = from_file(r'X:\\University of Waterloo\\2021 Spring\\CS 686\\cs686-repo\\Asg1\\jams_posted.txt')"
   ]
  },
  {
   "cell_type": "code",
   "execution_count": 81,
   "metadata": {},
   "outputs": [
    {
     "output_type": "stream",
     "name": "stdout",
     "text": [
      "5\n0\n"
     ]
    },
    {
     "output_type": "execute_result",
     "data": {
      "text/plain": [
       "2"
      ]
     },
     "metadata": {},
     "execution_count": 81
    }
   ],
   "source": [
    "blocking_heuristic(boards[12])"
   ]
  },
  {
   "cell_type": "code",
   "execution_count": 73,
   "metadata": {},
   "outputs": [
    {
     "output_type": "execute_result",
     "data": {
      "text/plain": [
       "3"
      ]
     },
     "metadata": {},
     "execution_count": 73
    }
   ],
   "source": [
    "advanced_heuristic(boards[12])"
   ]
  },
  {
   "cell_type": "code",
   "execution_count": null,
   "metadata": {},
   "outputs": [],
   "source": []
  }
 ]
}